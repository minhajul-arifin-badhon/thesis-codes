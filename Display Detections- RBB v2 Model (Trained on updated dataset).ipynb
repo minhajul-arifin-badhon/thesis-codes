{
 "cells": [
  {
   "cell_type": "code",
   "execution_count": null,
   "metadata": {},
   "outputs": [],
   "source": [
    "import os\n",
    "import cv2\n",
    "import pandas as pd\n",
    "import numpy as np\n",
    "import matplotlib.pyplot as plt\n",
    "import matplotlib.patches as patches\n",
    "from sklearn.metrics import r2_score\n",
    "from IPython.display import display, HTML\n",
    "\n",
    "import sys\n",
    "sys.path.append('/home/badhon/Documents/thesis/thesis-codes/')\n",
    "from helpers import utils\n",
    "from helpers import evaluation\n",
    "from classes.WheatDataset import WheatDataset\n",
    "from classes.Evaluator import Evaluator\n",
    "\n",
    "%matplotlib inline"
   ]
  },
  {
   "cell_type": "markdown",
   "metadata": {},
   "source": [
    "#### Define some paths"
   ]
  },
  {
   "cell_type": "code",
   "execution_count": null,
   "metadata": {},
   "outputs": [],
   "source": [
    "path_config = '/home/badhon/Documents/thesis/AerialDetection/configs/my/faster_rcnn_RoITrans_r50_fpn_1x_dota1_5.py'\n",
    "path_work_dir = '/media/badhon/Najia/work_dir/faster_rcnn_RoITrans_r50_fpn_1x_dota1_5_v2'\n",
    "\n",
    "path_images = \"/home/badhon/Documents/thesis/Data and Scripts from AL/global-WHEAT-final/train/usas_minipam/\"\n",
    "path_splits = \"/home/badhon/Documents/thesis/AerialDetection/data/wheat_competition/\"\n",
    "path_test_images = path_splits + 'test/images/'\n",
    "\n",
    "path_test_rbb_gt = path_splits + 'test/r_test.csv'"
   ]
  },
  {
   "cell_type": "markdown",
   "metadata": {},
   "source": [
    "## Display Detections: RBB Model (Epoch 30) Against RBB Ground Truth"
   ]
  },
  {
   "cell_type": "markdown",
   "metadata": {},
   "source": [
    "#### Get rotated bounding boxes (ground truth)"
   ]
  },
  {
   "cell_type": "code",
   "execution_count": null,
   "metadata": {},
   "outputs": [],
   "source": [
    "df_rbb = pd.read_csv(path_test_rbb_gt)"
   ]
  },
  {
   "cell_type": "code",
   "execution_count": null,
   "metadata": {},
   "outputs": [],
   "source": [
    "all_rgts = {}\n",
    "for filename in os.listdir(path_test_images)[:]:\n",
    "    all_rgts[filename] = df_rbb[df_rbb['filename'] == filename].to_numpy()[:,-8:]"
   ]
  },
  {
   "cell_type": "markdown",
   "metadata": {},
   "source": [
    "#### Create Evaluator"
   ]
  },
  {
   "cell_type": "code",
   "execution_count": null,
   "metadata": {},
   "outputs": [],
   "source": [
    "rbb_evaluator = Evaluator(path_config, path_work_dir, 30)"
   ]
  },
  {
   "cell_type": "markdown",
   "metadata": {},
   "source": [
    "#### Check detections per image against old rotated ground truths"
   ]
  },
  {
   "cell_type": "code",
   "execution_count": null,
   "metadata": {
    "scrolled": false
   },
   "outputs": [],
   "source": [
    "for filename in os.listdir(path_test_images)[:]:\n",
    "    path_image = os.path.join(path_test_images, filename)\n",
    "    detections = rbb_evaluator.predict_single_image(path_image)\n",
    "    utils.match_detections(np.array(all_rgts[filename]), detections, 0.5, True, path_image)"
   ]
  },
  {
   "cell_type": "code",
   "execution_count": null,
   "metadata": {},
   "outputs": [],
   "source": []
  },
  {
   "cell_type": "code",
   "execution_count": null,
   "metadata": {},
   "outputs": [],
   "source": []
  }
 ],
 "metadata": {
  "kernelspec": {
   "display_name": "Python 3",
   "language": "python",
   "name": "python3"
  },
  "language_info": {
   "codemirror_mode": {
    "name": "ipython",
    "version": 3
   },
   "file_extension": ".py",
   "mimetype": "text/x-python",
   "name": "python",
   "nbconvert_exporter": "python",
   "pygments_lexer": "ipython3",
   "version": "3.7.4"
  }
 },
 "nbformat": 4,
 "nbformat_minor": 4
}
