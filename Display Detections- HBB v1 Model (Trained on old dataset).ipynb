{
 "cells": [
  {
   "cell_type": "code",
   "execution_count": null,
   "metadata": {},
   "outputs": [],
   "source": [
    "import os\n",
    "import cv2\n",
    "import pandas as pd\n",
    "import numpy as np\n",
    "import matplotlib.pyplot as plt\n",
    "import matplotlib.patches as patches\n",
    "from sklearn.metrics import r2_score\n",
    "from IPython.display import display, HTML\n",
    "\n",
    "import sys\n",
    "sys.path.append('/home/badhon/Documents/thesis/thesis-codes/')\n",
    "from helpers import utils\n",
    "from helpers import evaluation\n",
    "from classes.WheatDataset import WheatDataset\n",
    "from classes.Evaluator import Evaluator\n",
    "\n",
    "%matplotlib inline"
   ]
  },
  {
   "cell_type": "markdown",
   "metadata": {},
   "source": [
    "#### Define some paths"
   ]
  },
  {
   "cell_type": "code",
   "execution_count": null,
   "metadata": {},
   "outputs": [],
   "source": [
    "path_config = '/home/badhon/Documents/thesis/AerialDetection/configs/my/faster_rcnn_r50_fpn_1x_dota1_5.py'\n",
    "path_work_dir = '/home/badhon/Documents/thesis/AerialDetection/work_dirs/faster_rcnn_r50_fpn_1x_dota1_5'\n",
    "\n",
    "path_images = \"/home/badhon/Documents/thesis/Data and Scripts from AL/global-WHEAT-final/train/usas_minipam/\"\n",
    "path_splits = \"/home/badhon/Documents/thesis/AerialDetection/data/wheat_competition/\"\n",
    "path_test_images = path_splits + 'test/images/'\n",
    "\n",
    "path_updated_test_json = path_splits + \"test/test.json\"\n",
    "path_old_test_json = (\n",
    "    \"/home/badhon/Documents/thesis/AerialDetection/data/wheat/test/test_hbb.json\"\n",
    ")"
   ]
  },
  {
   "cell_type": "markdown",
   "metadata": {},
   "source": [
    "## Display Detections: HBB Model (Epoch 2000) Against Updated HBB Ground Truth"
   ]
  },
  {
   "cell_type": "markdown",
   "metadata": {},
   "source": [
    "#### Get Updated bounding boxes (ground truth)"
   ]
  },
  {
   "cell_type": "code",
   "execution_count": null,
   "metadata": {},
   "outputs": [],
   "source": [
    "test_dataset = WheatDataset(path_updated_test_json, path_images)\n",
    "test_dataset.load_dataset()"
   ]
  },
  {
   "cell_type": "code",
   "execution_count": null,
   "metadata": {},
   "outputs": [],
   "source": [
    "all_gts = test_dataset.get_dataset_bboxes('XYP')"
   ]
  },
  {
   "cell_type": "markdown",
   "metadata": {},
   "source": [
    "#### Create Evaluator"
   ]
  },
  {
   "cell_type": "code",
   "execution_count": null,
   "metadata": {},
   "outputs": [],
   "source": [
    "hbb_evaluator = Evaluator(path_config, path_work_dir, 2000)"
   ]
  },
  {
   "cell_type": "markdown",
   "metadata": {},
   "source": [
    "#### Check detections per image against updated hbb ground truths"
   ]
  },
  {
   "cell_type": "code",
   "execution_count": null,
   "metadata": {},
   "outputs": [],
   "source": [
    "for filename in os.listdir(path_test_images)[:]:\n",
    "    path_image = os.path.join(path_test_images, filename)\n",
    "    detections = hbb_evaluator.predict_single_image(path_image)\n",
    "    utils.match_detections(np.array(all_gts[filename]), detections, 0.5, True, path_image)"
   ]
  },
  {
   "cell_type": "markdown",
   "metadata": {},
   "source": [
    "## Display Detections: HBB Model (Epoch 2000) Against Old HBB Ground Truth"
   ]
  },
  {
   "cell_type": "markdown",
   "metadata": {},
   "source": [
    "#### Get old bounding boxes (ground truth)"
   ]
  },
  {
   "cell_type": "code",
   "execution_count": null,
   "metadata": {},
   "outputs": [],
   "source": [
    "test_dataset_old = WheatDataset(path_old_test_json, path_images)\n",
    "test_dataset_old.load_dataset()"
   ]
  },
  {
   "cell_type": "code",
   "execution_count": null,
   "metadata": {},
   "outputs": [],
   "source": [
    "all_gts_old = test_dataset_old.get_dataset_bboxes('XYP')"
   ]
  },
  {
   "cell_type": "markdown",
   "metadata": {},
   "source": [
    "#### Check detections per image against old hbb ground truths"
   ]
  },
  {
   "cell_type": "code",
   "execution_count": null,
   "metadata": {},
   "outputs": [],
   "source": [
    "for filename in os.listdir(path_test_images)[:15]: # decresing to 15 to allow to push to github. Each files max size: 50mb\n",
    "    path_image = os.path.join(path_test_images, filename)\n",
    "    detections = hbb_evaluator.predict_single_image(path_image)\n",
    "    utils.match_detections(np.array(all_gts_old[filename]), detections, 0.5, True, path_image)"
   ]
  },
  {
   "cell_type": "code",
   "execution_count": null,
   "metadata": {},
   "outputs": [],
   "source": []
  }
 ],
 "metadata": {
  "kernelspec": {
   "display_name": "Python 3",
   "language": "python",
   "name": "python3"
  },
  "language_info": {
   "codemirror_mode": {
    "name": "ipython",
    "version": 3
   },
   "file_extension": ".py",
   "mimetype": "text/x-python",
   "name": "python",
   "nbconvert_exporter": "python",
   "pygments_lexer": "ipython3",
   "version": "3.7.6"
  }
 },
 "nbformat": 4,
 "nbformat_minor": 4
}
