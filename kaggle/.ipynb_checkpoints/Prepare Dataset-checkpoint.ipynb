{
 "cells": [
  {
   "cell_type": "code",
   "execution_count": 1,
   "metadata": {},
   "outputs": [
    {
     "data": {
      "application/javascript": [
       "\n",
       "            setTimeout(function() {\n",
       "                var nbb_cell_id = 1;\n",
       "                var nbb_unformatted_code = \"%load_ext nb_black\\n# https://medium.com/openplanetary/code-formatting-in-jupyter-cells-8fee4eda072f\";\n",
       "                var nbb_formatted_code = \"%load_ext nb_black\\n# https://medium.com/openplanetary/code-formatting-in-jupyter-cells-8fee4eda072f\";\n",
       "                var nbb_cells = Jupyter.notebook.get_cells();\n",
       "                for (var i = 0; i < nbb_cells.length; ++i) {\n",
       "                    if (nbb_cells[i].input_prompt_number == nbb_cell_id) {\n",
       "                        if (nbb_cells[i].get_text() == nbb_unformatted_code) {\n",
       "                             nbb_cells[i].set_text(nbb_formatted_code);\n",
       "                        }\n",
       "                        break;\n",
       "                    }\n",
       "                }\n",
       "            }, 500);\n",
       "            "
      ],
      "text/plain": [
       "<IPython.core.display.Javascript object>"
      ]
     },
     "metadata": {},
     "output_type": "display_data"
    }
   ],
   "source": [
    "%load_ext nb_black\n",
    "# https://medium.com/openplanetary/code-formatting-in-jupyter-cells-8fee4eda072f"
   ]
  },
  {
   "cell_type": "markdown",
   "metadata": {},
   "source": [
    "## Prepare Train, Test and Validation set"
   ]
  },
  {
   "cell_type": "code",
   "execution_count": 8,
   "metadata": {},
   "outputs": [
    {
     "data": {
      "application/javascript": [
       "\n",
       "            setTimeout(function() {\n",
       "                var nbb_cell_id = 8;\n",
       "                var nbb_unformatted_code = \"import os\\nimport pandas as pd\\nimport numpy as np\\nimport json\\nimport mmcv\\nimport itertools\\nimport shutil\\nimport matplotlib.pyplot as plt\\nimport matplotlib.patches as patches\\nimport sys\\nimport re\\n\\nfrom collections import defaultdict\\nfrom PIL import Image\\nfrom IPython.display import display, HTML\\n\\nsys.path.append(\\\"/home/badhon/Documents/thesis/thesis-codes/\\\")\\nfrom classes.WheatDataset import WheatDataset\\nfrom helpers import utils\\n\\n%matplotlib inline\";\n",
       "                var nbb_formatted_code = \"import os\\nimport pandas as pd\\nimport numpy as np\\nimport json\\nimport mmcv\\nimport itertools\\nimport shutil\\nimport matplotlib.pyplot as plt\\nimport matplotlib.patches as patches\\nimport sys\\nimport re\\n\\nfrom collections import defaultdict\\nfrom PIL import Image\\nfrom IPython.display import display, HTML\\n\\nsys.path.append(\\\"/home/badhon/Documents/thesis/thesis-codes/\\\")\\nfrom classes.WheatDataset import WheatDataset\\nfrom helpers import utils\\n\\n%matplotlib inline\";\n",
       "                var nbb_cells = Jupyter.notebook.get_cells();\n",
       "                for (var i = 0; i < nbb_cells.length; ++i) {\n",
       "                    if (nbb_cells[i].input_prompt_number == nbb_cell_id) {\n",
       "                        if (nbb_cells[i].get_text() == nbb_unformatted_code) {\n",
       "                             nbb_cells[i].set_text(nbb_formatted_code);\n",
       "                        }\n",
       "                        break;\n",
       "                    }\n",
       "                }\n",
       "            }, 500);\n",
       "            "
      ],
      "text/plain": [
       "<IPython.core.display.Javascript object>"
      ]
     },
     "metadata": {},
     "output_type": "display_data"
    }
   ],
   "source": [
    "import os\n",
    "import pandas as pd\n",
    "import numpy as np\n",
    "import json\n",
    "import mmcv\n",
    "import itertools\n",
    "import shutil\n",
    "import matplotlib.pyplot as plt\n",
    "import matplotlib.patches as patches\n",
    "import sys\n",
    "import re\n",
    "\n",
    "from collections import defaultdict\n",
    "from PIL import Image\n",
    "from IPython.display import display, HTML\n",
    "\n",
    "sys.path.append(\"/home/badhon/Documents/thesis/thesis-codes/\")\n",
    "from classes.WheatDataset import WheatDataset\n",
    "from helpers import utils\n",
    "\n",
    "%matplotlib inline"
   ]
  },
  {
   "cell_type": "markdown",
   "metadata": {},
   "source": [
    "#### Define some paths"
   ]
  },
  {
   "cell_type": "code",
   "execution_count": 4,
   "metadata": {},
   "outputs": [
    {
     "data": {
      "application/javascript": [
       "\n",
       "            setTimeout(function() {\n",
       "                var nbb_cell_id = 4;\n",
       "                var nbb_unformatted_code = \"path_splits = \\\"/home/badhon/Documents/thesis/AerialDetection/data/wheat_kaggle/\\\"\\npath_train_images = path_splits + \\\"train/images/\\\"\\npath_test_images = path_splits + \\\"test/images/\\\"\\n\\npath_csv = path_splits + \\\"train.csv\\\"\";\n",
       "                var nbb_formatted_code = \"path_splits = \\\"/home/badhon/Documents/thesis/AerialDetection/data/wheat_kaggle/\\\"\\npath_train_images = path_splits + \\\"train/images/\\\"\\npath_test_images = path_splits + \\\"test/images/\\\"\\n\\npath_csv = path_splits + \\\"train.csv\\\"\";\n",
       "                var nbb_cells = Jupyter.notebook.get_cells();\n",
       "                for (var i = 0; i < nbb_cells.length; ++i) {\n",
       "                    if (nbb_cells[i].input_prompt_number == nbb_cell_id) {\n",
       "                        if (nbb_cells[i].get_text() == nbb_unformatted_code) {\n",
       "                             nbb_cells[i].set_text(nbb_formatted_code);\n",
       "                        }\n",
       "                        break;\n",
       "                    }\n",
       "                }\n",
       "            }, 500);\n",
       "            "
      ],
      "text/plain": [
       "<IPython.core.display.Javascript object>"
      ]
     },
     "metadata": {},
     "output_type": "display_data"
    }
   ],
   "source": [
    "path_splits = \"/home/badhon/Documents/thesis/AerialDetection/data/wheat_kaggle/\"\n",
    "path_train_images = path_splits + \"train/images/\"\n",
    "path_test_images = path_splits + \"test/images/\"\n",
    "\n",
    "path_csv = path_splits + \"train.csv\""
   ]
  },
  {
   "cell_type": "markdown",
   "metadata": {},
   "source": [
    "#### Generate train.json file"
   ]
  },
  {
   "cell_type": "code",
   "execution_count": 6,
   "metadata": {},
   "outputs": [
    {
     "data": {
      "application/javascript": [
       "\n",
       "            setTimeout(function() {\n",
       "                var nbb_cell_id = 6;\n",
       "                var nbb_unformatted_code = \"train_df = pd.read_csv(path_csv)\";\n",
       "                var nbb_formatted_code = \"train_df = pd.read_csv(path_csv)\";\n",
       "                var nbb_cells = Jupyter.notebook.get_cells();\n",
       "                for (var i = 0; i < nbb_cells.length; ++i) {\n",
       "                    if (nbb_cells[i].input_prompt_number == nbb_cell_id) {\n",
       "                        if (nbb_cells[i].get_text() == nbb_unformatted_code) {\n",
       "                             nbb_cells[i].set_text(nbb_formatted_code);\n",
       "                        }\n",
       "                        break;\n",
       "                    }\n",
       "                }\n",
       "            }, 500);\n",
       "            "
      ],
      "text/plain": [
       "<IPython.core.display.Javascript object>"
      ]
     },
     "metadata": {},
     "output_type": "display_data"
    }
   ],
   "source": [
    "train_df = pd.read_csv(path_csv)"
   ]
  },
  {
   "cell_type": "code",
   "execution_count": 9,
   "metadata": {},
   "outputs": [
    {
     "data": {
      "application/javascript": [
       "\n",
       "            setTimeout(function() {\n",
       "                var nbb_cell_id = 9;\n",
       "                var nbb_unformatted_code = \"train_df[\\\"x\\\"] = -1\\ntrain_df[\\\"y\\\"] = -1\\ntrain_df[\\\"w\\\"] = -1\\ntrain_df[\\\"h\\\"] = -1\\n\\n\\ndef expand_bbox(x):\\n    r = np.array(re.findall(\\\"([0-9]+[.]?[0-9]*)\\\", x))\\n    if len(r) == 0:\\n        r = [-1, -1, -1, -1]\\n    return r\\n\\n\\ntrain_df[[\\\"x\\\", \\\"y\\\", \\\"w\\\", \\\"h\\\"]] = np.stack(\\n    train_df[\\\"bbox\\\"].apply(lambda x: expand_bbox(x))\\n)\\ntrain_df.drop(columns=[\\\"bbox\\\"], inplace=True)\\ntrain_df[\\\"x\\\"] = train_df[\\\"x\\\"].astype(np.float)\\ntrain_df[\\\"y\\\"] = train_df[\\\"y\\\"].astype(np.float)\\ntrain_df[\\\"w\\\"] = train_df[\\\"w\\\"].astype(np.float)\\ntrain_df[\\\"h\\\"] = train_df[\\\"h\\\"].astype(np.float)\";\n",
       "                var nbb_formatted_code = \"train_df[\\\"x\\\"] = -1\\ntrain_df[\\\"y\\\"] = -1\\ntrain_df[\\\"w\\\"] = -1\\ntrain_df[\\\"h\\\"] = -1\\n\\n\\ndef expand_bbox(x):\\n    r = np.array(re.findall(\\\"([0-9]+[.]?[0-9]*)\\\", x))\\n    if len(r) == 0:\\n        r = [-1, -1, -1, -1]\\n    return r\\n\\n\\ntrain_df[[\\\"x\\\", \\\"y\\\", \\\"w\\\", \\\"h\\\"]] = np.stack(\\n    train_df[\\\"bbox\\\"].apply(lambda x: expand_bbox(x))\\n)\\ntrain_df.drop(columns=[\\\"bbox\\\"], inplace=True)\\ntrain_df[\\\"x\\\"] = train_df[\\\"x\\\"].astype(np.float)\\ntrain_df[\\\"y\\\"] = train_df[\\\"y\\\"].astype(np.float)\\ntrain_df[\\\"w\\\"] = train_df[\\\"w\\\"].astype(np.float)\\ntrain_df[\\\"h\\\"] = train_df[\\\"h\\\"].astype(np.float)\";\n",
       "                var nbb_cells = Jupyter.notebook.get_cells();\n",
       "                for (var i = 0; i < nbb_cells.length; ++i) {\n",
       "                    if (nbb_cells[i].input_prompt_number == nbb_cell_id) {\n",
       "                        if (nbb_cells[i].get_text() == nbb_unformatted_code) {\n",
       "                             nbb_cells[i].set_text(nbb_formatted_code);\n",
       "                        }\n",
       "                        break;\n",
       "                    }\n",
       "                }\n",
       "            }, 500);\n",
       "            "
      ],
      "text/plain": [
       "<IPython.core.display.Javascript object>"
      ]
     },
     "metadata": {},
     "output_type": "display_data"
    }
   ],
   "source": [
    "train_df[\"x\"] = -1\n",
    "train_df[\"y\"] = -1\n",
    "train_df[\"w\"] = -1\n",
    "train_df[\"h\"] = -1\n",
    "\n",
    "\n",
    "def expand_bbox(x):\n",
    "    r = np.array(re.findall(\"([0-9]+[.]?[0-9]*)\", x))\n",
    "    if len(r) == 0:\n",
    "        r = [-1, -1, -1, -1]\n",
    "    return r\n",
    "\n",
    "\n",
    "train_df[[\"x\", \"y\", \"w\", \"h\"]] = np.stack(\n",
    "    train_df[\"bbox\"].apply(lambda x: expand_bbox(x))\n",
    ")\n",
    "train_df.drop(columns=[\"bbox\"], inplace=True)\n",
    "train_df[\"x\"] = train_df[\"x\"].astype(np.float)\n",
    "train_df[\"y\"] = train_df[\"y\"].astype(np.float)\n",
    "train_df[\"w\"] = train_df[\"w\"].astype(np.float)\n",
    "train_df[\"h\"] = train_df[\"h\"].astype(np.float)"
   ]
  },
  {
   "cell_type": "code",
   "execution_count": 10,
   "metadata": {},
   "outputs": [
    {
     "name": "stdout",
     "output_type": "stream",
     "text": [
      "    image_id  width  height   source      x      y      w      h\n",
      "0  b6ab77fd7   1024    1024  usask_1  834.0  222.0   56.0   36.0\n",
      "1  b6ab77fd7   1024    1024  usask_1  226.0  548.0  130.0   58.0\n",
      "2  b6ab77fd7   1024    1024  usask_1  377.0  504.0   74.0  160.0\n",
      "3  b6ab77fd7   1024    1024  usask_1  834.0   95.0  109.0  107.0\n",
      "4  b6ab77fd7   1024    1024  usask_1   26.0  144.0  124.0  117.0\n"
     ]
    },
    {
     "data": {
      "application/javascript": [
       "\n",
       "            setTimeout(function() {\n",
       "                var nbb_cell_id = 10;\n",
       "                var nbb_unformatted_code = \"print(train_df.head())\";\n",
       "                var nbb_formatted_code = \"print(train_df.head())\";\n",
       "                var nbb_cells = Jupyter.notebook.get_cells();\n",
       "                for (var i = 0; i < nbb_cells.length; ++i) {\n",
       "                    if (nbb_cells[i].input_prompt_number == nbb_cell_id) {\n",
       "                        if (nbb_cells[i].get_text() == nbb_unformatted_code) {\n",
       "                             nbb_cells[i].set_text(nbb_formatted_code);\n",
       "                        }\n",
       "                        break;\n",
       "                    }\n",
       "                }\n",
       "            }, 500);\n",
       "            "
      ],
      "text/plain": [
       "<IPython.core.display.Javascript object>"
      ]
     },
     "metadata": {},
     "output_type": "display_data"
    }
   ],
   "source": [
    "print(train_df.head())"
   ]
  },
  {
   "cell_type": "code",
   "execution_count": 21,
   "metadata": {},
   "outputs": [
    {
     "data": {
      "application/javascript": [
       "\n",
       "            setTimeout(function() {\n",
       "                var nbb_cell_id = 21;\n",
       "                var nbb_unformatted_code = \"train_df_grouped = train_df.groupby(\\\"image_id\\\")\";\n",
       "                var nbb_formatted_code = \"train_df_grouped = train_df.groupby(\\\"image_id\\\")\";\n",
       "                var nbb_cells = Jupyter.notebook.get_cells();\n",
       "                for (var i = 0; i < nbb_cells.length; ++i) {\n",
       "                    if (nbb_cells[i].input_prompt_number == nbb_cell_id) {\n",
       "                        if (nbb_cells[i].get_text() == nbb_unformatted_code) {\n",
       "                             nbb_cells[i].set_text(nbb_formatted_code);\n",
       "                        }\n",
       "                        break;\n",
       "                    }\n",
       "                }\n",
       "            }, 500);\n",
       "            "
      ],
      "text/plain": [
       "<IPython.core.display.Javascript object>"
      ]
     },
     "metadata": {},
     "output_type": "display_data"
    }
   ],
   "source": [
    "train_df_grouped = train_df.groupby(\"image_id\")"
   ]
  },
  {
   "cell_type": "code",
   "execution_count": 22,
   "metadata": {},
   "outputs": [
    {
     "data": {
      "application/javascript": [
       "\n",
       "            setTimeout(function() {\n",
       "                var nbb_cell_id = 22;\n",
       "                var nbb_unformatted_code = \"def xywh_poly(xmin, ymin, w, h):\\n    xmax = xmin + w\\n    ymax = ymin + h\\n    return [xmin, ymin, xmax, ymin, xmax, ymax, xmin, ymax]\";\n",
       "                var nbb_formatted_code = \"def xywh_poly(xmin, ymin, w, h):\\n    xmax = xmin + w\\n    ymax = ymin + h\\n    return [xmin, ymin, xmax, ymin, xmax, ymax, xmin, ymax]\";\n",
       "                var nbb_cells = Jupyter.notebook.get_cells();\n",
       "                for (var i = 0; i < nbb_cells.length; ++i) {\n",
       "                    if (nbb_cells[i].input_prompt_number == nbb_cell_id) {\n",
       "                        if (nbb_cells[i].get_text() == nbb_unformatted_code) {\n",
       "                             nbb_cells[i].set_text(nbb_formatted_code);\n",
       "                        }\n",
       "                        break;\n",
       "                    }\n",
       "                }\n",
       "            }, 500);\n",
       "            "
      ],
      "text/plain": [
       "<IPython.core.display.Javascript object>"
      ]
     },
     "metadata": {},
     "output_type": "display_data"
    }
   ],
   "source": [
    "def xywh_poly(xmin, ymin, w, h):\n",
    "    xmax = xmin + w\n",
    "    ymax = ymin + h\n",
    "    return [xmin, ymin, xmax, ymin, xmax, ymax, xmin, ymax]"
   ]
  },
  {
   "cell_type": "code",
   "execution_count": 23,
   "metadata": {},
   "outputs": [
    {
     "data": {
      "application/javascript": [
       "\n",
       "            setTimeout(function() {\n",
       "                var nbb_cell_id = 23;\n",
       "                var nbb_unformatted_code = \"data_dict = {\\n    \\\"images\\\": [],\\n    \\\"categories\\\": [\\n        {\\n            \\\"id\\\": 1,\\n            \\\"name\\\": \\\"wheat_head\\\",\\n            \\\"supercategory\\\": \\\"\\\",\\n            \\\"color\\\": \\\"#902398\\\",\\n            \\\"metadata\\\": {},\\n        }\\n    ],\\n    \\\"annotations\\\": [],\\n}\\n\\nimage_id = 1\\nanno_id = 1\\nfor group_name, df_group in train_df_grouped:\\n    data_dict[\\\"images\\\"].append(\\n        {\\n            \\\"id\\\": image_id,\\n            \\\"dataset_id\\\": 1,\\n            \\\"path\\\": path_train_images + group_name + \\\".jpg\\\",\\n            \\\"width\\\": 1024,\\n            \\\"height\\\": 1024,\\n            \\\"file_name\\\": group_name + \\\".jpg\\\",\\n        }\\n    )\\n    for row_index, row in df_group.iterrows():\\n        data_dict[\\\"annotations\\\"].append(\\n            {\\n                \\\"id\\\": anno_id,\\n                \\\"image_id\\\": image_id,\\n                \\\"category_id\\\": 1,\\n                \\\"segmentations\\\": [xywh_poly(row['x'], row['y'], row['w'], row['h'])],\\n                \\\"area\\\": row['w'] * row['h'],\\n                \\\"bbox\\\": [row['x'], row['y'], row['w'], row['h']],\\n                \\\"iscrowd\\\": False,\\n                \\\"isbbox\\\": True,\\n                \\\"color\\\": \\\"#902398\\\",\\n                \\\"metadata\\\": {}\\n            }\\n        )\\n        \\n        anno_id = anno_id + 1\\n    \\n    image_id = image_id + 1\";\n",
       "                var nbb_formatted_code = \"data_dict = {\\n    \\\"images\\\": [],\\n    \\\"categories\\\": [\\n        {\\n            \\\"id\\\": 1,\\n            \\\"name\\\": \\\"wheat_head\\\",\\n            \\\"supercategory\\\": \\\"\\\",\\n            \\\"color\\\": \\\"#902398\\\",\\n            \\\"metadata\\\": {},\\n        }\\n    ],\\n    \\\"annotations\\\": [],\\n}\\n\\nimage_id = 1\\nanno_id = 1\\nfor group_name, df_group in train_df_grouped:\\n    data_dict[\\\"images\\\"].append(\\n        {\\n            \\\"id\\\": image_id,\\n            \\\"dataset_id\\\": 1,\\n            \\\"path\\\": path_train_images + group_name + \\\".jpg\\\",\\n            \\\"width\\\": 1024,\\n            \\\"height\\\": 1024,\\n            \\\"file_name\\\": group_name + \\\".jpg\\\",\\n        }\\n    )\\n    for row_index, row in df_group.iterrows():\\n        data_dict[\\\"annotations\\\"].append(\\n            {\\n                \\\"id\\\": anno_id,\\n                \\\"image_id\\\": image_id,\\n                \\\"category_id\\\": 1,\\n                \\\"segmentations\\\": [xywh_poly(row[\\\"x\\\"], row[\\\"y\\\"], row[\\\"w\\\"], row[\\\"h\\\"])],\\n                \\\"area\\\": row[\\\"w\\\"] * row[\\\"h\\\"],\\n                \\\"bbox\\\": [row[\\\"x\\\"], row[\\\"y\\\"], row[\\\"w\\\"], row[\\\"h\\\"]],\\n                \\\"iscrowd\\\": False,\\n                \\\"isbbox\\\": True,\\n                \\\"color\\\": \\\"#902398\\\",\\n                \\\"metadata\\\": {},\\n            }\\n        )\\n\\n        anno_id = anno_id + 1\\n\\n    image_id = image_id + 1\";\n",
       "                var nbb_cells = Jupyter.notebook.get_cells();\n",
       "                for (var i = 0; i < nbb_cells.length; ++i) {\n",
       "                    if (nbb_cells[i].input_prompt_number == nbb_cell_id) {\n",
       "                        if (nbb_cells[i].get_text() == nbb_unformatted_code) {\n",
       "                             nbb_cells[i].set_text(nbb_formatted_code);\n",
       "                        }\n",
       "                        break;\n",
       "                    }\n",
       "                }\n",
       "            }, 500);\n",
       "            "
      ],
      "text/plain": [
       "<IPython.core.display.Javascript object>"
      ]
     },
     "metadata": {},
     "output_type": "display_data"
    }
   ],
   "source": [
    "data_dict = {\n",
    "    \"images\": [],\n",
    "    \"categories\": [\n",
    "        {\n",
    "            \"id\": 1,\n",
    "            \"name\": \"wheat_head\",\n",
    "            \"supercategory\": \"\",\n",
    "            \"color\": \"#902398\",\n",
    "            \"metadata\": {},\n",
    "        }\n",
    "    ],\n",
    "    \"annotations\": [],\n",
    "}\n",
    "\n",
    "image_id = 1\n",
    "anno_id = 1\n",
    "for group_name, df_group in train_df_grouped:\n",
    "    data_dict[\"images\"].append(\n",
    "        {\n",
    "            \"id\": image_id,\n",
    "            \"dataset_id\": 1,\n",
    "            \"path\": path_train_images + group_name + \".jpg\",\n",
    "            \"width\": 1024,\n",
    "            \"height\": 1024,\n",
    "            \"file_name\": group_name + \".jpg\",\n",
    "        }\n",
    "    )\n",
    "    for row_index, row in df_group.iterrows():\n",
    "        data_dict[\"annotations\"].append(\n",
    "            {\n",
    "                \"id\": anno_id,\n",
    "                \"image_id\": image_id,\n",
    "                \"category_id\": 1,\n",
    "                \"segmentations\": [xywh_poly(row[\"x\"], row[\"y\"], row[\"w\"], row[\"h\"])],\n",
    "                \"area\": row[\"w\"] * row[\"h\"],\n",
    "                \"bbox\": [row[\"x\"], row[\"y\"], row[\"w\"], row[\"h\"]],\n",
    "                \"iscrowd\": False,\n",
    "                \"isbbox\": True,\n",
    "                \"color\": \"#902398\",\n",
    "                \"metadata\": {},\n",
    "            }\n",
    "        )\n",
    "\n",
    "        anno_id = anno_id + 1\n",
    "\n",
    "    image_id = image_id + 1"
   ]
  },
  {
   "cell_type": "code",
   "execution_count": 26,
   "metadata": {},
   "outputs": [
    {
     "data": {
      "application/javascript": [
       "\n",
       "            setTimeout(function() {\n",
       "                var nbb_cell_id = 26;\n",
       "                var nbb_unformatted_code = \"mmcv.dump(data_dict, os.path.join(path_splits, 'train/train.json'))\";\n",
       "                var nbb_formatted_code = \"mmcv.dump(data_dict, os.path.join(path_splits, \\\"train/train.json\\\"))\";\n",
       "                var nbb_cells = Jupyter.notebook.get_cells();\n",
       "                for (var i = 0; i < nbb_cells.length; ++i) {\n",
       "                    if (nbb_cells[i].input_prompt_number == nbb_cell_id) {\n",
       "                        if (nbb_cells[i].get_text() == nbb_unformatted_code) {\n",
       "                             nbb_cells[i].set_text(nbb_formatted_code);\n",
       "                        }\n",
       "                        break;\n",
       "                    }\n",
       "                }\n",
       "            }, 500);\n",
       "            "
      ],
      "text/plain": [
       "<IPython.core.display.Javascript object>"
      ]
     },
     "metadata": {},
     "output_type": "display_data"
    }
   ],
   "source": [
    "mmcv.dump(data_dict, os.path.join(path_splits, \"train/train.json\"))"
   ]
  },
  {
   "cell_type": "markdown",
   "metadata": {},
   "source": [
    "#### Load dataset"
   ]
  },
  {
   "cell_type": "code",
   "execution_count": 27,
   "metadata": {},
   "outputs": [
    {
     "data": {
      "application/javascript": [
       "\n",
       "            setTimeout(function() {\n",
       "                var nbb_cell_id = 27;\n",
       "                var nbb_unformatted_code = \"train_dataset = WheatDataset(os.path.join(path_splits, \\\"train/train.json\\\"), path_train_images)\\ntrain_dataset.load_dataset()\";\n",
       "                var nbb_formatted_code = \"train_dataset = WheatDataset(\\n    os.path.join(path_splits, \\\"train/train.json\\\"), path_train_images\\n)\\ntrain_dataset.load_dataset()\";\n",
       "                var nbb_cells = Jupyter.notebook.get_cells();\n",
       "                for (var i = 0; i < nbb_cells.length; ++i) {\n",
       "                    if (nbb_cells[i].input_prompt_number == nbb_cell_id) {\n",
       "                        if (nbb_cells[i].get_text() == nbb_unformatted_code) {\n",
       "                             nbb_cells[i].set_text(nbb_formatted_code);\n",
       "                        }\n",
       "                        break;\n",
       "                    }\n",
       "                }\n",
       "            }, 500);\n",
       "            "
      ],
      "text/plain": [
       "<IPython.core.display.Javascript object>"
      ]
     },
     "metadata": {},
     "output_type": "display_data"
    }
   ],
   "source": [
    "train_dataset = WheatDataset(\n",
    "    os.path.join(path_splits, \"train/train.json\"), path_train_images\n",
    ")\n",
    "train_dataset.load_dataset()"
   ]
  },
  {
   "cell_type": "markdown",
   "metadata": {},
   "source": [
    "#### Display Splits"
   ]
  },
  {
   "cell_type": "code",
   "execution_count": 28,
   "metadata": {},
   "outputs": [
    {
     "data": {
      "text/html": [
       "<div>\n",
       "<style scoped>\n",
       "    .dataframe tbody tr th:only-of-type {\n",
       "        vertical-align: middle;\n",
       "    }\n",
       "\n",
       "    .dataframe tbody tr th {\n",
       "        vertical-align: top;\n",
       "    }\n",
       "\n",
       "    .dataframe thead th {\n",
       "        text-align: right;\n",
       "    }\n",
       "</style>\n",
       "<table border=\"1\" class=\"dataframe\">\n",
       "  <thead>\n",
       "    <tr style=\"text-align: right;\">\n",
       "      <th></th>\n",
       "      <th>filename</th>\n",
       "      <th>no_of_anno</th>\n",
       "    </tr>\n",
       "  </thead>\n",
       "  <tbody>\n",
       "    <tr>\n",
       "      <td>0</td>\n",
       "      <td>00333207f.jpg</td>\n",
       "      <td>55</td>\n",
       "    </tr>\n",
       "    <tr>\n",
       "      <td>1</td>\n",
       "      <td>005b0d8bb.jpg</td>\n",
       "      <td>20</td>\n",
       "    </tr>\n",
       "    <tr>\n",
       "      <td>2</td>\n",
       "      <td>006a994f7.jpg</td>\n",
       "      <td>25</td>\n",
       "    </tr>\n",
       "    <tr>\n",
       "      <td>3</td>\n",
       "      <td>00764ad5d.jpg</td>\n",
       "      <td>41</td>\n",
       "    </tr>\n",
       "    <tr>\n",
       "      <td>4</td>\n",
       "      <td>00b5fefed.jpg</td>\n",
       "      <td>25</td>\n",
       "    </tr>\n",
       "    <tr>\n",
       "      <td>...</td>\n",
       "      <td>...</td>\n",
       "      <td>...</td>\n",
       "    </tr>\n",
       "    <tr>\n",
       "      <td>3368</td>\n",
       "      <td>ffb445410.jpg</td>\n",
       "      <td>57</td>\n",
       "    </tr>\n",
       "    <tr>\n",
       "      <td>3369</td>\n",
       "      <td>ffbf75e5b.jpg</td>\n",
       "      <td>52</td>\n",
       "    </tr>\n",
       "    <tr>\n",
       "      <td>3370</td>\n",
       "      <td>ffbfe7cc0.jpg</td>\n",
       "      <td>34</td>\n",
       "    </tr>\n",
       "    <tr>\n",
       "      <td>3371</td>\n",
       "      <td>ffc870198.jpg</td>\n",
       "      <td>41</td>\n",
       "    </tr>\n",
       "    <tr>\n",
       "      <td>3372</td>\n",
       "      <td>ffdf83e42.jpg</td>\n",
       "      <td>39</td>\n",
       "    </tr>\n",
       "  </tbody>\n",
       "</table>\n",
       "<p>3373 rows × 2 columns</p>\n",
       "</div>"
      ],
      "text/plain": [
       "           filename  no_of_anno\n",
       "0     00333207f.jpg          55\n",
       "1     005b0d8bb.jpg          20\n",
       "2     006a994f7.jpg          25\n",
       "3     00764ad5d.jpg          41\n",
       "4     00b5fefed.jpg          25\n",
       "...             ...         ...\n",
       "3368  ffb445410.jpg          57\n",
       "3369  ffbf75e5b.jpg          52\n",
       "3370  ffbfe7cc0.jpg          34\n",
       "3371  ffc870198.jpg          41\n",
       "3372  ffdf83e42.jpg          39\n",
       "\n",
       "[3373 rows x 2 columns]"
      ]
     },
     "metadata": {},
     "output_type": "display_data"
    },
    {
     "data": {
      "application/javascript": [
       "\n",
       "            setTimeout(function() {\n",
       "                var nbb_cell_id = 28;\n",
       "                var nbb_unformatted_code = \"display(train_dataset.get_dataset_stat())\";\n",
       "                var nbb_formatted_code = \"display(train_dataset.get_dataset_stat())\";\n",
       "                var nbb_cells = Jupyter.notebook.get_cells();\n",
       "                for (var i = 0; i < nbb_cells.length; ++i) {\n",
       "                    if (nbb_cells[i].input_prompt_number == nbb_cell_id) {\n",
       "                        if (nbb_cells[i].get_text() == nbb_unformatted_code) {\n",
       "                             nbb_cells[i].set_text(nbb_formatted_code);\n",
       "                        }\n",
       "                        break;\n",
       "                    }\n",
       "                }\n",
       "            }, 500);\n",
       "            "
      ],
      "text/plain": [
       "<IPython.core.display.Javascript object>"
      ]
     },
     "metadata": {},
     "output_type": "display_data"
    }
   ],
   "source": [
    "display(train_dataset.get_dataset_stat())"
   ]
  },
  {
   "cell_type": "code",
   "execution_count": null,
   "metadata": {},
   "outputs": [],
   "source": []
  }
 ],
 "metadata": {
  "kernelspec": {
   "display_name": "Python 3",
   "language": "python",
   "name": "python3"
  },
  "language_info": {
   "codemirror_mode": {
    "name": "ipython",
    "version": 3
   },
   "file_extension": ".py",
   "mimetype": "text/x-python",
   "name": "python",
   "nbconvert_exporter": "python",
   "pygments_lexer": "ipython3",
   "version": "3.7.4"
  }
 },
 "nbformat": 4,
 "nbformat_minor": 4
}
