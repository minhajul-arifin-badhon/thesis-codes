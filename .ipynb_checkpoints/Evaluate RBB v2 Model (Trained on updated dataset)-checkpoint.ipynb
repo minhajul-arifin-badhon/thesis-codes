{
 "cells": [
  {
   "cell_type": "code",
   "execution_count": 77,
   "metadata": {},
   "outputs": [],
   "source": [
    "# Note: here updated dataset means updated json file and fixed rotated annotations manually"
   ]
  },
  {
   "cell_type": "code",
   "execution_count": 78,
   "metadata": {},
   "outputs": [],
   "source": [
    "import os\n",
    "import cv2\n",
    "import pandas as pd\n",
    "import numpy as np\n",
    "import matplotlib.pyplot as plt\n",
    "import matplotlib.patches as patches\n",
    "from sklearn.metrics import r2_score\n",
    "from IPython.display import display, HTML\n",
    "\n",
    "import sys\n",
    "sys.path.append('/home/badhon/Documents/thesis/thesis-codes/')\n",
    "from helpers import utils\n",
    "from helpers import evaluation\n",
    "from classes.WheatDataset import WheatDataset\n",
    "from classes.Evaluator import Evaluator\n",
    "\n",
    "%matplotlib inline"
   ]
  },
  {
   "cell_type": "markdown",
   "metadata": {},
   "source": [
    "#### Define some paths"
   ]
  },
  {
   "cell_type": "code",
   "execution_count": 79,
   "metadata": {},
   "outputs": [],
   "source": [
    "path_config = '/home/badhon/Documents/thesis/AerialDetection/configs/my/faster_rcnn_RoITrans_r50_fpn_1x_dota1_5.py'\n",
    "path_work_dir = '/media/badhon/Najia/work_dir/faster_rcnn_RoITrans_r50_fpn_1x_dota1_5_v2'\n",
    "\n",
    "path_images = \"/home/badhon/Documents/thesis/Data and Scripts from AL/global-WHEAT-final/train/usas_minipam/\"\n",
    "path_splits = \"/home/badhon/Documents/thesis/AerialDetection/data/wheat_competition/\"\n",
    "\n",
    "path_test_images = path_splits + 'test/images/'\n",
    "path_test_rbb_gt = path_splits + 'test/r_test.csv'"
   ]
  },
  {
   "cell_type": "markdown",
   "metadata": {},
   "source": [
    "## Evaluate RBB Model (Epoch 2000) Against RBB Ground Truth"
   ]
  },
  {
   "cell_type": "markdown",
   "metadata": {},
   "source": [
    "#### Get rotated bounding boxes (ground truth)"
   ]
  },
  {
   "cell_type": "code",
   "execution_count": 80,
   "metadata": {},
   "outputs": [],
   "source": [
    "df_rbb = pd.read_csv(path_test_rbb_gt)"
   ]
  },
  {
   "cell_type": "code",
   "execution_count": 81,
   "metadata": {},
   "outputs": [],
   "source": [
    "all_rgts = {}\n",
    "for filename in os.listdir(path_test_images)[:]:\n",
    "    all_rgts[filename] = df_rbb[df_rbb['filename'] == filename].to_numpy()[:,-8:]"
   ]
  },
  {
   "cell_type": "markdown",
   "metadata": {},
   "source": [
    "#### Evaluate the model against rotated GTs from old dataset"
   ]
  },
  {
   "cell_type": "code",
   "execution_count": 82,
   "metadata": {},
   "outputs": [],
   "source": [
    "rbb_evaluator = Evaluator(path_config, path_work_dir, 30)"
   ]
  },
  {
   "cell_type": "code",
   "execution_count": 83,
   "metadata": {},
   "outputs": [],
   "source": [
    "eval_res = rbb_evaluator.evaluate_image_folder(path_test_images, None, all_rgts)"
   ]
  },
  {
   "cell_type": "code",
   "execution_count": 84,
   "metadata": {},
   "outputs": [
    {
     "name": "stdout",
     "output_type": "stream",
     "text": [
      "Evaluation of RBB Model Against Updated Test Dataset (RBB GT): \n",
      "tp:  537\n",
      "fp:  101\n",
      "fn:  51\n",
      "gt:  588\n",
      "ap:  0.9015907436157892\n"
     ]
    }
   ],
   "source": [
    "print(\"Evaluation of RBB Model Against Updated Test Dataset (RBB GT): \")\n",
    "rbb_evaluator.print_summary(eval_res)"
   ]
  },
  {
   "cell_type": "code",
   "execution_count": 85,
   "metadata": {},
   "outputs": [
    {
     "data": {
      "image/png": "[encoded data removed]",
      "text/plain": [
       "<Figure size 432x288 with 1 Axes>"
      ]
     },
     "metadata": {
      "needs_background": "light"
     },
     "output_type": "display_data"
    }
   ],
   "source": [
    "utils.draw_plot_xy(eval_res['rec'], eval_res['prec'], \"Precision-Recall Curve: RBB old GT\")"
   ]
  },
  {
   "cell_type": "markdown",
   "metadata": {},
   "source": [
    "#### Check evaluation result per image against old rotated ground truths"
   ]
  },
  {
   "cell_type": "code",
   "execution_count": 86,
   "metadata": {},
   "outputs": [],
   "source": [
    "rows = []\n",
    "\n",
    "for filename in os.listdir(path_test_images)[:]:\n",
    "    res = rbb_evaluator.evaluate_single_image(os.path.join(path_test_images, filename), all_rgts[filename])\n",
    "    rows.append([filename, len(all_rgts[filename]), res['tp'], res['fp'], res['fn']])\n",
    "    \n",
    "df_result = pd.DataFrame(np.array(rows), columns=['filename', 'gt', 'tp', 'fp', 'fn'])"
   ]
  },
  {
   "cell_type": "code",
   "execution_count": 87,
   "metadata": {},
   "outputs": [
    {
     "name": "stdout",
     "output_type": "stream",
     "text": [
      "Result of rotated updated dataset (per image)\n"
     ]
    },
    {
     "data": {
      "text/html": [
       "<div>\n",
       "<style scoped>\n",
       "    .dataframe tbody tr th:only-of-type {\n",
       "        vertical-align: middle;\n",
       "    }\n",
       "\n",
       "    .dataframe tbody tr th {\n",
       "        vertical-align: top;\n",
       "    }\n",
       "\n",
       "    .dataframe thead th {\n",
       "        text-align: right;\n",
       "    }\n",
       "</style>\n",
       "<table border=\"1\" class=\"dataframe\">\n",
       "  <thead>\n",
       "    <tr style=\"text-align: right;\">\n",
       "      <th></th>\n",
       "      <th>filename</th>\n",
       "      <th>gt</th>\n",
       "      <th>tp</th>\n",
       "      <th>fp</th>\n",
       "      <th>fn</th>\n",
       "    </tr>\n",
       "  </thead>\n",
       "  <tbody>\n",
       "    <tr>\n",
       "      <td>0</td>\n",
       "      <td>crop_1_crop_0_4955-compressed.png</td>\n",
       "      <td>34</td>\n",
       "      <td>30</td>\n",
       "      <td>7</td>\n",
       "      <td>4</td>\n",
       "    </tr>\n",
       "    <tr>\n",
       "      <td>1</td>\n",
       "      <td>crop_1_crop_0_964-compressed.png</td>\n",
       "      <td>17</td>\n",
       "      <td>17</td>\n",
       "      <td>2</td>\n",
       "      <td>0</td>\n",
       "    </tr>\n",
       "    <tr>\n",
       "      <td>2</td>\n",
       "      <td>crop_1_crop_0_747-compressed.png</td>\n",
       "      <td>22</td>\n",
       "      <td>19</td>\n",
       "      <td>4</td>\n",
       "      <td>3</td>\n",
       "    </tr>\n",
       "    <tr>\n",
       "      <td>3</td>\n",
       "      <td>crop_1_crop_0_96-compressed.png</td>\n",
       "      <td>36</td>\n",
       "      <td>34</td>\n",
       "      <td>7</td>\n",
       "      <td>2</td>\n",
       "    </tr>\n",
       "    <tr>\n",
       "      <td>4</td>\n",
       "      <td>crop_1_crop_0_905-compressed.png</td>\n",
       "      <td>36</td>\n",
       "      <td>33</td>\n",
       "      <td>3</td>\n",
       "      <td>3</td>\n",
       "    </tr>\n",
       "    <tr>\n",
       "      <td>5</td>\n",
       "      <td>crop_1_crop_0_698-compressed.png</td>\n",
       "      <td>20</td>\n",
       "      <td>20</td>\n",
       "      <td>6</td>\n",
       "      <td>0</td>\n",
       "    </tr>\n",
       "    <tr>\n",
       "      <td>6</td>\n",
       "      <td>crop_1_crop_0_4760-compressed.png</td>\n",
       "      <td>35</td>\n",
       "      <td>32</td>\n",
       "      <td>3</td>\n",
       "      <td>3</td>\n",
       "    </tr>\n",
       "    <tr>\n",
       "      <td>7</td>\n",
       "      <td>crop_1_crop_0_82-compressed.png</td>\n",
       "      <td>44</td>\n",
       "      <td>38</td>\n",
       "      <td>7</td>\n",
       "      <td>6</td>\n",
       "    </tr>\n",
       "    <tr>\n",
       "      <td>8</td>\n",
       "      <td>crop_1_crop_0_771-compressed.png</td>\n",
       "      <td>22</td>\n",
       "      <td>20</td>\n",
       "      <td>9</td>\n",
       "      <td>2</td>\n",
       "    </tr>\n",
       "    <tr>\n",
       "      <td>9</td>\n",
       "      <td>crop_1_crop_0_98-compressed.png</td>\n",
       "      <td>14</td>\n",
       "      <td>14</td>\n",
       "      <td>2</td>\n",
       "      <td>0</td>\n",
       "    </tr>\n",
       "    <tr>\n",
       "      <td>10</td>\n",
       "      <td>crop_1_crop_0_710-compressed.png</td>\n",
       "      <td>27</td>\n",
       "      <td>25</td>\n",
       "      <td>6</td>\n",
       "      <td>2</td>\n",
       "    </tr>\n",
       "    <tr>\n",
       "      <td>11</td>\n",
       "      <td>crop_1_crop_0_810-compressed.png</td>\n",
       "      <td>34</td>\n",
       "      <td>32</td>\n",
       "      <td>3</td>\n",
       "      <td>2</td>\n",
       "    </tr>\n",
       "    <tr>\n",
       "      <td>12</td>\n",
       "      <td>crop_1_crop_0_4855-compressed.png</td>\n",
       "      <td>32</td>\n",
       "      <td>31</td>\n",
       "      <td>4</td>\n",
       "      <td>1</td>\n",
       "    </tr>\n",
       "    <tr>\n",
       "      <td>13</td>\n",
       "      <td>crop_1_crop_0_473-compressed.png</td>\n",
       "      <td>43</td>\n",
       "      <td>41</td>\n",
       "      <td>1</td>\n",
       "      <td>2</td>\n",
       "    </tr>\n",
       "    <tr>\n",
       "      <td>14</td>\n",
       "      <td>crop_1_crop_0_967-compressed.png</td>\n",
       "      <td>25</td>\n",
       "      <td>23</td>\n",
       "      <td>10</td>\n",
       "      <td>2</td>\n",
       "    </tr>\n",
       "    <tr>\n",
       "      <td>15</td>\n",
       "      <td>crop_1_crop_0_521-compressed.png</td>\n",
       "      <td>21</td>\n",
       "      <td>18</td>\n",
       "      <td>9</td>\n",
       "      <td>3</td>\n",
       "    </tr>\n",
       "    <tr>\n",
       "      <td>16</td>\n",
       "      <td>crop_1_crop_0_913-compressed.png</td>\n",
       "      <td>22</td>\n",
       "      <td>20</td>\n",
       "      <td>3</td>\n",
       "      <td>2</td>\n",
       "    </tr>\n",
       "    <tr>\n",
       "      <td>17</td>\n",
       "      <td>crop_1_crop_0_4909-compressed.png</td>\n",
       "      <td>50</td>\n",
       "      <td>46</td>\n",
       "      <td>3</td>\n",
       "      <td>4</td>\n",
       "    </tr>\n",
       "    <tr>\n",
       "      <td>18</td>\n",
       "      <td>crop_1_crop_0_4745-compressed.png</td>\n",
       "      <td>19</td>\n",
       "      <td>16</td>\n",
       "      <td>4</td>\n",
       "      <td>3</td>\n",
       "    </tr>\n",
       "    <tr>\n",
       "      <td>19</td>\n",
       "      <td>crop_1_crop_0_834-compressed.png</td>\n",
       "      <td>35</td>\n",
       "      <td>28</td>\n",
       "      <td>8</td>\n",
       "      <td>7</td>\n",
       "    </tr>\n",
       "  </tbody>\n",
       "</table>\n",
       "</div>"
      ],
      "text/plain": [
       "                             filename  gt  tp  fp fn\n",
       "0   crop_1_crop_0_4955-compressed.png  34  30   7  4\n",
       "1    crop_1_crop_0_964-compressed.png  17  17   2  0\n",
       "2    crop_1_crop_0_747-compressed.png  22  19   4  3\n",
       "3     crop_1_crop_0_96-compressed.png  36  34   7  2\n",
       "4    crop_1_crop_0_905-compressed.png  36  33   3  3\n",
       "5    crop_1_crop_0_698-compressed.png  20  20   6  0\n",
       "6   crop_1_crop_0_4760-compressed.png  35  32   3  3\n",
       "7     crop_1_crop_0_82-compressed.png  44  38   7  6\n",
       "8    crop_1_crop_0_771-compressed.png  22  20   9  2\n",
       "9     crop_1_crop_0_98-compressed.png  14  14   2  0\n",
       "10   crop_1_crop_0_710-compressed.png  27  25   6  2\n",
       "11   crop_1_crop_0_810-compressed.png  34  32   3  2\n",
       "12  crop_1_crop_0_4855-compressed.png  32  31   4  1\n",
       "13   crop_1_crop_0_473-compressed.png  43  41   1  2\n",
       "14   crop_1_crop_0_967-compressed.png  25  23  10  2\n",
       "15   crop_1_crop_0_521-compressed.png  21  18   9  3\n",
       "16   crop_1_crop_0_913-compressed.png  22  20   3  2\n",
       "17  crop_1_crop_0_4909-compressed.png  50  46   3  4\n",
       "18  crop_1_crop_0_4745-compressed.png  19  16   4  3\n",
       "19   crop_1_crop_0_834-compressed.png  35  28   8  7"
      ]
     },
     "metadata": {},
     "output_type": "display_data"
    }
   ],
   "source": [
    "print(\"Result of rotated updated dataset (per image)\")\n",
    "display(df_result)"
   ]
  },
  {
   "cell_type": "markdown",
   "metadata": {},
   "source": [
    "#### R2 Score Calculation"
   ]
  },
  {
   "cell_type": "code",
   "execution_count": 88,
   "metadata": {},
   "outputs": [],
   "source": [
    "# y_true = df_result['gt'].to_numpy().astype(int)\n",
    "# y_pred = df_result['tp'].to_numpy().astype(int) + df_result['fp'].to_numpy().astype(int)\n",
    "\n",
    "# r2_scr = r2_score(y_true, y_pred)\n",
    "# print(\"R2 Score (Against Old RBB GT): \", r2_scr)"
   ]
  },
  {
   "cell_type": "code",
   "execution_count": null,
   "metadata": {},
   "outputs": [],
   "source": []
  }
 ],
 "metadata": {
  "kernelspec": {
   "display_name": "Python 3",
   "language": "python",
   "name": "python3"
  },
  "language_info": {
   "codemirror_mode": {
    "name": "ipython",
    "version": 3
   },
   "file_extension": ".py",
   "mimetype": "text/x-python",
   "name": "python",
   "nbconvert_exporter": "python",
   "pygments_lexer": "ipython3",
   "version": "3.7.4"
  }
 },
 "nbformat": 4,
 "nbformat_minor": 4
}
