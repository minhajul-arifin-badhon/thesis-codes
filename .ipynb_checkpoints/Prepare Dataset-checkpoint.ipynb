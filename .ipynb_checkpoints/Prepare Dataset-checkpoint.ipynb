{
 "cells": [
  {
   "cell_type": "code",
   "execution_count": 6,
   "metadata": {},
   "outputs": [
    {
     "name": "stdout",
     "output_type": "stream",
     "text": [
      "The nb_black extension is already loaded. To reload it, use:\n",
      "  %reload_ext nb_black\n"
     ]
    },
    {
     "data": {
      "application/javascript": [
       "\n",
       "            setTimeout(function() {\n",
       "                var nbb_cell_id = 6;\n",
       "                var nbb_unformatted_code = \"%load_ext nb_black\\n# https://medium.com/openplanetary/code-formatting-in-jupyter-cells-8fee4eda072f\";\n",
       "                var nbb_formatted_code = \"%load_ext nb_black\\n# https://medium.com/openplanetary/code-formatting-in-jupyter-cells-8fee4eda072f\";\n",
       "                var nbb_cells = Jupyter.notebook.get_cells();\n",
       "                for (var i = 0; i < nbb_cells.length; ++i) {\n",
       "                    if (nbb_cells[i].input_prompt_number == nbb_cell_id) {\n",
       "                        if (nbb_cells[i].get_text() == nbb_unformatted_code) {\n",
       "                             nbb_cells[i].set_text(nbb_formatted_code);\n",
       "                        }\n",
       "                        break;\n",
       "                    }\n",
       "                }\n",
       "            }, 500);\n",
       "            "
      ],
      "text/plain": [
       "<IPython.core.display.Javascript object>"
      ]
     },
     "metadata": {},
     "output_type": "display_data"
    }
   ],
   "source": [
    "%load_ext nb_black\n",
    "# https://medium.com/openplanetary/code-formatting-in-jupyter-cells-8fee4eda072f"
   ]
  },
  {
   "cell_type": "markdown",
   "metadata": {},
   "source": [
    "## Prepare Train, Test and Validation set"
   ]
  },
  {
   "cell_type": "code",
   "execution_count": 7,
   "metadata": {},
   "outputs": [
    {
     "data": {
      "application/javascript": [
       "\n",
       "            setTimeout(function() {\n",
       "                var nbb_cell_id = 7;\n",
       "                var nbb_unformatted_code = \"import os\\nimport pandas as pd\\nimport numpy as np\\nimport json\\nimport mmcv\\nimport itertools\\nimport shutil\\nimport matplotlib.pyplot as plt\\nimport matplotlib.patches as patches\\n\\nfrom collections import defaultdict\\nfrom PIL import Image\\nfrom IPython.display import display, HTML\\n\\nfrom classes.WheatDataset import WheatDataset\\nfrom helpers import utils\\n\\n%matplotlib inline\";\n",
       "                var nbb_formatted_code = \"import os\\nimport pandas as pd\\nimport numpy as np\\nimport json\\nimport mmcv\\nimport itertools\\nimport shutil\\nimport matplotlib.pyplot as plt\\nimport matplotlib.patches as patches\\n\\nfrom collections import defaultdict\\nfrom PIL import Image\\nfrom IPython.display import display, HTML\\n\\nfrom classes.WheatDataset import WheatDataset\\nfrom helpers import utils\\n\\n%matplotlib inline\";\n",
       "                var nbb_cells = Jupyter.notebook.get_cells();\n",
       "                for (var i = 0; i < nbb_cells.length; ++i) {\n",
       "                    if (nbb_cells[i].input_prompt_number == nbb_cell_id) {\n",
       "                        if (nbb_cells[i].get_text() == nbb_unformatted_code) {\n",
       "                             nbb_cells[i].set_text(nbb_formatted_code);\n",
       "                        }\n",
       "                        break;\n",
       "                    }\n",
       "                }\n",
       "            }, 500);\n",
       "            "
      ],
      "text/plain": [
       "<IPython.core.display.Javascript object>"
      ]
     },
     "metadata": {},
     "output_type": "display_data"
    }
   ],
   "source": [
    "import os\n",
    "import pandas as pd\n",
    "import numpy as np\n",
    "import json\n",
    "import mmcv\n",
    "import itertools\n",
    "import shutil\n",
    "import matplotlib.pyplot as plt\n",
    "import matplotlib.patches as patches\n",
    "\n",
    "from collections import defaultdict\n",
    "from PIL import Image\n",
    "from IPython.display import display, HTML\n",
    "\n",
    "from classes.WheatDataset import WheatDataset\n",
    "from helpers import utils\n",
    "\n",
    "%matplotlib inline"
   ]
  },
  {
   "cell_type": "markdown",
   "metadata": {},
   "source": [
    "#### Define some paths"
   ]
  },
  {
   "cell_type": "code",
   "execution_count": 8,
   "metadata": {},
   "outputs": [
    {
     "data": {
      "application/javascript": [
       "\n",
       "            setTimeout(function() {\n",
       "                var nbb_cell_id = 8;\n",
       "                var nbb_unformatted_code = \"path_updated_json = \\\"/home/badhon/Documents/thesis/Data and Scripts from AL/global-WHEAT-final/train/usas_minipam.json\\\"\\npath_images = \\\"/home/badhon/Documents/thesis/Data and Scripts from AL/global-WHEAT-final/train/usas_minipam/\\\"\\npath_splits = \\\"/home/badhon/Documents/thesis/AerialDetection/data/wheat_competition/\\\"\\npath_csv = \\\"dataset.csv\\\"\";\n",
       "                var nbb_formatted_code = \"path_updated_json = \\\"/home/badhon/Documents/thesis/Data and Scripts from AL/global-WHEAT-final/train/usas_minipam.json\\\"\\npath_images = \\\"/home/badhon/Documents/thesis/Data and Scripts from AL/global-WHEAT-final/train/usas_minipam/\\\"\\npath_splits = \\\"/home/badhon/Documents/thesis/AerialDetection/data/wheat_competition/\\\"\\npath_csv = \\\"dataset.csv\\\"\";\n",
       "                var nbb_cells = Jupyter.notebook.get_cells();\n",
       "                for (var i = 0; i < nbb_cells.length; ++i) {\n",
       "                    if (nbb_cells[i].input_prompt_number == nbb_cell_id) {\n",
       "                        if (nbb_cells[i].get_text() == nbb_unformatted_code) {\n",
       "                             nbb_cells[i].set_text(nbb_formatted_code);\n",
       "                        }\n",
       "                        break;\n",
       "                    }\n",
       "                }\n",
       "            }, 500);\n",
       "            "
      ],
      "text/plain": [
       "<IPython.core.display.Javascript object>"
      ]
     },
     "metadata": {},
     "output_type": "display_data"
    }
   ],
   "source": [
    "path_updated_json = \"/home/badhon/Documents/thesis/Data and Scripts from AL/global-WHEAT-final/train/usas_minipam.json\"\n",
    "path_images = \"/home/badhon/Documents/thesis/Data and Scripts from AL/global-WHEAT-final/train/usas_minipam/\"\n",
    "path_splits = \"/home/badhon/Documents/thesis/AerialDetection/data/wheat_competition/\"\n",
    "path_csv = \"dataset.csv\""
   ]
  },
  {
   "cell_type": "markdown",
   "metadata": {},
   "source": [
    "#### Load dataset"
   ]
  },
  {
   "cell_type": "code",
   "execution_count": 10,
   "metadata": {},
   "outputs": [
    {
     "data": {
      "application/javascript": [
       "\n",
       "            setTimeout(function() {\n",
       "                var nbb_cell_id = 10;\n",
       "                var nbb_unformatted_code = \"# Updated Dataset\\ndataset = WheatDataset(path_updated_json, path_images)\\ndataset.load_dataset()\\n\\n# Old Test Dataset\\ntest_dataset_old = WheatDataset(path_old_test_json, path_images)\\ntest_dataset_old.load_dataset()\\n\\n# Test Dataset\\ntest_images = test_dataset_old.get_file_names(is_numpy=False)\\ntest_dataset = WheatDataset(path_updated_json, path_images, test_images)\\ntest_dataset.load_dataset()\";\n",
       "                var nbb_formatted_code = \"# Updated Dataset\\ndataset = WheatDataset(path_updated_json, path_images)\\ndataset.load_dataset()\\n\\n# Old Test Dataset\\ntest_dataset_old = WheatDataset(path_old_test_json, path_images)\\ntest_dataset_old.load_dataset()\\n\\n# Test Dataset\\ntest_images = test_dataset_old.get_file_names(is_numpy=False)\\ntest_dataset = WheatDataset(path_updated_json, path_images, test_images)\\ntest_dataset.load_dataset()\";\n",
       "                var nbb_cells = Jupyter.notebook.get_cells();\n",
       "                for (var i = 0; i < nbb_cells.length; ++i) {\n",
       "                    if (nbb_cells[i].input_prompt_number == nbb_cell_id) {\n",
       "                        if (nbb_cells[i].get_text() == nbb_unformatted_code) {\n",
       "                             nbb_cells[i].set_text(nbb_formatted_code);\n",
       "                        }\n",
       "                        break;\n",
       "                    }\n",
       "                }\n",
       "            }, 500);\n",
       "            "
      ],
      "text/plain": [
       "<IPython.core.display.Javascript object>"
      ]
     },
     "metadata": {},
     "output_type": "display_data"
    }
   ],
   "source": [
    "# Updated Dataset\n",
    "dataset = WheatDataset(path_updated_json, path_images)\n",
    "dataset.load_dataset()\n",
    "\n",
    "# Old Test Dataset\n",
    "test_dataset_old = WheatDataset(path_old_test_json, path_images)\n",
    "test_dataset_old.load_dataset()\n",
    "\n",
    "# Test Dataset\n",
    "test_images = test_dataset_old.get_file_names(is_numpy=False)\n",
    "test_dataset = WheatDataset(path_updated_json, path_images, test_images)\n",
    "test_dataset.load_dataset()"
   ]
  },
  {
   "cell_type": "markdown",
   "metadata": {},
   "source": [
    "#### Generate Train and Val set filenames"
   ]
  },
  {
   "cell_type": "code",
   "execution_count": 11,
   "metadata": {},
   "outputs": [
    {
     "data": {
      "application/javascript": [
       "\n",
       "            setTimeout(function() {\n",
       "                var nbb_cell_id = 11;\n",
       "                var nbb_unformatted_code = \"all_ids = dataset.get_image_ids()\\ntest_ids = test_dataset.get_image_ids()\\n\\nrem_ids = np.setdiff1d(all_ids, test_ids)\\n\\n# shuffle remaining ids\\nnp.random.shuffle(rem_ids)\\n\\n# generate val and train ids\\nval_ids = rem_ids[:20]\\ntrain_ids = rem_ids[20:]\";\n",
       "                var nbb_formatted_code = \"all_ids = dataset.get_image_ids()\\ntest_ids = test_dataset.get_image_ids()\\n\\nrem_ids = np.setdiff1d(all_ids, test_ids)\\n\\n# shuffle remaining ids\\nnp.random.shuffle(rem_ids)\\n\\n# generate val and train ids\\nval_ids = rem_ids[:20]\\ntrain_ids = rem_ids[20:]\";\n",
       "                var nbb_cells = Jupyter.notebook.get_cells();\n",
       "                for (var i = 0; i < nbb_cells.length; ++i) {\n",
       "                    if (nbb_cells[i].input_prompt_number == nbb_cell_id) {\n",
       "                        if (nbb_cells[i].get_text() == nbb_unformatted_code) {\n",
       "                             nbb_cells[i].set_text(nbb_formatted_code);\n",
       "                        }\n",
       "                        break;\n",
       "                    }\n",
       "                }\n",
       "            }, 500);\n",
       "            "
      ],
      "text/plain": [
       "<IPython.core.display.Javascript object>"
      ]
     },
     "metadata": {},
     "output_type": "display_data"
    }
   ],
   "source": [
    "all_ids = dataset.get_image_ids()\n",
    "test_ids = test_dataset.get_image_ids()\n",
    "\n",
    "rem_ids = np.setdiff1d(all_ids, test_ids)\n",
    "\n",
    "# shuffle remaining ids\n",
    "np.random.shuffle(rem_ids)\n",
    "\n",
    "# generate val and train ids\n",
    "val_ids = rem_ids[:20]\n",
    "train_ids = rem_ids[20:]"
   ]
  },
  {
   "cell_type": "code",
   "execution_count": 12,
   "metadata": {},
   "outputs": [
    {
     "data": {
      "application/javascript": [
       "\n",
       "            setTimeout(function() {\n",
       "                var nbb_cell_id = 12;\n",
       "                var nbb_unformatted_code = \"train_images = dataset.get_file_names(train_ids.tolist(), False)\\nval_images = dataset.get_file_names(val_ids.tolist(), False)\";\n",
       "                var nbb_formatted_code = \"train_images = dataset.get_file_names(train_ids.tolist(), False)\\nval_images = dataset.get_file_names(val_ids.tolist(), False)\";\n",
       "                var nbb_cells = Jupyter.notebook.get_cells();\n",
       "                for (var i = 0; i < nbb_cells.length; ++i) {\n",
       "                    if (nbb_cells[i].input_prompt_number == nbb_cell_id) {\n",
       "                        if (nbb_cells[i].get_text() == nbb_unformatted_code) {\n",
       "                             nbb_cells[i].set_text(nbb_formatted_code);\n",
       "                        }\n",
       "                        break;\n",
       "                    }\n",
       "                }\n",
       "            }, 500);\n",
       "            "
      ],
      "text/plain": [
       "<IPython.core.display.Javascript object>"
      ]
     },
     "metadata": {},
     "output_type": "display_data"
    }
   ],
   "source": [
    "train_images = dataset.get_file_names(train_ids.tolist(), False)\n",
    "val_images = dataset.get_file_names(val_ids.tolist(), False)"
   ]
  },
  {
   "cell_type": "markdown",
   "metadata": {},
   "source": [
    "#### Load Traing and Val set"
   ]
  },
  {
   "cell_type": "code",
   "execution_count": 14,
   "metadata": {},
   "outputs": [
    {
     "data": {
      "application/javascript": [
       "\n",
       "            setTimeout(function() {\n",
       "                var nbb_cell_id = 14;\n",
       "                var nbb_unformatted_code = \"train_dataset = WheatDataset(path_updated_json, path_images, train_images)\\ntrain_dataset.load_dataset()\";\n",
       "                var nbb_formatted_code = \"train_dataset = WheatDataset(path_updated_json, path_images, train_images)\\ntrain_dataset.load_dataset()\";\n",
       "                var nbb_cells = Jupyter.notebook.get_cells();\n",
       "                for (var i = 0; i < nbb_cells.length; ++i) {\n",
       "                    if (nbb_cells[i].input_prompt_number == nbb_cell_id) {\n",
       "                        if (nbb_cells[i].get_text() == nbb_unformatted_code) {\n",
       "                             nbb_cells[i].set_text(nbb_formatted_code);\n",
       "                        }\n",
       "                        break;\n",
       "                    }\n",
       "                }\n",
       "            }, 500);\n",
       "            "
      ],
      "text/plain": [
       "<IPython.core.display.Javascript object>"
      ]
     },
     "metadata": {},
     "output_type": "display_data"
    }
   ],
   "source": [
    "train_dataset = WheatDataset(path_updated_json, path_images, train_images)\n",
    "train_dataset.load_dataset()"
   ]
  },
  {
   "cell_type": "code",
   "execution_count": 16,
   "metadata": {},
   "outputs": [
    {
     "data": {
      "application/javascript": [
       "\n",
       "            setTimeout(function() {\n",
       "                var nbb_cell_id = 16;\n",
       "                var nbb_unformatted_code = \"val_dataset = WheatDataset(path_updated_json, path_images, val_images)\\nval_dataset.load_dataset()\";\n",
       "                var nbb_formatted_code = \"val_dataset = WheatDataset(path_updated_json, path_images, val_images)\\nval_dataset.load_dataset()\";\n",
       "                var nbb_cells = Jupyter.notebook.get_cells();\n",
       "                for (var i = 0; i < nbb_cells.length; ++i) {\n",
       "                    if (nbb_cells[i].input_prompt_number == nbb_cell_id) {\n",
       "                        if (nbb_cells[i].get_text() == nbb_unformatted_code) {\n",
       "                             nbb_cells[i].set_text(nbb_formatted_code);\n",
       "                        }\n",
       "                        break;\n",
       "                    }\n",
       "                }\n",
       "            }, 500);\n",
       "            "
      ],
      "text/plain": [
       "<IPython.core.display.Javascript object>"
      ]
     },
     "metadata": {},
     "output_type": "display_data"
    }
   ],
   "source": [
    "val_dataset = WheatDataset(path_updated_json, path_images, val_images)\n",
    "val_dataset.load_dataset()"
   ]
  },
  {
   "cell_type": "markdown",
   "metadata": {},
   "source": [
    "#### Save images in separate folders"
   ]
  },
  {
   "cell_type": "code",
   "execution_count": 17,
   "metadata": {},
   "outputs": [
    {
     "data": {
      "application/javascript": [
       "\n",
       "            setTimeout(function() {\n",
       "                var nbb_cell_id = 17;\n",
       "                var nbb_unformatted_code = \"train_dataset.save_images(path_images, os.path.join(path_splits, \\\"train/images\\\"))\\nval_dataset.save_images(path_images, os.path.join(path_splits, \\\"val/images\\\"))\\ntest_dataset.save_images(path_images, os.path.join(path_splits, \\\"test/images\\\"))\";\n",
       "                var nbb_formatted_code = \"train_dataset.save_images(path_images, os.path.join(path_splits, \\\"train/images\\\"))\\nval_dataset.save_images(path_images, os.path.join(path_splits, \\\"val/images\\\"))\\ntest_dataset.save_images(path_images, os.path.join(path_splits, \\\"test/images\\\"))\";\n",
       "                var nbb_cells = Jupyter.notebook.get_cells();\n",
       "                for (var i = 0; i < nbb_cells.length; ++i) {\n",
       "                    if (nbb_cells[i].input_prompt_number == nbb_cell_id) {\n",
       "                        if (nbb_cells[i].get_text() == nbb_unformatted_code) {\n",
       "                             nbb_cells[i].set_text(nbb_formatted_code);\n",
       "                        }\n",
       "                        break;\n",
       "                    }\n",
       "                }\n",
       "            }, 500);\n",
       "            "
      ],
      "text/plain": [
       "<IPython.core.display.Javascript object>"
      ]
     },
     "metadata": {},
     "output_type": "display_data"
    }
   ],
   "source": [
    "train_dataset.save_images(path_images, os.path.join(path_splits, \"train/images\"))\n",
    "val_dataset.save_images(path_images, os.path.join(path_splits, \"val/images\"))\n",
    "test_dataset.save_images(path_images, os.path.join(path_splits, \"test/images\"))"
   ]
  },
  {
   "cell_type": "markdown",
   "metadata": {},
   "source": [
    "#### Save split datasets as json files"
   ]
  },
  {
   "cell_type": "code",
   "execution_count": 18,
   "metadata": {},
   "outputs": [
    {
     "data": {
      "application/javascript": [
       "\n",
       "            setTimeout(function() {\n",
       "                var nbb_cell_id = 18;\n",
       "                var nbb_unformatted_code = \"train_dataset.save_as_coco_json(os.path.join(path_splits, \\\"train/train.json\\\"))\\nval_dataset.save_as_coco_json(os.path.join(path_splits, \\\"val/val.json\\\"))\\ntest_dataset.save_as_coco_json(os.path.join(path_splits, \\\"test/test.json\\\"))\";\n",
       "                var nbb_formatted_code = \"train_dataset.save_as_coco_json(os.path.join(path_splits, \\\"train/train.json\\\"))\\nval_dataset.save_as_coco_json(os.path.join(path_splits, \\\"val/val.json\\\"))\\ntest_dataset.save_as_coco_json(os.path.join(path_splits, \\\"test/test.json\\\"))\";\n",
       "                var nbb_cells = Jupyter.notebook.get_cells();\n",
       "                for (var i = 0; i < nbb_cells.length; ++i) {\n",
       "                    if (nbb_cells[i].input_prompt_number == nbb_cell_id) {\n",
       "                        if (nbb_cells[i].get_text() == nbb_unformatted_code) {\n",
       "                             nbb_cells[i].set_text(nbb_formatted_code);\n",
       "                        }\n",
       "                        break;\n",
       "                    }\n",
       "                }\n",
       "            }, 500);\n",
       "            "
      ],
      "text/plain": [
       "<IPython.core.display.Javascript object>"
      ]
     },
     "metadata": {},
     "output_type": "display_data"
    }
   ],
   "source": [
    "train_dataset.save_as_coco_json(os.path.join(path_splits, \"train/train.json\"))\n",
    "val_dataset.save_as_coco_json(os.path.join(path_splits, \"val/val.json\"))\n",
    "test_dataset.save_as_coco_json(os.path.join(path_splits, \"test/test.json\"))"
   ]
  },
  {
   "cell_type": "markdown",
   "metadata": {},
   "source": [
    "#### Display Splits"
   ]
  },
  {
   "cell_type": "code",
   "execution_count": 20,
   "metadata": {},
   "outputs": [
    {
     "data": {
      "text/html": [
       "<div>\n",
       "<style scoped>\n",
       "    .dataframe tbody tr th:only-of-type {\n",
       "        vertical-align: middle;\n",
       "    }\n",
       "\n",
       "    .dataframe tbody tr th {\n",
       "        vertical-align: top;\n",
       "    }\n",
       "\n",
       "    .dataframe thead th {\n",
       "        text-align: right;\n",
       "    }\n",
       "</style>\n",
       "<table border=\"1\" class=\"dataframe\">\n",
       "  <thead>\n",
       "    <tr style=\"text-align: right;\">\n",
       "      <th></th>\n",
       "      <th>filename</th>\n",
       "      <th>no_of_anno</th>\n",
       "    </tr>\n",
       "  </thead>\n",
       "  <tbody>\n",
       "    <tr>\n",
       "      <th>0</th>\n",
       "      <td>crop_0_crop_0_1021-compressed.png</td>\n",
       "      <td>47</td>\n",
       "    </tr>\n",
       "    <tr>\n",
       "      <th>1</th>\n",
       "      <td>crop_0_crop_0_1046-compressed.png</td>\n",
       "      <td>46</td>\n",
       "    </tr>\n",
       "    <tr>\n",
       "      <th>2</th>\n",
       "      <td>crop_0_crop_0_1209-compressed.png</td>\n",
       "      <td>41</td>\n",
       "    </tr>\n",
       "    <tr>\n",
       "      <th>3</th>\n",
       "      <td>crop_0_crop_0_1248-compressed.png</td>\n",
       "      <td>32</td>\n",
       "    </tr>\n",
       "    <tr>\n",
       "      <th>4</th>\n",
       "      <td>crop_0_crop_0_1307-compressed.png</td>\n",
       "      <td>34</td>\n",
       "    </tr>\n",
       "    <tr>\n",
       "      <th>...</th>\n",
       "      <td>...</td>\n",
       "      <td>...</td>\n",
       "    </tr>\n",
       "    <tr>\n",
       "      <th>155</th>\n",
       "      <td>crop_1_crop_0_46-compressed.png</td>\n",
       "      <td>39</td>\n",
       "    </tr>\n",
       "    <tr>\n",
       "      <th>156</th>\n",
       "      <td>crop_1_crop_0_4665-compressed.png</td>\n",
       "      <td>23</td>\n",
       "    </tr>\n",
       "    <tr>\n",
       "      <th>157</th>\n",
       "      <td>crop_1_crop_0_4680-compressed.png</td>\n",
       "      <td>29</td>\n",
       "    </tr>\n",
       "    <tr>\n",
       "      <th>158</th>\n",
       "      <td>crop_1_crop_0_4707-compressed.png</td>\n",
       "      <td>33</td>\n",
       "    </tr>\n",
       "    <tr>\n",
       "      <th>159</th>\n",
       "      <td>crop_1_crop_0_4722-compressed.png</td>\n",
       "      <td>35</td>\n",
       "    </tr>\n",
       "  </tbody>\n",
       "</table>\n",
       "<p>160 rows × 2 columns</p>\n",
       "</div>"
      ],
      "text/plain": [
       "                              filename  no_of_anno\n",
       "0    crop_0_crop_0_1021-compressed.png          47\n",
       "1    crop_0_crop_0_1046-compressed.png          46\n",
       "2    crop_0_crop_0_1209-compressed.png          41\n",
       "3    crop_0_crop_0_1248-compressed.png          32\n",
       "4    crop_0_crop_0_1307-compressed.png          34\n",
       "..                                 ...         ...\n",
       "155    crop_1_crop_0_46-compressed.png          39\n",
       "156  crop_1_crop_0_4665-compressed.png          23\n",
       "157  crop_1_crop_0_4680-compressed.png          29\n",
       "158  crop_1_crop_0_4707-compressed.png          33\n",
       "159  crop_1_crop_0_4722-compressed.png          35\n",
       "\n",
       "[160 rows x 2 columns]"
      ]
     },
     "metadata": {},
     "output_type": "display_data"
    },
    {
     "data": {
      "text/html": [
       "<div>\n",
       "<style scoped>\n",
       "    .dataframe tbody tr th:only-of-type {\n",
       "        vertical-align: middle;\n",
       "    }\n",
       "\n",
       "    .dataframe tbody tr th {\n",
       "        vertical-align: top;\n",
       "    }\n",
       "\n",
       "    .dataframe thead th {\n",
       "        text-align: right;\n",
       "    }\n",
       "</style>\n",
       "<table border=\"1\" class=\"dataframe\">\n",
       "  <thead>\n",
       "    <tr style=\"text-align: right;\">\n",
       "      <th></th>\n",
       "      <th>filename</th>\n",
       "      <th>no_of_anno</th>\n",
       "    </tr>\n",
       "  </thead>\n",
       "  <tbody>\n",
       "    <tr>\n",
       "      <th>0</th>\n",
       "      <td>crop_0_crop_0_1911-compressed.png</td>\n",
       "      <td>24</td>\n",
       "    </tr>\n",
       "    <tr>\n",
       "      <th>1</th>\n",
       "      <td>crop_0_crop_0_216-compressed.png</td>\n",
       "      <td>26</td>\n",
       "    </tr>\n",
       "    <tr>\n",
       "      <th>2</th>\n",
       "      <td>crop_0_crop_0_2216-compressed.png</td>\n",
       "      <td>33</td>\n",
       "    </tr>\n",
       "    <tr>\n",
       "      <th>3</th>\n",
       "      <td>crop_0_crop_0_2353-compressed.png</td>\n",
       "      <td>8</td>\n",
       "    </tr>\n",
       "    <tr>\n",
       "      <th>4</th>\n",
       "      <td>crop_0_crop_0_2386-compressed.png</td>\n",
       "      <td>20</td>\n",
       "    </tr>\n",
       "    <tr>\n",
       "      <th>5</th>\n",
       "      <td>crop_0_crop_0_249-compressed.png</td>\n",
       "      <td>17</td>\n",
       "    </tr>\n",
       "    <tr>\n",
       "      <th>6</th>\n",
       "      <td>crop_0_crop_0_3530-compressed.png</td>\n",
       "      <td>45</td>\n",
       "    </tr>\n",
       "    <tr>\n",
       "      <th>7</th>\n",
       "      <td>crop_0_crop_0_3701-compressed.png</td>\n",
       "      <td>29</td>\n",
       "    </tr>\n",
       "    <tr>\n",
       "      <th>8</th>\n",
       "      <td>crop_0_crop_0_4003-compressed.png</td>\n",
       "      <td>33</td>\n",
       "    </tr>\n",
       "    <tr>\n",
       "      <th>9</th>\n",
       "      <td>crop_0_crop_0_4219-compressed.png</td>\n",
       "      <td>33</td>\n",
       "    </tr>\n",
       "    <tr>\n",
       "      <th>10</th>\n",
       "      <td>crop_0_crop_0_4680-compressed.png</td>\n",
       "      <td>18</td>\n",
       "    </tr>\n",
       "    <tr>\n",
       "      <th>11</th>\n",
       "      <td>crop_0_crop_0_521-compressed.png</td>\n",
       "      <td>28</td>\n",
       "    </tr>\n",
       "    <tr>\n",
       "      <th>12</th>\n",
       "      <td>crop_0_crop_0_771-compressed.png</td>\n",
       "      <td>15</td>\n",
       "    </tr>\n",
       "    <tr>\n",
       "      <th>13</th>\n",
       "      <td>crop_0_crop_0_905-compressed.png</td>\n",
       "      <td>29</td>\n",
       "    </tr>\n",
       "    <tr>\n",
       "      <th>14</th>\n",
       "      <td>crop_1_crop_0_2140-compressed.png</td>\n",
       "      <td>38</td>\n",
       "    </tr>\n",
       "    <tr>\n",
       "      <th>15</th>\n",
       "      <td>crop_1_crop_0_216-compressed.png</td>\n",
       "      <td>30</td>\n",
       "    </tr>\n",
       "    <tr>\n",
       "      <th>16</th>\n",
       "      <td>crop_1_crop_0_231-compressed.png</td>\n",
       "      <td>38</td>\n",
       "    </tr>\n",
       "    <tr>\n",
       "      <th>17</th>\n",
       "      <td>crop_1_crop_0_2709-compressed.png</td>\n",
       "      <td>38</td>\n",
       "    </tr>\n",
       "    <tr>\n",
       "      <th>18</th>\n",
       "      <td>crop_1_crop_0_2813-compressed.png</td>\n",
       "      <td>26</td>\n",
       "    </tr>\n",
       "    <tr>\n",
       "      <th>19</th>\n",
       "      <td>crop_1_crop_0_3273-compressed.png</td>\n",
       "      <td>29</td>\n",
       "    </tr>\n",
       "  </tbody>\n",
       "</table>\n",
       "</div>"
      ],
      "text/plain": [
       "                             filename  no_of_anno\n",
       "0   crop_0_crop_0_1911-compressed.png          24\n",
       "1    crop_0_crop_0_216-compressed.png          26\n",
       "2   crop_0_crop_0_2216-compressed.png          33\n",
       "3   crop_0_crop_0_2353-compressed.png           8\n",
       "4   crop_0_crop_0_2386-compressed.png          20\n",
       "5    crop_0_crop_0_249-compressed.png          17\n",
       "6   crop_0_crop_0_3530-compressed.png          45\n",
       "7   crop_0_crop_0_3701-compressed.png          29\n",
       "8   crop_0_crop_0_4003-compressed.png          33\n",
       "9   crop_0_crop_0_4219-compressed.png          33\n",
       "10  crop_0_crop_0_4680-compressed.png          18\n",
       "11   crop_0_crop_0_521-compressed.png          28\n",
       "12   crop_0_crop_0_771-compressed.png          15\n",
       "13   crop_0_crop_0_905-compressed.png          29\n",
       "14  crop_1_crop_0_2140-compressed.png          38\n",
       "15   crop_1_crop_0_216-compressed.png          30\n",
       "16   crop_1_crop_0_231-compressed.png          38\n",
       "17  crop_1_crop_0_2709-compressed.png          38\n",
       "18  crop_1_crop_0_2813-compressed.png          26\n",
       "19  crop_1_crop_0_3273-compressed.png          29"
      ]
     },
     "metadata": {},
     "output_type": "display_data"
    },
    {
     "data": {
      "text/html": [
       "<div>\n",
       "<style scoped>\n",
       "    .dataframe tbody tr th:only-of-type {\n",
       "        vertical-align: middle;\n",
       "    }\n",
       "\n",
       "    .dataframe tbody tr th {\n",
       "        vertical-align: top;\n",
       "    }\n",
       "\n",
       "    .dataframe thead th {\n",
       "        text-align: right;\n",
       "    }\n",
       "</style>\n",
       "<table border=\"1\" class=\"dataframe\">\n",
       "  <thead>\n",
       "    <tr style=\"text-align: right;\">\n",
       "      <th></th>\n",
       "      <th>filename</th>\n",
       "      <th>no_of_anno</th>\n",
       "    </tr>\n",
       "  </thead>\n",
       "  <tbody>\n",
       "    <tr>\n",
       "      <th>0</th>\n",
       "      <td>crop_1_crop_0_473-compressed.png</td>\n",
       "      <td>42</td>\n",
       "    </tr>\n",
       "    <tr>\n",
       "      <th>1</th>\n",
       "      <td>crop_1_crop_0_4745-compressed.png</td>\n",
       "      <td>19</td>\n",
       "    </tr>\n",
       "    <tr>\n",
       "      <th>2</th>\n",
       "      <td>crop_1_crop_0_4760-compressed.png</td>\n",
       "      <td>35</td>\n",
       "    </tr>\n",
       "    <tr>\n",
       "      <th>3</th>\n",
       "      <td>crop_1_crop_0_4855-compressed.png</td>\n",
       "      <td>32</td>\n",
       "    </tr>\n",
       "    <tr>\n",
       "      <th>4</th>\n",
       "      <td>crop_1_crop_0_4909-compressed.png</td>\n",
       "      <td>50</td>\n",
       "    </tr>\n",
       "    <tr>\n",
       "      <th>5</th>\n",
       "      <td>crop_1_crop_0_4955-compressed.png</td>\n",
       "      <td>33</td>\n",
       "    </tr>\n",
       "    <tr>\n",
       "      <th>6</th>\n",
       "      <td>crop_1_crop_0_521-compressed.png</td>\n",
       "      <td>21</td>\n",
       "    </tr>\n",
       "    <tr>\n",
       "      <th>7</th>\n",
       "      <td>crop_1_crop_0_698-compressed.png</td>\n",
       "      <td>20</td>\n",
       "    </tr>\n",
       "    <tr>\n",
       "      <th>8</th>\n",
       "      <td>crop_1_crop_0_710-compressed.png</td>\n",
       "      <td>27</td>\n",
       "    </tr>\n",
       "    <tr>\n",
       "      <th>9</th>\n",
       "      <td>crop_1_crop_0_747-compressed.png</td>\n",
       "      <td>22</td>\n",
       "    </tr>\n",
       "    <tr>\n",
       "      <th>10</th>\n",
       "      <td>crop_1_crop_0_771-compressed.png</td>\n",
       "      <td>22</td>\n",
       "    </tr>\n",
       "    <tr>\n",
       "      <th>11</th>\n",
       "      <td>crop_1_crop_0_810-compressed.png</td>\n",
       "      <td>34</td>\n",
       "    </tr>\n",
       "    <tr>\n",
       "      <th>12</th>\n",
       "      <td>crop_1_crop_0_82-compressed.png</td>\n",
       "      <td>43</td>\n",
       "    </tr>\n",
       "    <tr>\n",
       "      <th>13</th>\n",
       "      <td>crop_1_crop_0_834-compressed.png</td>\n",
       "      <td>35</td>\n",
       "    </tr>\n",
       "    <tr>\n",
       "      <th>14</th>\n",
       "      <td>crop_1_crop_0_905-compressed.png</td>\n",
       "      <td>36</td>\n",
       "    </tr>\n",
       "    <tr>\n",
       "      <th>15</th>\n",
       "      <td>crop_1_crop_0_913-compressed.png</td>\n",
       "      <td>22</td>\n",
       "    </tr>\n",
       "    <tr>\n",
       "      <th>16</th>\n",
       "      <td>crop_1_crop_0_96-compressed.png</td>\n",
       "      <td>37</td>\n",
       "    </tr>\n",
       "    <tr>\n",
       "      <th>17</th>\n",
       "      <td>crop_1_crop_0_964-compressed.png</td>\n",
       "      <td>17</td>\n",
       "    </tr>\n",
       "    <tr>\n",
       "      <th>18</th>\n",
       "      <td>crop_1_crop_0_967-compressed.png</td>\n",
       "      <td>24</td>\n",
       "    </tr>\n",
       "    <tr>\n",
       "      <th>19</th>\n",
       "      <td>crop_1_crop_0_98-compressed.png</td>\n",
       "      <td>14</td>\n",
       "    </tr>\n",
       "  </tbody>\n",
       "</table>\n",
       "</div>"
      ],
      "text/plain": [
       "                             filename  no_of_anno\n",
       "0    crop_1_crop_0_473-compressed.png          42\n",
       "1   crop_1_crop_0_4745-compressed.png          19\n",
       "2   crop_1_crop_0_4760-compressed.png          35\n",
       "3   crop_1_crop_0_4855-compressed.png          32\n",
       "4   crop_1_crop_0_4909-compressed.png          50\n",
       "5   crop_1_crop_0_4955-compressed.png          33\n",
       "6    crop_1_crop_0_521-compressed.png          21\n",
       "7    crop_1_crop_0_698-compressed.png          20\n",
       "8    crop_1_crop_0_710-compressed.png          27\n",
       "9    crop_1_crop_0_747-compressed.png          22\n",
       "10   crop_1_crop_0_771-compressed.png          22\n",
       "11   crop_1_crop_0_810-compressed.png          34\n",
       "12    crop_1_crop_0_82-compressed.png          43\n",
       "13   crop_1_crop_0_834-compressed.png          35\n",
       "14   crop_1_crop_0_905-compressed.png          36\n",
       "15   crop_1_crop_0_913-compressed.png          22\n",
       "16    crop_1_crop_0_96-compressed.png          37\n",
       "17   crop_1_crop_0_964-compressed.png          17\n",
       "18   crop_1_crop_0_967-compressed.png          24\n",
       "19    crop_1_crop_0_98-compressed.png          14"
      ]
     },
     "metadata": {},
     "output_type": "display_data"
    },
    {
     "data": {
      "application/javascript": [
       "\n",
       "            setTimeout(function() {\n",
       "                var nbb_cell_id = 20;\n",
       "                var nbb_unformatted_code = \"display(train_dataset.get_dataset_stat())\\ndisplay(val_dataset.get_dataset_stat())\\ndisplay(test_dataset.get_dataset_stat())\";\n",
       "                var nbb_formatted_code = \"display(train_dataset.get_dataset_stat())\\ndisplay(val_dataset.get_dataset_stat())\\ndisplay(test_dataset.get_dataset_stat())\";\n",
       "                var nbb_cells = Jupyter.notebook.get_cells();\n",
       "                for (var i = 0; i < nbb_cells.length; ++i) {\n",
       "                    if (nbb_cells[i].input_prompt_number == nbb_cell_id) {\n",
       "                        if (nbb_cells[i].get_text() == nbb_unformatted_code) {\n",
       "                             nbb_cells[i].set_text(nbb_formatted_code);\n",
       "                        }\n",
       "                        break;\n",
       "                    }\n",
       "                }\n",
       "            }, 500);\n",
       "            "
      ],
      "text/plain": [
       "<IPython.core.display.Javascript object>"
      ]
     },
     "metadata": {},
     "output_type": "display_data"
    }
   ],
   "source": [
    "display(train_dataset.get_dataset_stat())\n",
    "display(val_dataset.get_dataset_stat())\n",
    "display(test_dataset.get_dataset_stat())"
   ]
  },
  {
   "cell_type": "code",
   "execution_count": null,
   "metadata": {},
   "outputs": [],
   "source": []
  }
 ],
 "metadata": {
  "kernelspec": {
   "display_name": "Python 3",
   "language": "python",
   "name": "python3"
  },
  "language_info": {
   "codemirror_mode": {
    "name": "ipython",
    "version": 3
   },
   "file_extension": ".py",
   "mimetype": "text/x-python",
   "name": "python",
   "nbconvert_exporter": "python",
   "pygments_lexer": "ipython3",
   "version": "3.7.4"
  }
 },
 "nbformat": 4,
 "nbformat_minor": 4
}
