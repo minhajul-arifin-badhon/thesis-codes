{
 "cells": [
  {
   "cell_type": "code",
   "execution_count": 1,
   "metadata": {},
   "outputs": [
    {
     "data": {
      "application/javascript": [
       "\n",
       "            setTimeout(function() {\n",
       "                var nbb_cell_id = 1;\n",
       "                var nbb_unformatted_code = \"%load_ext nb_black\\n# https://medium.com/openplanetary/code-formatting-in-jupyter-cells-8fee4eda072f\";\n",
       "                var nbb_formatted_code = \"%load_ext nb_black\\n# https://medium.com/openplanetary/code-formatting-in-jupyter-cells-8fee4eda072f\";\n",
       "                var nbb_cells = Jupyter.notebook.get_cells();\n",
       "                for (var i = 0; i < nbb_cells.length; ++i) {\n",
       "                    if (nbb_cells[i].input_prompt_number == nbb_cell_id) {\n",
       "                        if (nbb_cells[i].get_text() == nbb_unformatted_code) {\n",
       "                             nbb_cells[i].set_text(nbb_formatted_code);\n",
       "                        }\n",
       "                        break;\n",
       "                    }\n",
       "                }\n",
       "            }, 500);\n",
       "            "
      ],
      "text/plain": [
       "<IPython.core.display.Javascript object>"
      ]
     },
     "metadata": {},
     "output_type": "display_data"
    }
   ],
   "source": [
    "%load_ext nb_black\n",
    "# https://medium.com/openplanetary/code-formatting-in-jupyter-cells-8fee4eda072f"
   ]
  },
  {
   "cell_type": "code",
   "execution_count": 51,
   "metadata": {},
   "outputs": [
    {
     "data": {
      "application/javascript": [
       "\n",
       "            setTimeout(function() {\n",
       "                var nbb_cell_id = 51;\n",
       "                var nbb_unformatted_code = \"from skimage.draw import circle_perimeter\\nfrom skimage.segmentation import slic\\nfrom skimage.segmentation import mark_boundaries\\nfrom skimage.util import img_as_float\\nfrom skimage import io\\nimport xml.etree.ElementTree as ET\\nimport skimage.segmentation as seg\\nimport skimage.filters as filt\\nimport skimage.color as color\\nimport matplotlib.pyplot as plt\\nimport argparse\\nimport json\\nimport numpy as np\\nimport matplotlib.patches as mpatches\\nfrom skimage.measure import label, regionprops\\nimport math\\nimport skimage.morphology as morph\\nimport pandas as pd\\nimport os\\nimport shapely.geometry as shgeo\\nimport mmcv\\n\\nfrom classes.WheatDataset import WheatDataset\\nfrom helpers import utils\\n\\n%matplotlib inline\";\n",
       "                var nbb_formatted_code = \"from skimage.draw import circle_perimeter\\nfrom skimage.segmentation import slic\\nfrom skimage.segmentation import mark_boundaries\\nfrom skimage.util import img_as_float\\nfrom skimage import io\\nimport xml.etree.ElementTree as ET\\nimport skimage.segmentation as seg\\nimport skimage.filters as filt\\nimport skimage.color as color\\nimport matplotlib.pyplot as plt\\nimport argparse\\nimport json\\nimport numpy as np\\nimport matplotlib.patches as mpatches\\nfrom skimage.measure import label, regionprops\\nimport math\\nimport skimage.morphology as morph\\nimport pandas as pd\\nimport os\\nimport shapely.geometry as shgeo\\nimport mmcv\\n\\nfrom classes.WheatDataset import WheatDataset\\nfrom helpers import utils\\n\\n%matplotlib inline\";\n",
       "                var nbb_cells = Jupyter.notebook.get_cells();\n",
       "                for (var i = 0; i < nbb_cells.length; ++i) {\n",
       "                    if (nbb_cells[i].input_prompt_number == nbb_cell_id) {\n",
       "                        if (nbb_cells[i].get_text() == nbb_unformatted_code) {\n",
       "                             nbb_cells[i].set_text(nbb_formatted_code);\n",
       "                        }\n",
       "                        break;\n",
       "                    }\n",
       "                }\n",
       "            }, 500);\n",
       "            "
      ],
      "text/plain": [
       "<IPython.core.display.Javascript object>"
      ]
     },
     "metadata": {},
     "output_type": "display_data"
    }
   ],
   "source": [
    "from skimage.draw import circle_perimeter\n",
    "from skimage.segmentation import slic\n",
    "from skimage.segmentation import mark_boundaries\n",
    "from skimage.util import img_as_float\n",
    "from skimage import io\n",
    "import xml.etree.ElementTree as ET\n",
    "import skimage.segmentation as seg\n",
    "import skimage.filters as filt\n",
    "import skimage.color as color\n",
    "import matplotlib.pyplot as plt\n",
    "import argparse\n",
    "import json\n",
    "import numpy as np\n",
    "import matplotlib.patches as mpatches\n",
    "from skimage.measure import label, regionprops\n",
    "import math\n",
    "import skimage.morphology as morph\n",
    "import pandas as pd\n",
    "import os\n",
    "import shapely.geometry as shgeo\n",
    "import mmcv\n",
    "\n",
    "from classes.WheatDataset import WheatDataset\n",
    "from helpers import utils\n",
    "\n",
    "%matplotlib inline"
   ]
  },
  {
   "cell_type": "code",
   "execution_count": 3,
   "metadata": {},
   "outputs": [
    {
     "data": {
      "application/javascript": [
       "\n",
       "            setTimeout(function() {\n",
       "                var nbb_cell_id = 3;\n",
       "                var nbb_unformatted_code = \"from jinja2 import Environment, FileSystemLoader\\n\\n\\nclass Writer:\\n    def __init__(self, path, width, height, depth=3, database=\\\"Unknown\\\", segmented=0):\\n        environment = Environment(\\n            loader=FileSystemLoader(\\\"pascal_voc_writer_rotated/templates/\\\")\\n        )\\n        self.annotation_template = environment.get_template(\\\"annotation.xml\\\")\\n\\n        abspath = os.path.abspath(path)\\n\\n        self.template_parameters = {\\n            \\\"path\\\": abspath,\\n            \\\"filename\\\": os.path.basename(abspath),\\n            \\\"folder\\\": os.path.basename(os.path.dirname(abspath)),\\n            \\\"width\\\": width,\\n            \\\"height\\\": height,\\n            \\\"depth\\\": depth,\\n            \\\"database\\\": database,\\n            \\\"segmented\\\": segmented,\\n            \\\"objects\\\": [],\\n        }\\n\\n    def addObject(\\n        self,\\n        object_type,\\n        name,\\n        cx,\\n        cy,\\n        w,\\n        h,\\n        angle,\\n        pose=\\\"Unspecified\\\",\\n        truncated=0,\\n        difficult=0,\\n    ):\\n        self.template_parameters[\\\"objects\\\"].append(\\n            {\\n                \\\"type\\\": object_type,\\n                \\\"name\\\": name,\\n                \\\"cx\\\": cx,\\n                \\\"cy\\\": cy,\\n                \\\"w\\\": w,\\n                \\\"h\\\": h,\\n                \\\"angle\\\": angle,\\n                \\\"pose\\\": pose,\\n                \\\"truncated\\\": truncated,\\n                \\\"difficult\\\": difficult,\\n            }\\n        )\\n\\n    def save(self, annotation_path):\\n        with open(annotation_path, \\\"w\\\") as file:\\n            content = self.annotation_template.render(**self.template_parameters)\\n            file.write(content)\";\n",
       "                var nbb_formatted_code = \"from jinja2 import Environment, FileSystemLoader\\n\\n\\nclass Writer:\\n    def __init__(self, path, width, height, depth=3, database=\\\"Unknown\\\", segmented=0):\\n        environment = Environment(\\n            loader=FileSystemLoader(\\\"pascal_voc_writer_rotated/templates/\\\")\\n        )\\n        self.annotation_template = environment.get_template(\\\"annotation.xml\\\")\\n\\n        abspath = os.path.abspath(path)\\n\\n        self.template_parameters = {\\n            \\\"path\\\": abspath,\\n            \\\"filename\\\": os.path.basename(abspath),\\n            \\\"folder\\\": os.path.basename(os.path.dirname(abspath)),\\n            \\\"width\\\": width,\\n            \\\"height\\\": height,\\n            \\\"depth\\\": depth,\\n            \\\"database\\\": database,\\n            \\\"segmented\\\": segmented,\\n            \\\"objects\\\": [],\\n        }\\n\\n    def addObject(\\n        self,\\n        object_type,\\n        name,\\n        cx,\\n        cy,\\n        w,\\n        h,\\n        angle,\\n        pose=\\\"Unspecified\\\",\\n        truncated=0,\\n        difficult=0,\\n    ):\\n        self.template_parameters[\\\"objects\\\"].append(\\n            {\\n                \\\"type\\\": object_type,\\n                \\\"name\\\": name,\\n                \\\"cx\\\": cx,\\n                \\\"cy\\\": cy,\\n                \\\"w\\\": w,\\n                \\\"h\\\": h,\\n                \\\"angle\\\": angle,\\n                \\\"pose\\\": pose,\\n                \\\"truncated\\\": truncated,\\n                \\\"difficult\\\": difficult,\\n            }\\n        )\\n\\n    def save(self, annotation_path):\\n        with open(annotation_path, \\\"w\\\") as file:\\n            content = self.annotation_template.render(**self.template_parameters)\\n            file.write(content)\";\n",
       "                var nbb_cells = Jupyter.notebook.get_cells();\n",
       "                for (var i = 0; i < nbb_cells.length; ++i) {\n",
       "                    if (nbb_cells[i].input_prompt_number == nbb_cell_id) {\n",
       "                        if (nbb_cells[i].get_text() == nbb_unformatted_code) {\n",
       "                             nbb_cells[i].set_text(nbb_formatted_code);\n",
       "                        }\n",
       "                        break;\n",
       "                    }\n",
       "                }\n",
       "            }, 500);\n",
       "            "
      ],
      "text/plain": [
       "<IPython.core.display.Javascript object>"
      ]
     },
     "metadata": {},
     "output_type": "display_data"
    }
   ],
   "source": [
    "from jinja2 import Environment, FileSystemLoader\n",
    "\n",
    "\n",
    "class Writer:\n",
    "    def __init__(self, path, width, height, depth=3, database=\"Unknown\", segmented=0):\n",
    "        environment = Environment(\n",
    "            loader=FileSystemLoader(\"pascal_voc_writer_rotated/templates/\")\n",
    "        )\n",
    "        self.annotation_template = environment.get_template(\"annotation.xml\")\n",
    "\n",
    "        abspath = os.path.abspath(path)\n",
    "\n",
    "        self.template_parameters = {\n",
    "            \"path\": abspath,\n",
    "            \"filename\": os.path.basename(abspath),\n",
    "            \"folder\": os.path.basename(os.path.dirname(abspath)),\n",
    "            \"width\": width,\n",
    "            \"height\": height,\n",
    "            \"depth\": depth,\n",
    "            \"database\": database,\n",
    "            \"segmented\": segmented,\n",
    "            \"objects\": [],\n",
    "        }\n",
    "\n",
    "    def addObject(\n",
    "        self,\n",
    "        object_type,\n",
    "        name,\n",
    "        cx,\n",
    "        cy,\n",
    "        w,\n",
    "        h,\n",
    "        angle,\n",
    "        pose=\"Unspecified\",\n",
    "        truncated=0,\n",
    "        difficult=0,\n",
    "    ):\n",
    "        self.template_parameters[\"objects\"].append(\n",
    "            {\n",
    "                \"type\": object_type,\n",
    "                \"name\": name,\n",
    "                \"cx\": cx,\n",
    "                \"cy\": cy,\n",
    "                \"w\": w,\n",
    "                \"h\": h,\n",
    "                \"angle\": angle,\n",
    "                \"pose\": pose,\n",
    "                \"truncated\": truncated,\n",
    "                \"difficult\": difficult,\n",
    "            }\n",
    "        )\n",
    "\n",
    "    def save(self, annotation_path):\n",
    "        with open(annotation_path, \"w\") as file:\n",
    "            content = self.annotation_template.render(**self.template_parameters)\n",
    "            file.write(content)"
   ]
  },
  {
   "cell_type": "code",
   "execution_count": 4,
   "metadata": {},
   "outputs": [
    {
     "data": {
      "application/javascript": [
       "\n",
       "            setTimeout(function() {\n",
       "                var nbb_cell_id = 4;\n",
       "                var nbb_unformatted_code = \"## move to utils\\n\\n\\ndef dist(plot1, plot2):\\n    return math.sqrt((plot1[0] - plot2[0]) ** 2 + (plot1[1] - plot2[1]) ** 2)\\n\\n\\ndef line(p1, p2):\\n    A = p1[1] - p2[1]\\n    B = p2[0] - p1[0]\\n    C = p1[0] * p2[1] - p2[0] * p1[1]\\n    return A, B, -C\\n\\n\\ndef intersection(L1, L2):\\n    D = L1[0] * L2[1] - L1[1] * L2[0]\\n    Dx = L1[2] * L2[1] - L1[1] * L2[2]\\n    Dy = L1[0] * L2[2] - L1[2] * L2[0]\\n    if D != 0:\\n        x = Dx / D\\n        y = Dy / D\\n        return x, y\\n    else:\\n        return False\\n\\n\\ndef get_intersection(a1, a2, b1, b2):\\n    L1 = line(a1, a2)\\n    L2 = line(b1, b2)\\n\\n    R = intersection(L1, L2)\\n    if R:\\n        #         print(R)\\n        return R\\n    else:\\n        print(\\\"No single intersection point detected\\\")\\n        return None\\n\\n\\n# def get_corner_b_l(theta_rad, w, h, c):\\n#     \\\"\\\"\\\"Returns bottom left corner of the box\\n#        (b_l)----- ----> x\\n#        |        | |\\n#        |        | |\\n#        ---------- y\\n\\n#     Parameters\\n#     ----------\\n#     theta_rad : number\\n#         The file location of the spreadsheet\\n#     w : number\\n#         width of the box\\n#     h : number\\n#         height of the box\\n#     c : list [x, y]\\n#         center of the box\\n\\n#     Returns\\n#     -------\\n#     number\\n#         bottom left corner of the box\\n#     \\\"\\\"\\\"\\n#     w = w / 2\\n#     h = h / 2\\n#     c = np.array(c)\\n#     r = np.array(\\n#         (\\n#             (np.cos(theta_rad), -np.sin(theta_rad)),\\n#             (np.sin(theta_rad), np.cos(theta_rad)),\\n#         )\\n#     )\\n\\n#     v = np.array((-w, -h))\\n\\n#     return c + r.dot(v)\\n\\n\\ndef cwha_to_xyp(x_c, y_c, w, h, a):\\n    \\\"\\\"\\\"Returns four corners of the box\\n       First determine four axis aligned corner points\\n       (-w/2, -h/2)-----------(w/2, -h/2)\\n                   |         |\\n                   |    c    |\\n                   |         |\\n       (-w/2, h/2) -----------(w/2, h/2)\\n       \\n       Then, apply angle on it to get final corner points\\n       \\n       src * H = dst\\n    ...\\n    \\n    Parameters\\n    ----------\\n    x_c : number\\n          x coordinate of center\\n    y_c : number\\n          y coordinate of center\\n    w   : number\\n          width of the box\\n    h   : number\\n          height of the box\\n    a   : number\\n          angle of rotation in degrees\\n\\n    Returns\\n    -------\\n    numpy array\\n        four corners of the box\\n    \\\"\\\"\\\"\\n    w = w / 2\\n    h = h / 2\\n    c = np.array([[x_c, y_c]])\\n    a = math.radians(a)\\n\\n    rotation = np.array([[np.cos(a), -np.sin(a)], [np.sin(a), np.cos(a)],])\\n\\n    axis_aligned_box = np.array(\\n        [\\n            [-w, -h],  # bottom-left\\n            [w, -h],  # bottom-right\\n            [w, h],  # top-right\\n            [-w, h],  # top-left\\n        ]\\n    )\\n\\n    return c + axis_aligned_box.dot(rotation.T)\\n\\n\\ndef cwha_to_xyxy(x_c, y_c, w, h, a):\\n    poly = cwha_to_xyp(x_c, y_c, w, h, a)\\n\\n    xmin = max(int(poly[:, 0].min()), 0)\\n    xmax = int(poly[:, 0].max())\\n\\n    ymin = max(int(poly[:, 1].min()), 0)\\n    ymax = int(poly[:, 1].max())\\n\\n    return [xmin, ymin, xmax, ymax]\\n\\n\\ndef show_four_corners(image, corners):\\n    fig, ax = plt.subplots(1, 1, figsize=(10, 10))\\n    ax.imshow(image)\\n    colors = [\\\"yellow\\\", \\\"red\\\", \\\"green\\\", \\\"blue\\\"]\\n\\n    for i, c in enumerate(corners):\\n        circ = mpatches.Circle((c[0], c[1]), 5, color=colors[i])\\n        ax.add_patch(circ)\\n\\n    plt.tight_layout()\\n    plt.show()\";\n",
       "                var nbb_formatted_code = \"## move to utils\\n\\n\\ndef dist(plot1, plot2):\\n    return math.sqrt((plot1[0] - plot2[0]) ** 2 + (plot1[1] - plot2[1]) ** 2)\\n\\n\\ndef line(p1, p2):\\n    A = p1[1] - p2[1]\\n    B = p2[0] - p1[0]\\n    C = p1[0] * p2[1] - p2[0] * p1[1]\\n    return A, B, -C\\n\\n\\ndef intersection(L1, L2):\\n    D = L1[0] * L2[1] - L1[1] * L2[0]\\n    Dx = L1[2] * L2[1] - L1[1] * L2[2]\\n    Dy = L1[0] * L2[2] - L1[2] * L2[0]\\n    if D != 0:\\n        x = Dx / D\\n        y = Dy / D\\n        return x, y\\n    else:\\n        return False\\n\\n\\ndef get_intersection(a1, a2, b1, b2):\\n    L1 = line(a1, a2)\\n    L2 = line(b1, b2)\\n\\n    R = intersection(L1, L2)\\n    if R:\\n        #         print(R)\\n        return R\\n    else:\\n        print(\\\"No single intersection point detected\\\")\\n        return None\\n\\n\\n# def get_corner_b_l(theta_rad, w, h, c):\\n#     \\\"\\\"\\\"Returns bottom left corner of the box\\n#        (b_l)----- ----> x\\n#        |        | |\\n#        |        | |\\n#        ---------- y\\n\\n#     Parameters\\n#     ----------\\n#     theta_rad : number\\n#         The file location of the spreadsheet\\n#     w : number\\n#         width of the box\\n#     h : number\\n#         height of the box\\n#     c : list [x, y]\\n#         center of the box\\n\\n#     Returns\\n#     -------\\n#     number\\n#         bottom left corner of the box\\n#     \\\"\\\"\\\"\\n#     w = w / 2\\n#     h = h / 2\\n#     c = np.array(c)\\n#     r = np.array(\\n#         (\\n#             (np.cos(theta_rad), -np.sin(theta_rad)),\\n#             (np.sin(theta_rad), np.cos(theta_rad)),\\n#         )\\n#     )\\n\\n#     v = np.array((-w, -h))\\n\\n#     return c + r.dot(v)\\n\\n\\ndef cwha_to_xyp(x_c, y_c, w, h, a):\\n    \\\"\\\"\\\"Returns four corners of the box\\n       First determine four axis aligned corner points\\n       (-w/2, -h/2)-----------(w/2, -h/2)\\n                   |         |\\n                   |    c    |\\n                   |         |\\n       (-w/2, h/2) -----------(w/2, h/2)\\n       \\n       Then, apply angle on it to get final corner points\\n       \\n       src * H = dst\\n    ...\\n    \\n    Parameters\\n    ----------\\n    x_c : number\\n          x coordinate of center\\n    y_c : number\\n          y coordinate of center\\n    w   : number\\n          width of the box\\n    h   : number\\n          height of the box\\n    a   : number\\n          angle of rotation in degrees\\n\\n    Returns\\n    -------\\n    numpy array\\n        four corners of the box\\n    \\\"\\\"\\\"\\n    w = w / 2\\n    h = h / 2\\n    c = np.array([[x_c, y_c]])\\n    a = math.radians(a)\\n\\n    rotation = np.array([[np.cos(a), -np.sin(a)], [np.sin(a), np.cos(a)],])\\n\\n    axis_aligned_box = np.array(\\n        [\\n            [-w, -h],  # bottom-left\\n            [w, -h],  # bottom-right\\n            [w, h],  # top-right\\n            [-w, h],  # top-left\\n        ]\\n    )\\n\\n    return c + axis_aligned_box.dot(rotation.T)\\n\\n\\ndef cwha_to_xyxy(x_c, y_c, w, h, a):\\n    poly = cwha_to_xyp(x_c, y_c, w, h, a)\\n\\n    xmin = max(int(poly[:, 0].min()), 0)\\n    xmax = int(poly[:, 0].max())\\n\\n    ymin = max(int(poly[:, 1].min()), 0)\\n    ymax = int(poly[:, 1].max())\\n\\n    return [xmin, ymin, xmax, ymax]\\n\\n\\ndef show_four_corners(image, corners):\\n    fig, ax = plt.subplots(1, 1, figsize=(10, 10))\\n    ax.imshow(image)\\n    colors = [\\\"yellow\\\", \\\"red\\\", \\\"green\\\", \\\"blue\\\"]\\n\\n    for i, c in enumerate(corners):\\n        circ = mpatches.Circle((c[0], c[1]), 5, color=colors[i])\\n        ax.add_patch(circ)\\n\\n    plt.tight_layout()\\n    plt.show()\";\n",
       "                var nbb_cells = Jupyter.notebook.get_cells();\n",
       "                for (var i = 0; i < nbb_cells.length; ++i) {\n",
       "                    if (nbb_cells[i].input_prompt_number == nbb_cell_id) {\n",
       "                        if (nbb_cells[i].get_text() == nbb_unformatted_code) {\n",
       "                             nbb_cells[i].set_text(nbb_formatted_code);\n",
       "                        }\n",
       "                        break;\n",
       "                    }\n",
       "                }\n",
       "            }, 500);\n",
       "            "
      ],
      "text/plain": [
       "<IPython.core.display.Javascript object>"
      ]
     },
     "metadata": {},
     "output_type": "display_data"
    }
   ],
   "source": [
    "## move to utils\n",
    "\n",
    "\n",
    "def dist(plot1, plot2):\n",
    "    return math.sqrt((plot1[0] - plot2[0]) ** 2 + (plot1[1] - plot2[1]) ** 2)\n",
    "\n",
    "\n",
    "def line(p1, p2):\n",
    "    A = p1[1] - p2[1]\n",
    "    B = p2[0] - p1[0]\n",
    "    C = p1[0] * p2[1] - p2[0] * p1[1]\n",
    "    return A, B, -C\n",
    "\n",
    "\n",
    "def intersection(L1, L2):\n",
    "    D = L1[0] * L2[1] - L1[1] * L2[0]\n",
    "    Dx = L1[2] * L2[1] - L1[1] * L2[2]\n",
    "    Dy = L1[0] * L2[2] - L1[2] * L2[0]\n",
    "    if D != 0:\n",
    "        x = Dx / D\n",
    "        y = Dy / D\n",
    "        return x, y\n",
    "    else:\n",
    "        return False\n",
    "\n",
    "\n",
    "def get_intersection(a1, a2, b1, b2):\n",
    "    L1 = line(a1, a2)\n",
    "    L2 = line(b1, b2)\n",
    "\n",
    "    R = intersection(L1, L2)\n",
    "    if R:\n",
    "        #         print(R)\n",
    "        return R\n",
    "    else:\n",
    "        print(\"No single intersection point detected\")\n",
    "        return None\n",
    "\n",
    "\n",
    "# def get_corner_b_l(theta_rad, w, h, c):\n",
    "#     \"\"\"Returns bottom left corner of the box\n",
    "#        (b_l)----- ----> x\n",
    "#        |        | |\n",
    "#        |        | |\n",
    "#        ---------- y\n",
    "\n",
    "#     Parameters\n",
    "#     ----------\n",
    "#     theta_rad : number\n",
    "#         The file location of the spreadsheet\n",
    "#     w : number\n",
    "#         width of the box\n",
    "#     h : number\n",
    "#         height of the box\n",
    "#     c : list [x, y]\n",
    "#         center of the box\n",
    "\n",
    "#     Returns\n",
    "#     -------\n",
    "#     number\n",
    "#         bottom left corner of the box\n",
    "#     \"\"\"\n",
    "#     w = w / 2\n",
    "#     h = h / 2\n",
    "#     c = np.array(c)\n",
    "#     r = np.array(\n",
    "#         (\n",
    "#             (np.cos(theta_rad), -np.sin(theta_rad)),\n",
    "#             (np.sin(theta_rad), np.cos(theta_rad)),\n",
    "#         )\n",
    "#     )\n",
    "\n",
    "#     v = np.array((-w, -h))\n",
    "\n",
    "#     return c + r.dot(v)\n",
    "\n",
    "\n",
    "def cwha_to_xyp(x_c, y_c, w, h, a):\n",
    "    \"\"\"Returns four corners of the box\n",
    "       First determine four axis aligned corner points\n",
    "       (-w/2, -h/2)-----------(w/2, -h/2)\n",
    "                   |         |\n",
    "                   |    c    |\n",
    "                   |         |\n",
    "       (-w/2, h/2) -----------(w/2, h/2)\n",
    "       \n",
    "       Then, apply angle on it to get final corner points\n",
    "       \n",
    "       src * H = dst\n",
    "    ...\n",
    "    \n",
    "    Parameters\n",
    "    ----------\n",
    "    x_c : number\n",
    "          x coordinate of center\n",
    "    y_c : number\n",
    "          y coordinate of center\n",
    "    w   : number\n",
    "          width of the box\n",
    "    h   : number\n",
    "          height of the box\n",
    "    a   : number\n",
    "          angle of rotation in degrees\n",
    "\n",
    "    Returns\n",
    "    -------\n",
    "    numpy array\n",
    "        four corners of the box\n",
    "    \"\"\"\n",
    "    w = w / 2\n",
    "    h = h / 2\n",
    "    c = np.array([[x_c, y_c]])\n",
    "    a = math.radians(a)\n",
    "\n",
    "    rotation = np.array([[np.cos(a), -np.sin(a)], [np.sin(a), np.cos(a)],])\n",
    "\n",
    "    axis_aligned_box = np.array(\n",
    "        [\n",
    "            [-w, -h],  # bottom-left\n",
    "            [w, -h],  # bottom-right\n",
    "            [w, h],  # top-right\n",
    "            [-w, h],  # top-left\n",
    "        ]\n",
    "    )\n",
    "\n",
    "    return c + axis_aligned_box.dot(rotation.T)\n",
    "\n",
    "\n",
    "def cwha_to_xyxy(x_c, y_c, w, h, a):\n",
    "    poly = cwha_to_xyp(x_c, y_c, w, h, a)\n",
    "\n",
    "    xmin = max(int(poly[:, 0].min()), 0)\n",
    "    xmax = int(poly[:, 0].max())\n",
    "\n",
    "    ymin = max(int(poly[:, 1].min()), 0)\n",
    "    ymax = int(poly[:, 1].max())\n",
    "\n",
    "    return [xmin, ymin, xmax, ymax]\n",
    "\n",
    "\n",
    "def show_four_corners(image, corners):\n",
    "    fig, ax = plt.subplots(1, 1, figsize=(10, 10))\n",
    "    ax.imshow(image)\n",
    "    colors = [\"yellow\", \"red\", \"green\", \"blue\"]\n",
    "\n",
    "    for i, c in enumerate(corners):\n",
    "        circ = mpatches.Circle((c[0], c[1]), 5, color=colors[i])\n",
    "        ax.add_patch(circ)\n",
    "\n",
    "    plt.tight_layout()\n",
    "    plt.show()"
   ]
  },
  {
   "cell_type": "code",
   "execution_count": 5,
   "metadata": {},
   "outputs": [
    {
     "data": {
      "application/javascript": [
       "\n",
       "            setTimeout(function() {\n",
       "                var nbb_cell_id = 5;\n",
       "                var nbb_unformatted_code = \"def detect_orientation(img, img_g, box):\\n    global cnt, sm_boxes\\n\\n    img_g = img_g > filt.threshold_otsu(img_g)\\n    img_g = morph.remove_small_objects(img_g)\\n    img_g = morph.remove_small_holes(img_g)\\n    img_g = morph.binary_opening(img_g, morph.disk(1))\\n\\n    label_img = label(img_g)\\n\\n    #     utils.display_image(label_img)\\n\\n    regions = regionprops(label_img)\\n\\n    prop = None\\n    mn = 0\\n    for props in regions:\\n        if props.area > mn:\\n            mn = props.area\\n            prop = props\\n\\n    h, w = img_g.shape\\n    if mn < 15 or w < 5 or h < 5:\\n        cnt = cnt + 1\\n        sm_boxes.append(box)\\n\\n        return []\\n\\n    y0, x0 = prop.centroid\\n\\n    x1 = x0 + math.cos(prop.orientation) * 0.5 * prop.major_axis_length\\n    y1 = y0 - math.sin(prop.orientation) * 0.5 * prop.major_axis_length\\n    x2 = x0 - math.sin(prop.orientation) * 0.5 * prop.minor_axis_length\\n    y2 = y0 - math.cos(prop.orientation) * 0.5 * prop.minor_axis_length\\n\\n    #     fig, ax = plt.subplots()\\n    #     ax.imshow(img, cmap=plt.cm.gray)\\n\\n    #     ax.plot((x0, x1), (y0, y1), \\\"-r\\\", linewidth=2.5)\\n    #     ax.plot((x0, x2), (y0, y2), \\\"-y\\\", linewidth=2.5)\\n    #     ax.plot(x0, y0, \\\".g\\\", markersize=15)\\n\\n    #     minr, minc, maxr, maxc = prop.bbox\\n    #     bx = (minc, maxc, maxc, minc, minc)\\n    #     by = (minr, minr, maxr, maxr, minr)\\n\\n    #     ax.plot(bx, by, \\\"-b\\\", linewidth=2.5)\\n    #     plt.show()\\n\\n    intersections = []\\n    intersections.append(get_intersection([x0, y0], [x1, y1], [0, 0], [w, 0]))\\n    intersections.append(get_intersection([x0, y0], [x1, y1], [0, 0], [0, h]))\\n    intersections.append(get_intersection([x0, y0], [x1, y1], [w, 0], [w, h]))\\n    intersections.append(get_intersection([x0, y0], [x1, y1], [0, h], [w, h]))\\n\\n    points = []\\n    for i in intersections:\\n        if i[0] >= 0 and i[0] - w <= 0.0001 and i[1] >= 0 and i[1] - h <= 0.0001:\\n            points.append(i)\\n\\n    if len(points) == 2:\\n        b_width = dist(points[0], points[1])\\n        b_height = prop.minor_axis_length + 10\\n\\n        x_center = box[0] + 0.5 * abs(points[0][0] + points[1][0])\\n        y_center = box[1] + 0.5 * abs(points[0][1] + points[1][1])\\n\\n        #         print(np.rad2deg(prop.orientation))\\n\\n        ## considering positive y axis is downwards\\n        #         maj_ang = np.rad2deg(prop.orientation) + 90\\n        #         maj_ang = -(maj_ang - 180) if maj_ang > 90 else 180 - maj_ang\\n        #         print(maj_ang)\\n\\n        # angle is from 0 to 180 clockwise from x axis\\n        maj_ang = np.rad2deg(prop.orientation)\\n        maj_ang = 180 - maj_ang if maj_ang > 0 else -maj_ang\\n\\n        return [x_center, y_center, b_width, b_height, maj_ang]\\n    else:\\n        print(w, h)\\n        print(intersections)\\n        print(points)\\n\\n        cnt = cnt + 1\\n        sm_boxes.append(box)\\n\\n        fig, ax = plt.subplots()\\n        ax.imshow(img, cmap=plt.cm.gray)\\n\\n        ax.plot((x0, x1), (y0, y1), \\\"-r\\\", linewidth=2.5)\\n        ax.plot((x0, x2), (y0, y2), \\\"-y\\\", linewidth=2.5)\\n        ax.plot(x0, y0, \\\".g\\\", markersize=15)\\n\\n        minr, minc, maxr, maxc = prop.bbox\\n        bx = (minc, maxc, maxc, minc, minc)\\n        by = (minr, minr, maxr, maxr, minr)\\n\\n        ax.plot(bx, by, \\\"-b\\\", linewidth=2.5)\\n        plt.show()\\n\\n        print(\\\"NOT FOUND\\\")\\n        return []\";\n",
       "                var nbb_formatted_code = \"def detect_orientation(img, img_g, box):\\n    global cnt, sm_boxes\\n\\n    img_g = img_g > filt.threshold_otsu(img_g)\\n    img_g = morph.remove_small_objects(img_g)\\n    img_g = morph.remove_small_holes(img_g)\\n    img_g = morph.binary_opening(img_g, morph.disk(1))\\n\\n    label_img = label(img_g)\\n\\n    #     utils.display_image(label_img)\\n\\n    regions = regionprops(label_img)\\n\\n    prop = None\\n    mn = 0\\n    for props in regions:\\n        if props.area > mn:\\n            mn = props.area\\n            prop = props\\n\\n    h, w = img_g.shape\\n    if mn < 15 or w < 5 or h < 5:\\n        cnt = cnt + 1\\n        sm_boxes.append(box)\\n\\n        return []\\n\\n    y0, x0 = prop.centroid\\n\\n    x1 = x0 + math.cos(prop.orientation) * 0.5 * prop.major_axis_length\\n    y1 = y0 - math.sin(prop.orientation) * 0.5 * prop.major_axis_length\\n    x2 = x0 - math.sin(prop.orientation) * 0.5 * prop.minor_axis_length\\n    y2 = y0 - math.cos(prop.orientation) * 0.5 * prop.minor_axis_length\\n\\n    #     fig, ax = plt.subplots()\\n    #     ax.imshow(img, cmap=plt.cm.gray)\\n\\n    #     ax.plot((x0, x1), (y0, y1), \\\"-r\\\", linewidth=2.5)\\n    #     ax.plot((x0, x2), (y0, y2), \\\"-y\\\", linewidth=2.5)\\n    #     ax.plot(x0, y0, \\\".g\\\", markersize=15)\\n\\n    #     minr, minc, maxr, maxc = prop.bbox\\n    #     bx = (minc, maxc, maxc, minc, minc)\\n    #     by = (minr, minr, maxr, maxr, minr)\\n\\n    #     ax.plot(bx, by, \\\"-b\\\", linewidth=2.5)\\n    #     plt.show()\\n\\n    intersections = []\\n    intersections.append(get_intersection([x0, y0], [x1, y1], [0, 0], [w, 0]))\\n    intersections.append(get_intersection([x0, y0], [x1, y1], [0, 0], [0, h]))\\n    intersections.append(get_intersection([x0, y0], [x1, y1], [w, 0], [w, h]))\\n    intersections.append(get_intersection([x0, y0], [x1, y1], [0, h], [w, h]))\\n\\n    points = []\\n    for i in intersections:\\n        if i[0] >= 0 and i[0] - w <= 0.0001 and i[1] >= 0 and i[1] - h <= 0.0001:\\n            points.append(i)\\n\\n    if len(points) == 2:\\n        b_width = dist(points[0], points[1])\\n        b_height = prop.minor_axis_length + 10\\n\\n        x_center = box[0] + 0.5 * abs(points[0][0] + points[1][0])\\n        y_center = box[1] + 0.5 * abs(points[0][1] + points[1][1])\\n\\n        #         print(np.rad2deg(prop.orientation))\\n\\n        ## considering positive y axis is downwards\\n        #         maj_ang = np.rad2deg(prop.orientation) + 90\\n        #         maj_ang = -(maj_ang - 180) if maj_ang > 90 else 180 - maj_ang\\n        #         print(maj_ang)\\n\\n        # angle is from 0 to 180 clockwise from x axis\\n        maj_ang = np.rad2deg(prop.orientation)\\n        maj_ang = 180 - maj_ang if maj_ang > 0 else -maj_ang\\n\\n        return [x_center, y_center, b_width, b_height, maj_ang]\\n    else:\\n        print(w, h)\\n        print(intersections)\\n        print(points)\\n\\n        cnt = cnt + 1\\n        sm_boxes.append(box)\\n\\n        fig, ax = plt.subplots()\\n        ax.imshow(img, cmap=plt.cm.gray)\\n\\n        ax.plot((x0, x1), (y0, y1), \\\"-r\\\", linewidth=2.5)\\n        ax.plot((x0, x2), (y0, y2), \\\"-y\\\", linewidth=2.5)\\n        ax.plot(x0, y0, \\\".g\\\", markersize=15)\\n\\n        minr, minc, maxr, maxc = prop.bbox\\n        bx = (minc, maxc, maxc, minc, minc)\\n        by = (minr, minr, maxr, maxr, minr)\\n\\n        ax.plot(bx, by, \\\"-b\\\", linewidth=2.5)\\n        plt.show()\\n\\n        print(\\\"NOT FOUND\\\")\\n        return []\";\n",
       "                var nbb_cells = Jupyter.notebook.get_cells();\n",
       "                for (var i = 0; i < nbb_cells.length; ++i) {\n",
       "                    if (nbb_cells[i].input_prompt_number == nbb_cell_id) {\n",
       "                        if (nbb_cells[i].get_text() == nbb_unformatted_code) {\n",
       "                             nbb_cells[i].set_text(nbb_formatted_code);\n",
       "                        }\n",
       "                        break;\n",
       "                    }\n",
       "                }\n",
       "            }, 500);\n",
       "            "
      ],
      "text/plain": [
       "<IPython.core.display.Javascript object>"
      ]
     },
     "metadata": {},
     "output_type": "display_data"
    }
   ],
   "source": [
    "def detect_orientation(img, img_g, box):\n",
    "    global cnt, sm_boxes\n",
    "\n",
    "    img_g = img_g > filt.threshold_otsu(img_g)\n",
    "    img_g = morph.remove_small_objects(img_g)\n",
    "    img_g = morph.remove_small_holes(img_g)\n",
    "    img_g = morph.binary_opening(img_g, morph.disk(1))\n",
    "\n",
    "    label_img = label(img_g)\n",
    "\n",
    "    #     utils.display_image(label_img)\n",
    "\n",
    "    regions = regionprops(label_img)\n",
    "\n",
    "    prop = None\n",
    "    mn = 0\n",
    "    for props in regions:\n",
    "        if props.area > mn:\n",
    "            mn = props.area\n",
    "            prop = props\n",
    "\n",
    "    h, w = img_g.shape\n",
    "    if mn < 15 or w < 5 or h < 5:\n",
    "        cnt = cnt + 1\n",
    "        sm_boxes.append(box)\n",
    "\n",
    "        return []\n",
    "\n",
    "    y0, x0 = prop.centroid\n",
    "\n",
    "    x1 = x0 + math.cos(prop.orientation) * 0.5 * prop.major_axis_length\n",
    "    y1 = y0 - math.sin(prop.orientation) * 0.5 * prop.major_axis_length\n",
    "    x2 = x0 - math.sin(prop.orientation) * 0.5 * prop.minor_axis_length\n",
    "    y2 = y0 - math.cos(prop.orientation) * 0.5 * prop.minor_axis_length\n",
    "\n",
    "    #     fig, ax = plt.subplots()\n",
    "    #     ax.imshow(img, cmap=plt.cm.gray)\n",
    "\n",
    "    #     ax.plot((x0, x1), (y0, y1), \"-r\", linewidth=2.5)\n",
    "    #     ax.plot((x0, x2), (y0, y2), \"-y\", linewidth=2.5)\n",
    "    #     ax.plot(x0, y0, \".g\", markersize=15)\n",
    "\n",
    "    #     minr, minc, maxr, maxc = prop.bbox\n",
    "    #     bx = (minc, maxc, maxc, minc, minc)\n",
    "    #     by = (minr, minr, maxr, maxr, minr)\n",
    "\n",
    "    #     ax.plot(bx, by, \"-b\", linewidth=2.5)\n",
    "    #     plt.show()\n",
    "\n",
    "    intersections = []\n",
    "    intersections.append(get_intersection([x0, y0], [x1, y1], [0, 0], [w, 0]))\n",
    "    intersections.append(get_intersection([x0, y0], [x1, y1], [0, 0], [0, h]))\n",
    "    intersections.append(get_intersection([x0, y0], [x1, y1], [w, 0], [w, h]))\n",
    "    intersections.append(get_intersection([x0, y0], [x1, y1], [0, h], [w, h]))\n",
    "\n",
    "    points = []\n",
    "    for i in intersections:\n",
    "        if i[0] >= 0 and i[0] - w <= 0.0001 and i[1] >= 0 and i[1] - h <= 0.0001:\n",
    "            points.append(i)\n",
    "\n",
    "    if len(points) == 2:\n",
    "        b_width = dist(points[0], points[1])\n",
    "        b_height = prop.minor_axis_length + 10\n",
    "\n",
    "        x_center = box[0] + 0.5 * abs(points[0][0] + points[1][0])\n",
    "        y_center = box[1] + 0.5 * abs(points[0][1] + points[1][1])\n",
    "\n",
    "        #         print(np.rad2deg(prop.orientation))\n",
    "\n",
    "        ## considering positive y axis is downwards\n",
    "        #         maj_ang = np.rad2deg(prop.orientation) + 90\n",
    "        #         maj_ang = -(maj_ang - 180) if maj_ang > 90 else 180 - maj_ang\n",
    "        #         print(maj_ang)\n",
    "\n",
    "        # angle is from 0 to 180 clockwise from x axis\n",
    "        maj_ang = np.rad2deg(prop.orientation)\n",
    "        maj_ang = 180 - maj_ang if maj_ang > 0 else -maj_ang\n",
    "\n",
    "        return [x_center, y_center, b_width, b_height, maj_ang]\n",
    "    else:\n",
    "        print(w, h)\n",
    "        print(intersections)\n",
    "        print(points)\n",
    "\n",
    "        cnt = cnt + 1\n",
    "        sm_boxes.append(box)\n",
    "\n",
    "        fig, ax = plt.subplots()\n",
    "        ax.imshow(img, cmap=plt.cm.gray)\n",
    "\n",
    "        ax.plot((x0, x1), (y0, y1), \"-r\", linewidth=2.5)\n",
    "        ax.plot((x0, x2), (y0, y2), \"-y\", linewidth=2.5)\n",
    "        ax.plot(x0, y0, \".g\", markersize=15)\n",
    "\n",
    "        minr, minc, maxr, maxc = prop.bbox\n",
    "        bx = (minc, maxc, maxc, minc, minc)\n",
    "        by = (minr, minr, maxr, maxr, minr)\n",
    "\n",
    "        ax.plot(bx, by, \"-b\", linewidth=2.5)\n",
    "        plt.show()\n",
    "\n",
    "        print(\"NOT FOUND\")\n",
    "        return []"
   ]
  },
  {
   "cell_type": "code",
   "execution_count": 6,
   "metadata": {},
   "outputs": [
    {
     "data": {
      "application/javascript": [
       "\n",
       "            setTimeout(function() {\n",
       "                var nbb_cell_id = 6;\n",
       "                var nbb_unformatted_code = \"def get_orientation(image, bbox):\\n    patch = image[bbox[1] : bbox[3], bbox[0] : bbox[2]]\\n    patch_g = color.rgb2gray(patch)\\n    patch_g_filt = filt.gaussian(patch_g, 1)\\n\\n    #     if indx == 8:\\n    #     utils.display_image(patch, False, False)\\n    #     utils.display_image(patch_g > filt.threshold_otsu(patch_g), False, False)\\n    #     utils.display_image(patch_g_filt > filt.threshold_otsu(patch_g_filt), False, False)\\n\\n    return detect_orientation(patch.copy(), patch_g_filt.copy(), bbox)\";\n",
       "                var nbb_formatted_code = \"def get_orientation(image, bbox):\\n    patch = image[bbox[1] : bbox[3], bbox[0] : bbox[2]]\\n    patch_g = color.rgb2gray(patch)\\n    patch_g_filt = filt.gaussian(patch_g, 1)\\n\\n    #     if indx == 8:\\n    #     utils.display_image(patch, False, False)\\n    #     utils.display_image(patch_g > filt.threshold_otsu(patch_g), False, False)\\n    #     utils.display_image(patch_g_filt > filt.threshold_otsu(patch_g_filt), False, False)\\n\\n    return detect_orientation(patch.copy(), patch_g_filt.copy(), bbox)\";\n",
       "                var nbb_cells = Jupyter.notebook.get_cells();\n",
       "                for (var i = 0; i < nbb_cells.length; ++i) {\n",
       "                    if (nbb_cells[i].input_prompt_number == nbb_cell_id) {\n",
       "                        if (nbb_cells[i].get_text() == nbb_unformatted_code) {\n",
       "                             nbb_cells[i].set_text(nbb_formatted_code);\n",
       "                        }\n",
       "                        break;\n",
       "                    }\n",
       "                }\n",
       "            }, 500);\n",
       "            "
      ],
      "text/plain": [
       "<IPython.core.display.Javascript object>"
      ]
     },
     "metadata": {},
     "output_type": "display_data"
    }
   ],
   "source": [
    "def get_orientation(image, bbox):\n",
    "    patch = image[bbox[1] : bbox[3], bbox[0] : bbox[2]]\n",
    "    patch_g = color.rgb2gray(patch)\n",
    "    patch_g_filt = filt.gaussian(patch_g, 1)\n",
    "\n",
    "    #     if indx == 8:\n",
    "    #     utils.display_image(patch, False, False)\n",
    "    #     utils.display_image(patch_g > filt.threshold_otsu(patch_g), False, False)\n",
    "    #     utils.display_image(patch_g_filt > filt.threshold_otsu(patch_g_filt), False, False)\n",
    "\n",
    "    return detect_orientation(patch.copy(), patch_g_filt.copy(), bbox)"
   ]
  },
  {
   "cell_type": "code",
   "execution_count": 7,
   "metadata": {},
   "outputs": [
    {
     "data": {
      "application/javascript": [
       "\n",
       "            setTimeout(function() {\n",
       "                var nbb_cell_id = 7;\n",
       "                var nbb_unformatted_code = \"def detect_oriented_boxes(filename, bboxes, r_format=\\\"XYP\\\"):\\n    image = utils.get_rgb_image(\\n        img_as_float(io.imread(os.path.join(path_images, filename)))\\n    )\\n\\n    bboxes_xyp = utils.xyxy_to_poly(bboxes)\\n\\n    rows = []\\n    rows_xyp = []\\n    for i in range(0, min(len(bboxes), 100)):\\n        cwha = get_orientation(image, bboxes[i])\\n        #         print(cwha)\\n        if cwha:\\n            xyp = cwha_to_xyp(*cwha).flatten()\\n            xyp[xyp < 0] = 0\\n\\n            rows.append(xyp if r_format == \\\"XYP\\\" else cwha)\\n            rows_xyp.append(xyp)\\n            #             show_four_corners(image, list(xyp.reshape((-1, 2))))\\n\\n    #     utils.show_poly_anno(\\n    #         os.path.join(path_images, filename),\\n    #         [np.array(rows_xyp), bboxes_xyp],\\n    #         [\\\"Rotated\\\", \\\"Original\\\"],\\n    #         False,\\n    #         (15, 15),\\n    #     )\\n\\n    return rows\";\n",
       "                var nbb_formatted_code = \"def detect_oriented_boxes(filename, bboxes, r_format=\\\"XYP\\\"):\\n    image = utils.get_rgb_image(\\n        img_as_float(io.imread(os.path.join(path_images, filename)))\\n    )\\n\\n    bboxes_xyp = utils.xyxy_to_poly(bboxes)\\n\\n    rows = []\\n    rows_xyp = []\\n    for i in range(0, min(len(bboxes), 100)):\\n        cwha = get_orientation(image, bboxes[i])\\n        #         print(cwha)\\n        if cwha:\\n            xyp = cwha_to_xyp(*cwha).flatten()\\n            xyp[xyp < 0] = 0\\n\\n            rows.append(xyp if r_format == \\\"XYP\\\" else cwha)\\n            rows_xyp.append(xyp)\\n            #             show_four_corners(image, list(xyp.reshape((-1, 2))))\\n\\n    #     utils.show_poly_anno(\\n    #         os.path.join(path_images, filename),\\n    #         [np.array(rows_xyp), bboxes_xyp],\\n    #         [\\\"Rotated\\\", \\\"Original\\\"],\\n    #         False,\\n    #         (15, 15),\\n    #     )\\n\\n    return rows\";\n",
       "                var nbb_cells = Jupyter.notebook.get_cells();\n",
       "                for (var i = 0; i < nbb_cells.length; ++i) {\n",
       "                    if (nbb_cells[i].input_prompt_number == nbb_cell_id) {\n",
       "                        if (nbb_cells[i].get_text() == nbb_unformatted_code) {\n",
       "                             nbb_cells[i].set_text(nbb_formatted_code);\n",
       "                        }\n",
       "                        break;\n",
       "                    }\n",
       "                }\n",
       "            }, 500);\n",
       "            "
      ],
      "text/plain": [
       "<IPython.core.display.Javascript object>"
      ]
     },
     "metadata": {},
     "output_type": "display_data"
    }
   ],
   "source": [
    "def detect_oriented_boxes(filename, bboxes, r_format=\"XYP\"):\n",
    "    image = utils.get_rgb_image(\n",
    "        img_as_float(io.imread(os.path.join(path_images, filename)))\n",
    "    )\n",
    "\n",
    "    bboxes_xyp = utils.xyxy_to_poly(bboxes)\n",
    "\n",
    "    rows = []\n",
    "    rows_xyp = []\n",
    "    for i in range(0, min(len(bboxes), 100)):\n",
    "        cwha = get_orientation(image, bboxes[i])\n",
    "        #         print(cwha)\n",
    "        if cwha:\n",
    "            xyp = cwha_to_xyp(*cwha).flatten()\n",
    "            xyp[xyp < 0] = 0\n",
    "\n",
    "            rows.append(xyp if r_format == \"XYP\" else cwha)\n",
    "            rows_xyp.append(xyp)\n",
    "            #             show_four_corners(image, list(xyp.reshape((-1, 2))))\n",
    "\n",
    "    #     utils.show_poly_anno(\n",
    "    #         os.path.join(path_images, filename),\n",
    "    #         [np.array(rows_xyp), bboxes_xyp],\n",
    "    #         [\"Rotated\", \"Original\"],\n",
    "    #         False,\n",
    "    #         (15, 15),\n",
    "    #     )\n",
    "\n",
    "    return rows"
   ]
  },
  {
   "cell_type": "markdown",
   "metadata": {},
   "source": [
    "### Detect rotated bounding boxes per image and create a csv"
   ]
  },
  {
   "cell_type": "markdown",
   "metadata": {},
   "source": [
    "#### Define some paths"
   ]
  },
  {
   "cell_type": "code",
   "execution_count": 84,
   "metadata": {},
   "outputs": [
    {
     "data": {
      "application/javascript": [
       "\n",
       "            setTimeout(function() {\n",
       "                var nbb_cell_id = 84;\n",
       "                var nbb_unformatted_code = \"path_images = \\\"/home/badhon/Documents/thesis/Data and Scripts from AL/global-WHEAT-final/train/usas_minipam/\\\"\\npath_splits = \\\"/home/badhon/Documents/thesis/AerialDetection/data/wheat_competition/\\\"\\ndataset_type = \\\"test\\\"\\npath_xml = \\\"/home/badhon/Documents/thesis/rotated_annotation/\\\" + dataset_type + \\\"/\\\"\\npath_axis_aligned_annotation_vis = os.path.join(\\n    \\\"/home/badhon/Documents/thesis/axis_aligned_annotation_vis\\\", dataset_type\\n)\\npath_rotated_annotation_vis = os.path.join(\\n    \\\"/home/badhon/Documents/thesis/rotated_annotation_vis\\\", dataset_type\\n)\";\n",
       "                var nbb_formatted_code = \"path_images = \\\"/home/badhon/Documents/thesis/Data and Scripts from AL/global-WHEAT-final/train/usas_minipam/\\\"\\npath_splits = \\\"/home/badhon/Documents/thesis/AerialDetection/data/wheat_competition/\\\"\\ndataset_type = \\\"test\\\"\\npath_xml = \\\"/home/badhon/Documents/thesis/rotated_annotation/\\\" + dataset_type + \\\"/\\\"\\npath_axis_aligned_annotation_vis = os.path.join(\\n    \\\"/home/badhon/Documents/thesis/axis_aligned_annotation_vis\\\", dataset_type\\n)\\npath_rotated_annotation_vis = os.path.join(\\n    \\\"/home/badhon/Documents/thesis/rotated_annotation_vis\\\", dataset_type\\n)\";\n",
       "                var nbb_cells = Jupyter.notebook.get_cells();\n",
       "                for (var i = 0; i < nbb_cells.length; ++i) {\n",
       "                    if (nbb_cells[i].input_prompt_number == nbb_cell_id) {\n",
       "                        if (nbb_cells[i].get_text() == nbb_unformatted_code) {\n",
       "                             nbb_cells[i].set_text(nbb_formatted_code);\n",
       "                        }\n",
       "                        break;\n",
       "                    }\n",
       "                }\n",
       "            }, 500);\n",
       "            "
      ],
      "text/plain": [
       "<IPython.core.display.Javascript object>"
      ]
     },
     "metadata": {},
     "output_type": "display_data"
    }
   ],
   "source": [
    "path_images = \"/home/badhon/Documents/thesis/Data and Scripts from AL/global-WHEAT-final/train/usas_minipam/\"\n",
    "path_splits = \"/home/badhon/Documents/thesis/AerialDetection/data/wheat_competition/\"\n",
    "dataset_type = \"test\"\n",
    "path_xml = \"/home/badhon/Documents/thesis/rotated_annotation/\" + dataset_type + \"/\"\n",
    "path_axis_aligned_annotation_vis = os.path.join(\n",
    "    \"/home/badhon/Documents/thesis/axis_aligned_annotation_vis\", dataset_type\n",
    ")\n",
    "path_rotated_annotation_vis = os.path.join(\n",
    "    \"/home/badhon/Documents/thesis/rotated_annotation_vis\", dataset_type\n",
    ")"
   ]
  },
  {
   "cell_type": "markdown",
   "metadata": {},
   "source": [
    "#### Load Dataset"
   ]
  },
  {
   "cell_type": "code",
   "execution_count": 85,
   "metadata": {},
   "outputs": [
    {
     "data": {
      "application/javascript": [
       "\n",
       "            setTimeout(function() {\n",
       "                var nbb_cell_id = 85;\n",
       "                var nbb_unformatted_code = \"dataset = WheatDataset(\\n    os.path.join(path_splits, dataset_type + \\\"/\\\" + dataset_type + \\\".json\\\"), path_images\\n)\\ndataset.load_dataset()\";\n",
       "                var nbb_formatted_code = \"dataset = WheatDataset(\\n    os.path.join(path_splits, dataset_type + \\\"/\\\" + dataset_type + \\\".json\\\"), path_images\\n)\\ndataset.load_dataset()\";\n",
       "                var nbb_cells = Jupyter.notebook.get_cells();\n",
       "                for (var i = 0; i < nbb_cells.length; ++i) {\n",
       "                    if (nbb_cells[i].input_prompt_number == nbb_cell_id) {\n",
       "                        if (nbb_cells[i].get_text() == nbb_unformatted_code) {\n",
       "                             nbb_cells[i].set_text(nbb_formatted_code);\n",
       "                        }\n",
       "                        break;\n",
       "                    }\n",
       "                }\n",
       "            }, 500);\n",
       "            "
      ],
      "text/plain": [
       "<IPython.core.display.Javascript object>"
      ]
     },
     "metadata": {},
     "output_type": "display_data"
    }
   ],
   "source": [
    "dataset = WheatDataset(\n",
    "    os.path.join(path_splits, dataset_type + \"/\" + dataset_type + \".json\"), path_images\n",
    ")\n",
    "dataset.load_dataset()"
   ]
  },
  {
   "cell_type": "markdown",
   "metadata": {},
   "source": [
    "#### Some Variables"
   ]
  },
  {
   "cell_type": "code",
   "execution_count": 86,
   "metadata": {},
   "outputs": [
    {
     "data": {
      "application/javascript": [
       "\n",
       "            setTimeout(function() {\n",
       "                var nbb_cell_id = 86;\n",
       "                var nbb_unformatted_code = \"global cnt, sm_boxes\\n\\ncnt = 0\\nsm_boxes = []\\n\\nfilenames = dataset.get_file_names()\";\n",
       "                var nbb_formatted_code = \"global cnt, sm_boxes\\n\\ncnt = 0\\nsm_boxes = []\\n\\nfilenames = dataset.get_file_names()\";\n",
       "                var nbb_cells = Jupyter.notebook.get_cells();\n",
       "                for (var i = 0; i < nbb_cells.length; ++i) {\n",
       "                    if (nbb_cells[i].input_prompt_number == nbb_cell_id) {\n",
       "                        if (nbb_cells[i].get_text() == nbb_unformatted_code) {\n",
       "                             nbb_cells[i].set_text(nbb_formatted_code);\n",
       "                        }\n",
       "                        break;\n",
       "                    }\n",
       "                }\n",
       "            }, 500);\n",
       "            "
      ],
      "text/plain": [
       "<IPython.core.display.Javascript object>"
      ]
     },
     "metadata": {},
     "output_type": "display_data"
    }
   ],
   "source": [
    "global cnt, sm_boxes\n",
    "\n",
    "cnt = 0\n",
    "sm_boxes = []\n",
    "\n",
    "filenames = dataset.get_file_names()"
   ]
  },
  {
   "cell_type": "markdown",
   "metadata": {},
   "source": [
    "#### Generate rotated bounding boxes annotations and save as xml"
   ]
  },
  {
   "cell_type": "code",
   "execution_count": 87,
   "metadata": {
    "scrolled": false
   },
   "outputs": [
    {
     "name": "stdout",
     "output_type": "stream",
     "text": [
      "0:  crop_1_crop_0_905-compressed.png\n",
      "1:  crop_1_crop_0_4745-compressed.png\n"
     ]
    },
    {
     "name": "stderr",
     "output_type": "stream",
     "text": [
      "/home/badhon/anaconda3/lib/python3.7/site-packages/skimage/measure/_regionprops.py:250: UserWarning: regionprops and image moments (including moments, normalized moments, central moments, and inertia tensor) of 2D images will change from xy coordinates to rc coordinates in version 0.16.\n",
      "See https://scikit-image.org/docs/0.14.x/release_notes_and_installation.html#deprecations for details on how to avoid this message.\n",
      "  warn(XY_TO_RC_DEPRECATION_MESSAGE)\n",
      "/home/badhon/anaconda3/lib/python3.7/site-packages/skimage/measure/_regionprops.py:260: UserWarning: regionprops and image moments (including moments, normalized moments, central moments, and inertia tensor) of 2D images will change from xy coordinates to rc coordinates in version 0.16.\n",
      "See https://scikit-image.org/docs/0.14.x/release_notes_and_installation.html#deprecations for details on how to avoid this message.\n",
      "  warn(XY_TO_RC_DEPRECATION_MESSAGE)\n"
     ]
    },
    {
     "name": "stdout",
     "output_type": "stream",
     "text": [
      "2:  crop_1_crop_0_473-compressed.png\n",
      "3:  crop_1_crop_0_964-compressed.png\n",
      "4:  crop_1_crop_0_4760-compressed.png\n",
      "5:  crop_1_crop_0_4955-compressed.png\n",
      "6:  crop_1_crop_0_698-compressed.png\n",
      "7:  crop_1_crop_0_82-compressed.png\n",
      "8:  crop_1_crop_0_967-compressed.png\n",
      "9:  crop_1_crop_0_913-compressed.png\n",
      "10:  crop_1_crop_0_98-compressed.png\n",
      "11:  crop_1_crop_0_96-compressed.png\n",
      "12:  crop_1_crop_0_710-compressed.png\n",
      "13:  crop_1_crop_0_4909-compressed.png\n",
      "14:  crop_1_crop_0_771-compressed.png\n",
      "15:  crop_1_crop_0_521-compressed.png\n",
      "16:  crop_1_crop_0_747-compressed.png\n",
      "17:  crop_1_crop_0_810-compressed.png\n",
      "18:  crop_1_crop_0_834-compressed.png\n",
      "19:  crop_1_crop_0_4855-compressed.png\n"
     ]
    },
    {
     "data": {
      "application/javascript": [
       "\n",
       "            setTimeout(function() {\n",
       "                var nbb_cell_id = 87;\n",
       "                var nbb_unformatted_code = \"df_rows = []\\nfor i, filename in enumerate(filenames[:]):\\n    print(str(i) + \\\":  \\\" + filename)\\n\\n    bboxes = np.array(dataset.get_bboxes_of_image(filename))\\n    r_bboxes = detect_oriented_boxes(filename, bboxes, r_format=\\\"CWHA\\\")\\n\\n    writer = Writer(\\n        os.path.join(path_splits, dataset_type + \\\"/images\\\", filename), \\\"1024\\\", \\\"1024\\\"\\n    )\\n    for b in r_bboxes:\\n        b[4] = math.radians(b[4])\\n        writer.addObject(\\\"robndbox\\\", \\\"wheat_head\\\", *b)\\n\\n    writer.save(path_xml + filename[:-4] + \\\".xml\\\")\";\n",
       "                var nbb_formatted_code = \"df_rows = []\\nfor i, filename in enumerate(filenames[:]):\\n    print(str(i) + \\\":  \\\" + filename)\\n\\n    bboxes = np.array(dataset.get_bboxes_of_image(filename))\\n    r_bboxes = detect_oriented_boxes(filename, bboxes, r_format=\\\"CWHA\\\")\\n\\n    writer = Writer(\\n        os.path.join(path_splits, dataset_type + \\\"/images\\\", filename), \\\"1024\\\", \\\"1024\\\"\\n    )\\n    for b in r_bboxes:\\n        b[4] = math.radians(b[4])\\n        writer.addObject(\\\"robndbox\\\", \\\"wheat_head\\\", *b)\\n\\n    writer.save(path_xml + filename[:-4] + \\\".xml\\\")\";\n",
       "                var nbb_cells = Jupyter.notebook.get_cells();\n",
       "                for (var i = 0; i < nbb_cells.length; ++i) {\n",
       "                    if (nbb_cells[i].input_prompt_number == nbb_cell_id) {\n",
       "                        if (nbb_cells[i].get_text() == nbb_unformatted_code) {\n",
       "                             nbb_cells[i].set_text(nbb_formatted_code);\n",
       "                        }\n",
       "                        break;\n",
       "                    }\n",
       "                }\n",
       "            }, 500);\n",
       "            "
      ],
      "text/plain": [
       "<IPython.core.display.Javascript object>"
      ]
     },
     "metadata": {},
     "output_type": "display_data"
    }
   ],
   "source": [
    "df_rows = []\n",
    "for i, filename in enumerate(filenames[:]):\n",
    "    print(str(i) + \":  \" + filename)\n",
    "\n",
    "    bboxes = np.array(dataset.get_bboxes_of_image(filename))\n",
    "    r_bboxes = detect_oriented_boxes(filename, bboxes, r_format=\"CWHA\")\n",
    "\n",
    "    writer = Writer(\n",
    "        os.path.join(path_splits, dataset_type + \"/images\", filename), \"1024\", \"1024\"\n",
    "    )\n",
    "    for b in r_bboxes:\n",
    "        b[4] = math.radians(b[4])\n",
    "        writer.addObject(\"robndbox\", \"wheat_head\", *b)\n",
    "\n",
    "    writer.save(path_xml + filename[:-4] + \".xml\")"
   ]
  },
  {
   "cell_type": "markdown",
   "metadata": {},
   "source": [
    "#### Save axis aligned annotations as images"
   ]
  },
  {
   "cell_type": "code",
   "execution_count": 88,
   "metadata": {},
   "outputs": [
    {
     "name": "stdout",
     "output_type": "stream",
     "text": [
      "0:  crop_1_crop_0_905-compressed.png\n",
      "1:  crop_1_crop_0_4745-compressed.png\n",
      "2:  crop_1_crop_0_473-compressed.png\n",
      "3:  crop_1_crop_0_964-compressed.png\n",
      "4:  crop_1_crop_0_4760-compressed.png\n",
      "5:  crop_1_crop_0_4955-compressed.png\n",
      "6:  crop_1_crop_0_698-compressed.png\n",
      "7:  crop_1_crop_0_82-compressed.png\n",
      "8:  crop_1_crop_0_967-compressed.png\n",
      "9:  crop_1_crop_0_913-compressed.png\n",
      "10:  crop_1_crop_0_98-compressed.png\n",
      "11:  crop_1_crop_0_96-compressed.png\n",
      "12:  crop_1_crop_0_710-compressed.png\n",
      "13:  crop_1_crop_0_4909-compressed.png\n",
      "14:  crop_1_crop_0_771-compressed.png\n",
      "15:  crop_1_crop_0_521-compressed.png\n",
      "16:  crop_1_crop_0_747-compressed.png\n",
      "17:  crop_1_crop_0_810-compressed.png\n",
      "18:  crop_1_crop_0_834-compressed.png\n",
      "19:  crop_1_crop_0_4855-compressed.png\n"
     ]
    },
    {
     "data": {
      "application/javascript": [
       "\n",
       "            setTimeout(function() {\n",
       "                var nbb_cell_id = 88;\n",
       "                var nbb_unformatted_code = \"for i, filename in enumerate(filenames[:]):\\n    print(str(i) + \\\":  \\\" + filename)\\n\\n    bboxes = np.array(dataset.get_bboxes_of_image(filename, r_format=\\\"XYP\\\"))\\n    utils.show_poly_anno(\\n        os.path.join(path_images, filename),\\n        [bboxes],\\n        [\\\"Original\\\"],\\n        False,\\n        (20, 20),\\n        True,\\n        os.path.join(path_axis_aligned_annotation_vis, filename),\\n    )\";\n",
       "                var nbb_formatted_code = \"for i, filename in enumerate(filenames[:]):\\n    print(str(i) + \\\":  \\\" + filename)\\n\\n    bboxes = np.array(dataset.get_bboxes_of_image(filename, r_format=\\\"XYP\\\"))\\n    utils.show_poly_anno(\\n        os.path.join(path_images, filename),\\n        [bboxes],\\n        [\\\"Original\\\"],\\n        False,\\n        (20, 20),\\n        True,\\n        os.path.join(path_axis_aligned_annotation_vis, filename),\\n    )\";\n",
       "                var nbb_cells = Jupyter.notebook.get_cells();\n",
       "                for (var i = 0; i < nbb_cells.length; ++i) {\n",
       "                    if (nbb_cells[i].input_prompt_number == nbb_cell_id) {\n",
       "                        if (nbb_cells[i].get_text() == nbb_unformatted_code) {\n",
       "                             nbb_cells[i].set_text(nbb_formatted_code);\n",
       "                        }\n",
       "                        break;\n",
       "                    }\n",
       "                }\n",
       "            }, 500);\n",
       "            "
      ],
      "text/plain": [
       "<IPython.core.display.Javascript object>"
      ]
     },
     "metadata": {},
     "output_type": "display_data"
    }
   ],
   "source": [
    "for i, filename in enumerate(filenames[:]):\n",
    "    print(str(i) + \":  \" + filename)\n",
    "\n",
    "    bboxes = np.array(dataset.get_bboxes_of_image(filename, r_format=\"XYP\"))\n",
    "    utils.show_poly_anno(\n",
    "        os.path.join(path_images, filename),\n",
    "        [bboxes],\n",
    "        [\"Original\"],\n",
    "        False,\n",
    "        (20, 20),\n",
    "        True,\n",
    "        os.path.join(path_axis_aligned_annotation_vis, filename),\n",
    "    )"
   ]
  },
  {
   "cell_type": "markdown",
   "metadata": {},
   "source": [
    "##### Save refined rotated annotations as images"
   ]
  },
  {
   "cell_type": "code",
   "execution_count": 94,
   "metadata": {},
   "outputs": [
    {
     "data": {
      "application/javascript": [
       "\n",
       "            setTimeout(function() {\n",
       "                var nbb_cell_id = 94;\n",
       "                var nbb_unformatted_code = \"def read_xml_rotated(xml_file: str, isSave=False):\\n\\n    tree = ET.parse(xml_file)\\n    root = tree.getroot()\\n\\n    list_with_all_boxes = []\\n\\n    filename = root.find(\\\"filename\\\").text + \\\".png\\\"\\n    print(filename)\\n\\n    for boxes in root.iter(\\\"object\\\"):\\n\\n        cx, cy, w, h, a = None, None, None, None, None\\n\\n        for box in boxes.findall(\\\"robndbox\\\"):\\n            cx = float(box.find(\\\"cx\\\").text)\\n            cy = float(box.find(\\\"cy\\\").text)\\n            w = float(box.find(\\\"w\\\").text)\\n            h = float(box.find(\\\"h\\\").text)\\n            a = float(box.find(\\\"angle\\\").text)\\n\\n            angle_deg = math.degrees(a)\\n\\n            if w < h:\\n                temp = w\\n                w = h\\n                h = temp\\n                angle_deg = (angle_deg + 90) % 180\\n\\n            list_with_single_boxes = [cx, cy, w, h, angle_deg]\\n            list_with_all_boxes.append(list_with_single_boxes)\\n\\n    xyps = []\\n    for cwha in list_with_all_boxes:\\n        xyp = cwha_to_xyp(*cwha).flatten()\\n        xyps.append(xyp)\\n\\n    xyps = np.array(xyps)\\n\\n    if isSave:\\n        image = utils.get_rgb_image(\\n            img_as_float(io.imread(os.path.join(path_images, filename)))\\n        )\\n\\n        utils.show_poly_anno(\\n            os.path.join(path_images, filename),\\n            [np.array(xyps)],\\n            [\\\"Rotated\\\"],\\n            False,\\n            (15, 15),\\n            True,\\n            os.path.join(path_rotated_annotation_vis, filename),\\n        )\\n\\n    return filename, np.array(list_with_all_boxes), xyps\";\n",
       "                var nbb_formatted_code = \"def read_xml_rotated(xml_file: str, isSave=False):\\n\\n    tree = ET.parse(xml_file)\\n    root = tree.getroot()\\n\\n    list_with_all_boxes = []\\n\\n    filename = root.find(\\\"filename\\\").text + \\\".png\\\"\\n    print(filename)\\n\\n    for boxes in root.iter(\\\"object\\\"):\\n\\n        cx, cy, w, h, a = None, None, None, None, None\\n\\n        for box in boxes.findall(\\\"robndbox\\\"):\\n            cx = float(box.find(\\\"cx\\\").text)\\n            cy = float(box.find(\\\"cy\\\").text)\\n            w = float(box.find(\\\"w\\\").text)\\n            h = float(box.find(\\\"h\\\").text)\\n            a = float(box.find(\\\"angle\\\").text)\\n\\n            angle_deg = math.degrees(a)\\n\\n            if w < h:\\n                temp = w\\n                w = h\\n                h = temp\\n                angle_deg = (angle_deg + 90) % 180\\n\\n            list_with_single_boxes = [cx, cy, w, h, angle_deg]\\n            list_with_all_boxes.append(list_with_single_boxes)\\n\\n    xyps = []\\n    for cwha in list_with_all_boxes:\\n        xyp = cwha_to_xyp(*cwha).flatten()\\n        xyps.append(xyp)\\n\\n    xyps = np.array(xyps)\\n\\n    if isSave:\\n        image = utils.get_rgb_image(\\n            img_as_float(io.imread(os.path.join(path_images, filename)))\\n        )\\n\\n        utils.show_poly_anno(\\n            os.path.join(path_images, filename),\\n            [np.array(xyps)],\\n            [\\\"Rotated\\\"],\\n            False,\\n            (15, 15),\\n            True,\\n            os.path.join(path_rotated_annotation_vis, filename),\\n        )\\n\\n    return filename, np.array(list_with_all_boxes), xyps\";\n",
       "                var nbb_cells = Jupyter.notebook.get_cells();\n",
       "                for (var i = 0; i < nbb_cells.length; ++i) {\n",
       "                    if (nbb_cells[i].input_prompt_number == nbb_cell_id) {\n",
       "                        if (nbb_cells[i].get_text() == nbb_unformatted_code) {\n",
       "                             nbb_cells[i].set_text(nbb_formatted_code);\n",
       "                        }\n",
       "                        break;\n",
       "                    }\n",
       "                }\n",
       "            }, 500);\n",
       "            "
      ],
      "text/plain": [
       "<IPython.core.display.Javascript object>"
      ]
     },
     "metadata": {},
     "output_type": "display_data"
    }
   ],
   "source": [
    "def read_xml_rotated(xml_file: str, isSave=False):\n",
    "\n",
    "    tree = ET.parse(xml_file)\n",
    "    root = tree.getroot()\n",
    "\n",
    "    list_with_all_boxes = []\n",
    "\n",
    "    filename = root.find(\"filename\").text + \".png\"\n",
    "    print(filename)\n",
    "\n",
    "    for boxes in root.iter(\"object\"):\n",
    "\n",
    "        cx, cy, w, h, a = None, None, None, None, None\n",
    "\n",
    "        for box in boxes.findall(\"robndbox\"):\n",
    "            cx = float(box.find(\"cx\").text)\n",
    "            cy = float(box.find(\"cy\").text)\n",
    "            w = float(box.find(\"w\").text)\n",
    "            h = float(box.find(\"h\").text)\n",
    "            a = float(box.find(\"angle\").text)\n",
    "\n",
    "            angle_deg = math.degrees(a)\n",
    "\n",
    "            if w < h:\n",
    "                temp = w\n",
    "                w = h\n",
    "                h = temp\n",
    "                angle_deg = (angle_deg + 90) % 180\n",
    "\n",
    "            list_with_single_boxes = [cx, cy, w, h, angle_deg]\n",
    "            list_with_all_boxes.append(list_with_single_boxes)\n",
    "\n",
    "    xyps = []\n",
    "    for cwha in list_with_all_boxes:\n",
    "        xyp = cwha_to_xyp(*cwha).flatten()\n",
    "        xyps.append(xyp)\n",
    "\n",
    "    xyps = np.array(xyps)\n",
    "\n",
    "    if isSave:\n",
    "        image = utils.get_rgb_image(\n",
    "            img_as_float(io.imread(os.path.join(path_images, filename)))\n",
    "        )\n",
    "\n",
    "        utils.show_poly_anno(\n",
    "            os.path.join(path_images, filename),\n",
    "            [np.array(xyps)],\n",
    "            [\"Rotated\"],\n",
    "            False,\n",
    "            (15, 15),\n",
    "            True,\n",
    "            os.path.join(path_rotated_annotation_vis, filename),\n",
    "        )\n",
    "\n",
    "    return filename, np.array(list_with_all_boxes), xyps"
   ]
  },
  {
   "cell_type": "code",
   "execution_count": 95,
   "metadata": {},
   "outputs": [
    {
     "name": "stdout",
     "output_type": "stream",
     "text": [
      "crop_1_crop_0_4745-compressed.png\n",
      "crop_1_crop_0_473-compressed.png\n",
      "crop_1_crop_0_913-compressed.png\n",
      "crop_1_crop_0_747-compressed.png\n",
      "crop_1_crop_0_967-compressed.png\n",
      "crop_1_crop_0_96-compressed.png\n",
      "crop_1_crop_0_4909-compressed.png\n",
      "crop_1_crop_0_98-compressed.png\n",
      "crop_1_crop_0_4760-compressed.png\n",
      "crop_1_crop_0_834-compressed.png\n",
      "crop_1_crop_0_82-compressed.png\n",
      "crop_1_crop_0_698-compressed.png\n",
      "crop_1_crop_0_4855-compressed.png\n",
      "crop_1_crop_0_4955-compressed.png\n",
      "crop_1_crop_0_710-compressed.png\n",
      "crop_1_crop_0_810-compressed.png\n",
      "crop_1_crop_0_964-compressed.png\n",
      "crop_1_crop_0_521-compressed.png\n",
      "crop_1_crop_0_771-compressed.png\n",
      "crop_1_crop_0_905-compressed.png\n"
     ]
    },
    {
     "data": {
      "application/javascript": [
       "\n",
       "            setTimeout(function() {\n",
       "                var nbb_cell_id = 95;\n",
       "                var nbb_unformatted_code = \"for file in os.listdir(path_xml):\\n    name, boxes, xyps = read_xml_rotated(os.path.join(path_xml, file), True)\";\n",
       "                var nbb_formatted_code = \"for file in os.listdir(path_xml):\\n    name, boxes, xyps = read_xml_rotated(os.path.join(path_xml, file), True)\";\n",
       "                var nbb_cells = Jupyter.notebook.get_cells();\n",
       "                for (var i = 0; i < nbb_cells.length; ++i) {\n",
       "                    if (nbb_cells[i].input_prompt_number == nbb_cell_id) {\n",
       "                        if (nbb_cells[i].get_text() == nbb_unformatted_code) {\n",
       "                             nbb_cells[i].set_text(nbb_formatted_code);\n",
       "                        }\n",
       "                        break;\n",
       "                    }\n",
       "                }\n",
       "            }, 500);\n",
       "            "
      ],
      "text/plain": [
       "<IPython.core.display.Javascript object>"
      ]
     },
     "metadata": {},
     "output_type": "display_data"
    }
   ],
   "source": [
    "for file in os.listdir(path_xml):\n",
    "    name, boxes, xyps = read_xml_rotated(os.path.join(path_xml, file), True)"
   ]
  },
  {
   "cell_type": "markdown",
   "metadata": {},
   "source": [
    "#### Save rotated annotations as json and csv"
   ]
  },
  {
   "cell_type": "code",
   "execution_count": 96,
   "metadata": {},
   "outputs": [
    {
     "data": {
      "application/javascript": [
       "\n",
       "            setTimeout(function() {\n",
       "                var nbb_cell_id = 96;\n",
       "                var nbb_unformatted_code = \"fname_im_id = dataset.get_file_name_image_id_pair()\";\n",
       "                var nbb_formatted_code = \"fname_im_id = dataset.get_file_name_image_id_pair()\";\n",
       "                var nbb_cells = Jupyter.notebook.get_cells();\n",
       "                for (var i = 0; i < nbb_cells.length; ++i) {\n",
       "                    if (nbb_cells[i].input_prompt_number == nbb_cell_id) {\n",
       "                        if (nbb_cells[i].get_text() == nbb_unformatted_code) {\n",
       "                             nbb_cells[i].set_text(nbb_formatted_code);\n",
       "                        }\n",
       "                        break;\n",
       "                    }\n",
       "                }\n",
       "            }, 500);\n",
       "            "
      ],
      "text/plain": [
       "<IPython.core.display.Javascript object>"
      ]
     },
     "metadata": {},
     "output_type": "display_data"
    }
   ],
   "source": [
    "fname_im_id = dataset.get_file_name_image_id_pair()"
   ]
  },
  {
   "cell_type": "code",
   "execution_count": 97,
   "metadata": {},
   "outputs": [
    {
     "data": {
      "application/javascript": [
       "\n",
       "            setTimeout(function() {\n",
       "                var nbb_cell_id = 97;\n",
       "                var nbb_unformatted_code = \"data_dict = {\\n    \\\"images\\\": list(dataset._images.values()),\\n    \\\"categories\\\": list(dataset._categories.values()),\\n    \\\"annotations\\\": [],\\n}\";\n",
       "                var nbb_formatted_code = \"data_dict = {\\n    \\\"images\\\": list(dataset._images.values()),\\n    \\\"categories\\\": list(dataset._categories.values()),\\n    \\\"annotations\\\": [],\\n}\";\n",
       "                var nbb_cells = Jupyter.notebook.get_cells();\n",
       "                for (var i = 0; i < nbb_cells.length; ++i) {\n",
       "                    if (nbb_cells[i].input_prompt_number == nbb_cell_id) {\n",
       "                        if (nbb_cells[i].get_text() == nbb_unformatted_code) {\n",
       "                             nbb_cells[i].set_text(nbb_formatted_code);\n",
       "                        }\n",
       "                        break;\n",
       "                    }\n",
       "                }\n",
       "            }, 500);\n",
       "            "
      ],
      "text/plain": [
       "<IPython.core.display.Javascript object>"
      ]
     },
     "metadata": {},
     "output_type": "display_data"
    }
   ],
   "source": [
    "data_dict = {\n",
    "    \"images\": list(dataset._images.values()),\n",
    "    \"categories\": list(dataset._categories.values()),\n",
    "    \"annotations\": [],\n",
    "}"
   ]
  },
  {
   "cell_type": "code",
   "execution_count": 98,
   "metadata": {},
   "outputs": [
    {
     "name": "stdout",
     "output_type": "stream",
     "text": [
      "crop_1_crop_0_905-compressed.png\n",
      "crop_1_crop_0_4745-compressed.png\n",
      "crop_1_crop_0_473-compressed.png\n",
      "crop_1_crop_0_964-compressed.png\n",
      "crop_1_crop_0_4760-compressed.png\n",
      "crop_1_crop_0_4955-compressed.png\n",
      "crop_1_crop_0_698-compressed.png\n",
      "crop_1_crop_0_82-compressed.png\n",
      "crop_1_crop_0_967-compressed.png\n",
      "crop_1_crop_0_913-compressed.png\n",
      "crop_1_crop_0_98-compressed.png\n",
      "crop_1_crop_0_96-compressed.png\n",
      "crop_1_crop_0_710-compressed.png\n",
      "crop_1_crop_0_4909-compressed.png\n",
      "crop_1_crop_0_771-compressed.png\n",
      "crop_1_crop_0_521-compressed.png\n",
      "crop_1_crop_0_747-compressed.png\n",
      "crop_1_crop_0_810-compressed.png\n",
      "crop_1_crop_0_834-compressed.png\n",
      "crop_1_crop_0_4855-compressed.png\n"
     ]
    },
    {
     "data": {
      "application/javascript": [
       "\n",
       "            setTimeout(function() {\n",
       "                var nbb_cell_id = 98;\n",
       "                var nbb_unformatted_code = \"inst_count = 1\\nanns = []\\ndf_rows = []\\n\\nfor file in filenames[:]:\\n    name, b_cwha, b_xyp = read_xml_rotated(os.path.join(path_xml, file[:-4] + \\\".xml\\\"))\\n\\n    for i, p in enumerate(b_xyp[:]):\\n\\n        df_rows.append([file, *b_cwha[i].astype(int), *p.astype(int)])\\n\\n        poly = list(map(tuple, temp.reshape(-1, 2)))\\n\\n        gtpoly = shgeo.Polygon(poly)\\n        poly = list(map(int, p))\\n\\n        xmin, ymin, xmax, ymax = (\\n            min(poly[0::2]),\\n            min(poly[1::2]),\\n            max(poly[0::2]),\\n            max(poly[1::2]),\\n        )\\n\\n        width, height = xmax - xmin, ymax - ymin\\n\\n        single_obj = {}\\n        single_obj[\\\"category_id\\\"] = 1\\n        single_obj[\\\"image_id\\\"] = fname_im_id[file]\\n        single_obj[\\\"id\\\"] = inst_count\\n        single_obj[\\\"area\\\"] = int(gtpoly.area)\\n        single_obj[\\\"segmentation\\\"] = [poly]\\n        single_obj[\\\"iscrowd\\\"] = 0\\n        single_obj[\\\"bbox\\\"] = [xmin, ymin, width, height]\\n\\n        data_dict[\\\"annotations\\\"].append(single_obj)\\n        inst_count = inst_count + 1\";\n",
       "                var nbb_formatted_code = \"inst_count = 1\\nanns = []\\ndf_rows = []\\n\\nfor file in filenames[:]:\\n    name, b_cwha, b_xyp = read_xml_rotated(os.path.join(path_xml, file[:-4] + \\\".xml\\\"))\\n\\n    for i, p in enumerate(b_xyp[:]):\\n\\n        df_rows.append([file, *b_cwha[i].astype(int), *p.astype(int)])\\n\\n        poly = list(map(tuple, temp.reshape(-1, 2)))\\n\\n        gtpoly = shgeo.Polygon(poly)\\n        poly = list(map(int, p))\\n\\n        xmin, ymin, xmax, ymax = (\\n            min(poly[0::2]),\\n            min(poly[1::2]),\\n            max(poly[0::2]),\\n            max(poly[1::2]),\\n        )\\n\\n        width, height = xmax - xmin, ymax - ymin\\n\\n        single_obj = {}\\n        single_obj[\\\"category_id\\\"] = 1\\n        single_obj[\\\"image_id\\\"] = fname_im_id[file]\\n        single_obj[\\\"id\\\"] = inst_count\\n        single_obj[\\\"area\\\"] = int(gtpoly.area)\\n        single_obj[\\\"segmentation\\\"] = [poly]\\n        single_obj[\\\"iscrowd\\\"] = 0\\n        single_obj[\\\"bbox\\\"] = [xmin, ymin, width, height]\\n\\n        data_dict[\\\"annotations\\\"].append(single_obj)\\n        inst_count = inst_count + 1\";\n",
       "                var nbb_cells = Jupyter.notebook.get_cells();\n",
       "                for (var i = 0; i < nbb_cells.length; ++i) {\n",
       "                    if (nbb_cells[i].input_prompt_number == nbb_cell_id) {\n",
       "                        if (nbb_cells[i].get_text() == nbb_unformatted_code) {\n",
       "                             nbb_cells[i].set_text(nbb_formatted_code);\n",
       "                        }\n",
       "                        break;\n",
       "                    }\n",
       "                }\n",
       "            }, 500);\n",
       "            "
      ],
      "text/plain": [
       "<IPython.core.display.Javascript object>"
      ]
     },
     "metadata": {},
     "output_type": "display_data"
    }
   ],
   "source": [
    "inst_count = 1\n",
    "anns = []\n",
    "df_rows = []\n",
    "\n",
    "for file in filenames[:]:\n",
    "    name, b_cwha, b_xyp = read_xml_rotated(os.path.join(path_xml, file[:-4] + \".xml\"))\n",
    "\n",
    "    for i, p in enumerate(b_xyp[:]):\n",
    "\n",
    "        df_rows.append([file, *b_cwha[i].astype(int), *p.astype(int)])\n",
    "\n",
    "        poly = list(map(tuple, temp.reshape(-1, 2)))\n",
    "\n",
    "        gtpoly = shgeo.Polygon(poly)\n",
    "        poly = list(map(int, p))\n",
    "\n",
    "        xmin, ymin, xmax, ymax = (\n",
    "            min(poly[0::2]),\n",
    "            min(poly[1::2]),\n",
    "            max(poly[0::2]),\n",
    "            max(poly[1::2]),\n",
    "        )\n",
    "\n",
    "        width, height = xmax - xmin, ymax - ymin\n",
    "\n",
    "        single_obj = {}\n",
    "        single_obj[\"category_id\"] = 1\n",
    "        single_obj[\"image_id\"] = fname_im_id[file]\n",
    "        single_obj[\"id\"] = inst_count\n",
    "        single_obj[\"area\"] = int(gtpoly.area)\n",
    "        single_obj[\"segmentation\"] = [poly]\n",
    "        single_obj[\"iscrowd\"] = 0\n",
    "        single_obj[\"bbox\"] = [xmin, ymin, width, height]\n",
    "\n",
    "        data_dict[\"annotations\"].append(single_obj)\n",
    "        inst_count = inst_count + 1"
   ]
  },
  {
   "cell_type": "code",
   "execution_count": 99,
   "metadata": {},
   "outputs": [
    {
     "data": {
      "application/javascript": [
       "\n",
       "            setTimeout(function() {\n",
       "                var nbb_cell_id = 99;\n",
       "                var nbb_unformatted_code = \"# save as json\\nmmcv.dump(\\n    data_dict, os.path.join(path_splits, dataset_type + \\\"/r_\\\" + dataset_type + \\\".json\\\")\\n)\";\n",
       "                var nbb_formatted_code = \"# save as json\\nmmcv.dump(\\n    data_dict, os.path.join(path_splits, dataset_type + \\\"/r_\\\" + dataset_type + \\\".json\\\")\\n)\";\n",
       "                var nbb_cells = Jupyter.notebook.get_cells();\n",
       "                for (var i = 0; i < nbb_cells.length; ++i) {\n",
       "                    if (nbb_cells[i].input_prompt_number == nbb_cell_id) {\n",
       "                        if (nbb_cells[i].get_text() == nbb_unformatted_code) {\n",
       "                             nbb_cells[i].set_text(nbb_formatted_code);\n",
       "                        }\n",
       "                        break;\n",
       "                    }\n",
       "                }\n",
       "            }, 500);\n",
       "            "
      ],
      "text/plain": [
       "<IPython.core.display.Javascript object>"
      ]
     },
     "metadata": {},
     "output_type": "display_data"
    }
   ],
   "source": [
    "# save as json\n",
    "mmcv.dump(\n",
    "    data_dict, os.path.join(path_splits, dataset_type + \"/r_\" + dataset_type + \".json\")\n",
    ")"
   ]
  },
  {
   "cell_type": "code",
   "execution_count": 100,
   "metadata": {},
   "outputs": [
    {
     "data": {
      "application/javascript": [
       "\n",
       "            setTimeout(function() {\n",
       "                var nbb_cell_id = 100;\n",
       "                var nbb_unformatted_code = \"df = pd.DataFrame(\\n    np.array(df_rows),\\n    columns=[\\n        \\\"filename\\\",\\n        \\\"cx\\\",\\n        \\\"cy\\\",\\n        \\\"w\\\",\\n        \\\"h\\\",\\n        \\\"a\\\",\\n        \\\"x1\\\",\\n        \\\"y1\\\",\\n        \\\"x2\\\",\\n        \\\"y2\\\",\\n        \\\"x3\\\",\\n        \\\"y3\\\",\\n        \\\"x4\\\",\\n        \\\"y4\\\",\\n    ],\\n)\\ndf.to_csv(os.path.join(path_splits, dataset_type + \\\"/r_\\\" + dataset_type + \\\".csv\\\"))\";\n",
       "                var nbb_formatted_code = \"df = pd.DataFrame(\\n    np.array(df_rows),\\n    columns=[\\n        \\\"filename\\\",\\n        \\\"cx\\\",\\n        \\\"cy\\\",\\n        \\\"w\\\",\\n        \\\"h\\\",\\n        \\\"a\\\",\\n        \\\"x1\\\",\\n        \\\"y1\\\",\\n        \\\"x2\\\",\\n        \\\"y2\\\",\\n        \\\"x3\\\",\\n        \\\"y3\\\",\\n        \\\"x4\\\",\\n        \\\"y4\\\",\\n    ],\\n)\\ndf.to_csv(os.path.join(path_splits, dataset_type + \\\"/r_\\\" + dataset_type + \\\".csv\\\"))\";\n",
       "                var nbb_cells = Jupyter.notebook.get_cells();\n",
       "                for (var i = 0; i < nbb_cells.length; ++i) {\n",
       "                    if (nbb_cells[i].input_prompt_number == nbb_cell_id) {\n",
       "                        if (nbb_cells[i].get_text() == nbb_unformatted_code) {\n",
       "                             nbb_cells[i].set_text(nbb_formatted_code);\n",
       "                        }\n",
       "                        break;\n",
       "                    }\n",
       "                }\n",
       "            }, 500);\n",
       "            "
      ],
      "text/plain": [
       "<IPython.core.display.Javascript object>"
      ]
     },
     "metadata": {},
     "output_type": "display_data"
    }
   ],
   "source": [
    "df = pd.DataFrame(\n",
    "    np.array(df_rows),\n",
    "    columns=[\n",
    "        \"filename\",\n",
    "        \"cx\",\n",
    "        \"cy\",\n",
    "        \"w\",\n",
    "        \"h\",\n",
    "        \"a\",\n",
    "        \"x1\",\n",
    "        \"y1\",\n",
    "        \"x2\",\n",
    "        \"y2\",\n",
    "        \"x3\",\n",
    "        \"y3\",\n",
    "        \"x4\",\n",
    "        \"y4\",\n",
    "    ],\n",
    ")\n",
    "df.to_csv(os.path.join(path_splits, dataset_type + \"/r_\" + dataset_type + \".csv\"))"
   ]
  },
  {
   "cell_type": "code",
   "execution_count": null,
   "metadata": {},
   "outputs": [],
   "source": []
  }
 ],
 "metadata": {
  "kernelspec": {
   "display_name": "Python 3",
   "language": "python",
   "name": "python3"
  },
  "language_info": {
   "codemirror_mode": {
    "name": "ipython",
    "version": 3
   },
   "file_extension": ".py",
   "mimetype": "text/x-python",
   "name": "python",
   "nbconvert_exporter": "python",
   "pygments_lexer": "ipython3",
   "version": "3.7.4"
  }
 },
 "nbformat": 4,
 "nbformat_minor": 2
}
