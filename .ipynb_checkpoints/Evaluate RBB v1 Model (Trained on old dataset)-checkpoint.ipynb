{
 "cells": [
  {
   "cell_type": "code",
   "execution_count": 14,
   "metadata": {},
   "outputs": [],
   "source": [
    "import os\n",
    "import cv2\n",
    "import pandas as pd\n",
    "import numpy as np\n",
    "import matplotlib.pyplot as plt\n",
    "import matplotlib.patches as patches\n",
    "from sklearn.metrics import r2_score\n",
    "from IPython.display import display, HTML\n",
    "\n",
    "import sys\n",
    "sys.path.append('/home/badhon/Documents/thesis/thesis-codes/')\n",
    "from helpers import utils\n",
    "from helpers import evaluation\n",
    "from classes.WheatDataset import WheatDataset\n",
    "from classes.Evaluator import Evaluator\n",
    "\n",
    "%matplotlib inline"
   ]
  },
  {
   "cell_type": "markdown",
   "metadata": {},
   "source": [
    "#### Define some paths"
   ]
  },
  {
   "cell_type": "code",
   "execution_count": 15,
   "metadata": {},
   "outputs": [],
   "source": [
    "path_config = '/home/badhon/Documents/thesis/AerialDetection/configs/my/faster_rcnn_RoITrans_r50_fpn_1x_dota1_5.py'\n",
    "path_work_dir = '/home/badhon/Documents/thesis/AerialDetection/work_dirs/faster_rcnn_RoITrans_r50_fpn_1x_dota1_5_v3'\n",
    "\n",
    "path_images = \"/home/badhon/Documents/thesis/Data and Scripts from AL/global-WHEAT-final/train/usas_minipam/\"\n",
    "path_splits = \"/home/badhon/Documents/thesis/AerialDetection/data/wheat_competition/\"\n",
    "path_test_images = path_splits + 'test/images/'\n",
    "\n",
    "path_old_test_rbb_gt = (\n",
    "    \"/home/badhon/Documents/thesis/AerialDetection/data/wheat/test/test_dota.csv\"\n",
    ")"
   ]
  },
  {
   "cell_type": "markdown",
   "metadata": {},
   "source": [
    "## Evaluate RBB Model (Epoch 2000) Against RBB Ground Truth"
   ]
  },
  {
   "cell_type": "markdown",
   "metadata": {},
   "source": [
    "#### Get rotated bounding boxes (ground truth)"
   ]
  },
  {
   "cell_type": "code",
   "execution_count": 16,
   "metadata": {},
   "outputs": [],
   "source": [
    "df_rbb = pd.read_csv(path_old_test_rbb_gt)"
   ]
  },
  {
   "cell_type": "code",
   "execution_count": 17,
   "metadata": {},
   "outputs": [],
   "source": [
    "all_rgts_old = {}\n",
    "for filename in os.listdir(path_test_images)[:]:\n",
    "    all_rgts_old[filename] = df_rbb[df_rbb['filename'] == filename].to_numpy()[:,2:]"
   ]
  },
  {
   "cell_type": "markdown",
   "metadata": {},
   "source": [
    "#### Evaluate the model against rotated GTs from old dataset"
   ]
  },
  {
   "cell_type": "code",
   "execution_count": 18,
   "metadata": {},
   "outputs": [],
   "source": [
    "rbb_evaluator = Evaluator(path_config, path_work_dir, 2000)"
   ]
  },
  {
   "cell_type": "code",
   "execution_count": 19,
   "metadata": {},
   "outputs": [],
   "source": [
    "eval_res = rbb_evaluator.evaluate_image_folder(path_test_images, None, all_rgts_old)"
   ]
  },
  {
   "cell_type": "code",
   "execution_count": 20,
   "metadata": {},
   "outputs": [
    {
     "name": "stdout",
     "output_type": "stream",
     "text": [
      "Evaluation of RBB Model Against OLD Test Dataset (RBB GT): \n",
      "tp:  445\n",
      "fp:  80\n",
      "fn:  137\n",
      "gt:  582\n",
      "ap:  0.7271094482299604\n"
     ]
    }
   ],
   "source": [
    "print(\"Evaluation of RBB Model Against OLD Test Dataset (RBB GT): \")\n",
    "rbb_evaluator.print_summary(eval_res)"
   ]
  },
  {
   "cell_type": "code",
   "execution_count": 21,
   "metadata": {},
   "outputs": [
    {
     "data": {
      "image/png": "[encoded data removed]",
      "text/plain": [
       "<Figure size 432x288 with 1 Axes>"
      ]
     },
     "metadata": {
      "needs_background": "light"
     },
     "output_type": "display_data"
    }
   ],
   "source": [
    "utils.draw_plot_xy(eval_res['rec'], eval_res['prec'], \"Precision-Recall Curve: RBB old GT\")"
   ]
  },
  {
   "cell_type": "markdown",
   "metadata": {},
   "source": [
    "#### Check evaluation result per image against old rotated ground truths"
   ]
  },
  {
   "cell_type": "code",
   "execution_count": 22,
   "metadata": {},
   "outputs": [],
   "source": [
    "rows = []\n",
    "\n",
    "for filename in os.listdir(path_test_images)[:]:\n",
    "    res = rbb_evaluator.evaluate_single_image(os.path.join(path_test_images, filename), all_rgts_old[filename])\n",
    "    rows.append([filename, len(all_rgts_old[filename]), res['tp'], res['fp'], res['fn']])\n",
    "    \n",
    "df_result = pd.DataFrame(np.array(rows), columns=['filename', 'gt', 'tp', 'fp', 'fn'])"
   ]
  },
  {
   "cell_type": "code",
   "execution_count": 23,
   "metadata": {},
   "outputs": [
    {
     "name": "stdout",
     "output_type": "stream",
     "text": [
      "Result of rotated old dataset (per image)\n"
     ]
    },
    {
     "data": {
      "text/html": [
       "<div>\n",
       "<style scoped>\n",
       "    .dataframe tbody tr th:only-of-type {\n",
       "        vertical-align: middle;\n",
       "    }\n",
       "\n",
       "    .dataframe tbody tr th {\n",
       "        vertical-align: top;\n",
       "    }\n",
       "\n",
       "    .dataframe thead th {\n",
       "        text-align: right;\n",
       "    }\n",
       "</style>\n",
       "<table border=\"1\" class=\"dataframe\">\n",
       "  <thead>\n",
       "    <tr style=\"text-align: right;\">\n",
       "      <th></th>\n",
       "      <th>filename</th>\n",
       "      <th>gt</th>\n",
       "      <th>tp</th>\n",
       "      <th>fp</th>\n",
       "      <th>fn</th>\n",
       "    </tr>\n",
       "  </thead>\n",
       "  <tbody>\n",
       "    <tr>\n",
       "      <th>0</th>\n",
       "      <td>crop_1_crop_0_4955-compressed.png</td>\n",
       "      <td>32</td>\n",
       "      <td>24</td>\n",
       "      <td>5</td>\n",
       "      <td>8</td>\n",
       "    </tr>\n",
       "    <tr>\n",
       "      <th>1</th>\n",
       "      <td>crop_1_crop_0_964-compressed.png</td>\n",
       "      <td>16</td>\n",
       "      <td>14</td>\n",
       "      <td>1</td>\n",
       "      <td>2</td>\n",
       "    </tr>\n",
       "    <tr>\n",
       "      <th>2</th>\n",
       "      <td>crop_1_crop_0_747-compressed.png</td>\n",
       "      <td>23</td>\n",
       "      <td>13</td>\n",
       "      <td>6</td>\n",
       "      <td>10</td>\n",
       "    </tr>\n",
       "    <tr>\n",
       "      <th>3</th>\n",
       "      <td>crop_1_crop_0_96-compressed.png</td>\n",
       "      <td>37</td>\n",
       "      <td>29</td>\n",
       "      <td>4</td>\n",
       "      <td>8</td>\n",
       "    </tr>\n",
       "    <tr>\n",
       "      <th>4</th>\n",
       "      <td>crop_1_crop_0_905-compressed.png</td>\n",
       "      <td>38</td>\n",
       "      <td>27</td>\n",
       "      <td>3</td>\n",
       "      <td>11</td>\n",
       "    </tr>\n",
       "    <tr>\n",
       "      <th>5</th>\n",
       "      <td>crop_1_crop_0_698-compressed.png</td>\n",
       "      <td>20</td>\n",
       "      <td>17</td>\n",
       "      <td>3</td>\n",
       "      <td>3</td>\n",
       "    </tr>\n",
       "    <tr>\n",
       "      <th>6</th>\n",
       "      <td>crop_1_crop_0_4760-compressed.png</td>\n",
       "      <td>32</td>\n",
       "      <td>27</td>\n",
       "      <td>3</td>\n",
       "      <td>5</td>\n",
       "    </tr>\n",
       "    <tr>\n",
       "      <th>7</th>\n",
       "      <td>crop_1_crop_0_82-compressed.png</td>\n",
       "      <td>43</td>\n",
       "      <td>30</td>\n",
       "      <td>7</td>\n",
       "      <td>13</td>\n",
       "    </tr>\n",
       "    <tr>\n",
       "      <th>8</th>\n",
       "      <td>crop_1_crop_0_771-compressed.png</td>\n",
       "      <td>22</td>\n",
       "      <td>16</td>\n",
       "      <td>8</td>\n",
       "      <td>6</td>\n",
       "    </tr>\n",
       "    <tr>\n",
       "      <th>9</th>\n",
       "      <td>crop_1_crop_0_98-compressed.png</td>\n",
       "      <td>15</td>\n",
       "      <td>14</td>\n",
       "      <td>3</td>\n",
       "      <td>1</td>\n",
       "    </tr>\n",
       "    <tr>\n",
       "      <th>10</th>\n",
       "      <td>crop_1_crop_0_710-compressed.png</td>\n",
       "      <td>27</td>\n",
       "      <td>23</td>\n",
       "      <td>1</td>\n",
       "      <td>4</td>\n",
       "    </tr>\n",
       "    <tr>\n",
       "      <th>11</th>\n",
       "      <td>crop_1_crop_0_810-compressed.png</td>\n",
       "      <td>34</td>\n",
       "      <td>26</td>\n",
       "      <td>5</td>\n",
       "      <td>8</td>\n",
       "    </tr>\n",
       "    <tr>\n",
       "      <th>12</th>\n",
       "      <td>crop_1_crop_0_4855-compressed.png</td>\n",
       "      <td>31</td>\n",
       "      <td>26</td>\n",
       "      <td>3</td>\n",
       "      <td>5</td>\n",
       "    </tr>\n",
       "    <tr>\n",
       "      <th>13</th>\n",
       "      <td>crop_1_crop_0_473-compressed.png</td>\n",
       "      <td>42</td>\n",
       "      <td>31</td>\n",
       "      <td>5</td>\n",
       "      <td>11</td>\n",
       "    </tr>\n",
       "    <tr>\n",
       "      <th>14</th>\n",
       "      <td>crop_1_crop_0_967-compressed.png</td>\n",
       "      <td>24</td>\n",
       "      <td>16</td>\n",
       "      <td>7</td>\n",
       "      <td>8</td>\n",
       "    </tr>\n",
       "    <tr>\n",
       "      <th>15</th>\n",
       "      <td>crop_1_crop_0_521-compressed.png</td>\n",
       "      <td>22</td>\n",
       "      <td>16</td>\n",
       "      <td>4</td>\n",
       "      <td>6</td>\n",
       "    </tr>\n",
       "    <tr>\n",
       "      <th>16</th>\n",
       "      <td>crop_1_crop_0_913-compressed.png</td>\n",
       "      <td>22</td>\n",
       "      <td>20</td>\n",
       "      <td>0</td>\n",
       "      <td>2</td>\n",
       "    </tr>\n",
       "    <tr>\n",
       "      <th>17</th>\n",
       "      <td>crop_1_crop_0_4909-compressed.png</td>\n",
       "      <td>48</td>\n",
       "      <td>37</td>\n",
       "      <td>6</td>\n",
       "      <td>11</td>\n",
       "    </tr>\n",
       "    <tr>\n",
       "      <th>18</th>\n",
       "      <td>crop_1_crop_0_4745-compressed.png</td>\n",
       "      <td>19</td>\n",
       "      <td>15</td>\n",
       "      <td>3</td>\n",
       "      <td>4</td>\n",
       "    </tr>\n",
       "    <tr>\n",
       "      <th>19</th>\n",
       "      <td>crop_1_crop_0_834-compressed.png</td>\n",
       "      <td>35</td>\n",
       "      <td>24</td>\n",
       "      <td>3</td>\n",
       "      <td>11</td>\n",
       "    </tr>\n",
       "  </tbody>\n",
       "</table>\n",
       "</div>"
      ],
      "text/plain": [
       "                             filename  gt  tp fp  fn\n",
       "0   crop_1_crop_0_4955-compressed.png  32  24  5   8\n",
       "1    crop_1_crop_0_964-compressed.png  16  14  1   2\n",
       "2    crop_1_crop_0_747-compressed.png  23  13  6  10\n",
       "3     crop_1_crop_0_96-compressed.png  37  29  4   8\n",
       "4    crop_1_crop_0_905-compressed.png  38  27  3  11\n",
       "5    crop_1_crop_0_698-compressed.png  20  17  3   3\n",
       "6   crop_1_crop_0_4760-compressed.png  32  27  3   5\n",
       "7     crop_1_crop_0_82-compressed.png  43  30  7  13\n",
       "8    crop_1_crop_0_771-compressed.png  22  16  8   6\n",
       "9     crop_1_crop_0_98-compressed.png  15  14  3   1\n",
       "10   crop_1_crop_0_710-compressed.png  27  23  1   4\n",
       "11   crop_1_crop_0_810-compressed.png  34  26  5   8\n",
       "12  crop_1_crop_0_4855-compressed.png  31  26  3   5\n",
       "13   crop_1_crop_0_473-compressed.png  42  31  5  11\n",
       "14   crop_1_crop_0_967-compressed.png  24  16  7   8\n",
       "15   crop_1_crop_0_521-compressed.png  22  16  4   6\n",
       "16   crop_1_crop_0_913-compressed.png  22  20  0   2\n",
       "17  crop_1_crop_0_4909-compressed.png  48  37  6  11\n",
       "18  crop_1_crop_0_4745-compressed.png  19  15  3   4\n",
       "19   crop_1_crop_0_834-compressed.png  35  24  3  11"
      ]
     },
     "metadata": {},
     "output_type": "display_data"
    }
   ],
   "source": [
    "print(\"Result of rotated old dataset (per image)\")\n",
    "display(df_result)"
   ]
  },
  {
   "cell_type": "markdown",
   "metadata": {},
   "source": [
    "#### R2 Score Calculation"
   ]
  },
  {
   "cell_type": "code",
   "execution_count": 24,
   "metadata": {},
   "outputs": [],
   "source": [
    "# y_true = df_result['gt'].to_numpy().astype(int)\n",
    "# y_pred = df_result['tp'].to_numpy().astype(int) + df_result['fp'].to_numpy().astype(int)\n",
    "\n",
    "# r2_scr = r2_score(y_true, y_pred)\n",
    "# print(\"R2 Score (Against Old RBB GT): \", r2_scr)"
   ]
  },
  {
   "cell_type": "code",
   "execution_count": null,
   "metadata": {},
   "outputs": [],
   "source": []
  }
 ],
 "metadata": {
  "kernelspec": {
   "display_name": "Python 3",
   "language": "python",
   "name": "python3"
  },
  "language_info": {
   "codemirror_mode": {
    "name": "ipython",
    "version": 3
   },
   "file_extension": ".py",
   "mimetype": "text/x-python",
   "name": "python",
   "nbconvert_exporter": "python",
   "pygments_lexer": "ipython3",
   "version": "3.7.6"
  }
 },
 "nbformat": 4,
 "nbformat_minor": 4
}
